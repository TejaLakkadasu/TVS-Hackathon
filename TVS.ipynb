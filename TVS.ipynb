{
  "cells": [
    {
      "cell_type": "markdown",
      "id": "60d76bb2",
      "metadata": {
        "id": "60d76bb2"
      },
      "source": [
        "## Please follow the below structure while attempting the hackathon, make sure to submit the jupyter file as well for every submission you are making.\n",
        "\n",
        "## Please answer the descriptive question in the Jupyter Notebook Itself. This is going to carry more weightage in the final evaluation."
      ]
    },
    {
      "cell_type": "markdown",
      "id": "15026c5a",
      "metadata": {
        "id": "15026c5a"
      },
      "source": [
        "## Importing Necessary Libraries"
      ]
    },
    {
      "cell_type": "code",
      "execution_count": 225,
      "id": "9c51994a",
      "metadata": {
        "id": "9c51994a"
      },
      "outputs": [],
      "source": [
        "import numpy as np\n",
        "import pandas as pd\n",
        "import seaborn as sns\n",
        "import matplotlib.pyplot as plt"
      ]
    },
    {
      "cell_type": "markdown",
      "id": "48d76054",
      "metadata": {
        "id": "48d76054"
      },
      "source": [
        "## 1 Data Cleaning"
      ]
    },
    {
      "cell_type": "markdown",
      "id": "aa07476f",
      "metadata": {
        "id": "aa07476f"
      },
      "source": [
        "In this section you can do all the Data cleaning part of all necessary imputations and treatments\n",
        "\n",
        "\n",
        "\n",
        "\n",
        "\n",
        "\n",
        "\n",
        "\n",
        "\n",
        "\n",
        "\n",
        "\n",
        "\n",
        "\n",
        "\n",
        "\n",
        "\n",
        "\n",
        "\n",
        "\n",
        "\n"
      ]
    },
    {
      "cell_type": "code",
      "source": [
        "from google.colab import drive \n",
        "drive.mount('/content/gdrive')"
      ],
      "metadata": {
        "id": "PmqXzAVsJvaC",
        "colab": {
          "base_uri": "https://localhost:8080/"
        },
        "outputId": "f02d75bd-cd3e-4e47-ad2e-f1c1a181608b"
      },
      "id": "PmqXzAVsJvaC",
      "execution_count": 226,
      "outputs": [
        {
          "output_type": "stream",
          "name": "stdout",
          "text": [
            "Drive already mounted at /content/gdrive; to attempt to forcibly remount, call drive.mount(\"/content/gdrive\", force_remount=True).\n"
          ]
        }
      ]
    },
    {
      "cell_type": "code",
      "source": [
        "train=pd.read_csv('gdrive/My Drive/Hackathon/TVS/Train_Set_TVS.csv')\n",
        "train.head()"
      ],
      "metadata": {
        "id": "arrn_2JjJvXE",
        "colab": {
          "base_uri": "https://localhost:8080/",
          "height": 299
        },
        "outputId": "734dba23-d06b-4ced-ca0a-20a2c5a7dcdf"
      },
      "id": "arrn_2JjJvXE",
      "execution_count": 227,
      "outputs": [
        {
          "output_type": "execute_result",
          "data": {
            "text/plain": [
              "       ID  Compensation Vehicle_Status  Loan_amt  Annuity_amt  density_Ind  \\\n",
              "0  540071      801850.0              Y  658040.0     13816.52       0.0304   \n",
              "1  511643      884222.0              N  198075.0     11173.06       0.0194   \n",
              "2  506688      284120.0              N  101056.0      8390.40       0.0118   \n",
              "3  499360      341874.0              N  179008.0      7184.13       0.0373   \n",
              "4  438350     1259895.0              Y  573715.0     13212.77       0.0138   \n",
              "\n",
              "  Job_Type Default_hist     Prop_List  Home_Appliances  ... Region   Age  \\\n",
              "0       IT          ndf  Morethan_One              NaN  ...   East  46.0   \n",
              "1       IT          ndf  Morethan_One              1.0  ...  North  46.0   \n",
              "2    Govt.          ndf           One              4.0  ...  North  57.0   \n",
              "3   Non-IT           df          None              2.0  ...  South  39.0   \n",
              "4   Non-IT          ndf  Morethan_One              1.0  ...  North  32.0   \n",
              "\n",
              "  hour_Process Addr_permanent Permanent_Addr_tag c1_rated  c2_rated  \\\n",
              "0         10.0            Yes                 No    0.077     0.077   \n",
              "1         12.0            Yes                Yes    0.184     0.184   \n",
              "2          5.0            Yes                Yes    0.538     0.538   \n",
              "3         12.0            Yes                Yes      NaN     0.561   \n",
              "4         16.0            Yes                Yes      NaN     0.200   \n",
              "\n",
              "  Contact_age Product_bought Default  \n",
              "0        18.0            2.0     1.0  \n",
              "1       306.0            4.0     0.0  \n",
              "2       281.0            4.0     0.0  \n",
              "3        20.0            4.0     0.0  \n",
              "4      2339.0            6.0     0.0  \n",
              "\n",
              "[5 rows x 33 columns]"
            ],
            "text/html": [
              "\n",
              "  <div id=\"df-40349919-1436-4a68-8ef8-f81679195001\">\n",
              "    <div class=\"colab-df-container\">\n",
              "      <div>\n",
              "<style scoped>\n",
              "    .dataframe tbody tr th:only-of-type {\n",
              "        vertical-align: middle;\n",
              "    }\n",
              "\n",
              "    .dataframe tbody tr th {\n",
              "        vertical-align: top;\n",
              "    }\n",
              "\n",
              "    .dataframe thead th {\n",
              "        text-align: right;\n",
              "    }\n",
              "</style>\n",
              "<table border=\"1\" class=\"dataframe\">\n",
              "  <thead>\n",
              "    <tr style=\"text-align: right;\">\n",
              "      <th></th>\n",
              "      <th>ID</th>\n",
              "      <th>Compensation</th>\n",
              "      <th>Vehicle_Status</th>\n",
              "      <th>Loan_amt</th>\n",
              "      <th>Annuity_amt</th>\n",
              "      <th>density_Ind</th>\n",
              "      <th>Job_Type</th>\n",
              "      <th>Default_hist</th>\n",
              "      <th>Prop_List</th>\n",
              "      <th>Home_Appliances</th>\n",
              "      <th>...</th>\n",
              "      <th>Region</th>\n",
              "      <th>Age</th>\n",
              "      <th>hour_Process</th>\n",
              "      <th>Addr_permanent</th>\n",
              "      <th>Permanent_Addr_tag</th>\n",
              "      <th>c1_rated</th>\n",
              "      <th>c2_rated</th>\n",
              "      <th>Contact_age</th>\n",
              "      <th>Product_bought</th>\n",
              "      <th>Default</th>\n",
              "    </tr>\n",
              "  </thead>\n",
              "  <tbody>\n",
              "    <tr>\n",
              "      <th>0</th>\n",
              "      <td>540071</td>\n",
              "      <td>801850.0</td>\n",
              "      <td>Y</td>\n",
              "      <td>658040.0</td>\n",
              "      <td>13816.52</td>\n",
              "      <td>0.0304</td>\n",
              "      <td>IT</td>\n",
              "      <td>ndf</td>\n",
              "      <td>Morethan_One</td>\n",
              "      <td>NaN</td>\n",
              "      <td>...</td>\n",
              "      <td>East</td>\n",
              "      <td>46.0</td>\n",
              "      <td>10.0</td>\n",
              "      <td>Yes</td>\n",
              "      <td>No</td>\n",
              "      <td>0.077</td>\n",
              "      <td>0.077</td>\n",
              "      <td>18.0</td>\n",
              "      <td>2.0</td>\n",
              "      <td>1.0</td>\n",
              "    </tr>\n",
              "    <tr>\n",
              "      <th>1</th>\n",
              "      <td>511643</td>\n",
              "      <td>884222.0</td>\n",
              "      <td>N</td>\n",
              "      <td>198075.0</td>\n",
              "      <td>11173.06</td>\n",
              "      <td>0.0194</td>\n",
              "      <td>IT</td>\n",
              "      <td>ndf</td>\n",
              "      <td>Morethan_One</td>\n",
              "      <td>1.0</td>\n",
              "      <td>...</td>\n",
              "      <td>North</td>\n",
              "      <td>46.0</td>\n",
              "      <td>12.0</td>\n",
              "      <td>Yes</td>\n",
              "      <td>Yes</td>\n",
              "      <td>0.184</td>\n",
              "      <td>0.184</td>\n",
              "      <td>306.0</td>\n",
              "      <td>4.0</td>\n",
              "      <td>0.0</td>\n",
              "    </tr>\n",
              "    <tr>\n",
              "      <th>2</th>\n",
              "      <td>506688</td>\n",
              "      <td>284120.0</td>\n",
              "      <td>N</td>\n",
              "      <td>101056.0</td>\n",
              "      <td>8390.40</td>\n",
              "      <td>0.0118</td>\n",
              "      <td>Govt.</td>\n",
              "      <td>ndf</td>\n",
              "      <td>One</td>\n",
              "      <td>4.0</td>\n",
              "      <td>...</td>\n",
              "      <td>North</td>\n",
              "      <td>57.0</td>\n",
              "      <td>5.0</td>\n",
              "      <td>Yes</td>\n",
              "      <td>Yes</td>\n",
              "      <td>0.538</td>\n",
              "      <td>0.538</td>\n",
              "      <td>281.0</td>\n",
              "      <td>4.0</td>\n",
              "      <td>0.0</td>\n",
              "    </tr>\n",
              "    <tr>\n",
              "      <th>3</th>\n",
              "      <td>499360</td>\n",
              "      <td>341874.0</td>\n",
              "      <td>N</td>\n",
              "      <td>179008.0</td>\n",
              "      <td>7184.13</td>\n",
              "      <td>0.0373</td>\n",
              "      <td>Non-IT</td>\n",
              "      <td>df</td>\n",
              "      <td>None</td>\n",
              "      <td>2.0</td>\n",
              "      <td>...</td>\n",
              "      <td>South</td>\n",
              "      <td>39.0</td>\n",
              "      <td>12.0</td>\n",
              "      <td>Yes</td>\n",
              "      <td>Yes</td>\n",
              "      <td>NaN</td>\n",
              "      <td>0.561</td>\n",
              "      <td>20.0</td>\n",
              "      <td>4.0</td>\n",
              "      <td>0.0</td>\n",
              "    </tr>\n",
              "    <tr>\n",
              "      <th>4</th>\n",
              "      <td>438350</td>\n",
              "      <td>1259895.0</td>\n",
              "      <td>Y</td>\n",
              "      <td>573715.0</td>\n",
              "      <td>13212.77</td>\n",
              "      <td>0.0138</td>\n",
              "      <td>Non-IT</td>\n",
              "      <td>ndf</td>\n",
              "      <td>Morethan_One</td>\n",
              "      <td>1.0</td>\n",
              "      <td>...</td>\n",
              "      <td>North</td>\n",
              "      <td>32.0</td>\n",
              "      <td>16.0</td>\n",
              "      <td>Yes</td>\n",
              "      <td>Yes</td>\n",
              "      <td>NaN</td>\n",
              "      <td>0.200</td>\n",
              "      <td>2339.0</td>\n",
              "      <td>6.0</td>\n",
              "      <td>0.0</td>\n",
              "    </tr>\n",
              "  </tbody>\n",
              "</table>\n",
              "<p>5 rows × 33 columns</p>\n",
              "</div>\n",
              "      <button class=\"colab-df-convert\" onclick=\"convertToInteractive('df-40349919-1436-4a68-8ef8-f81679195001')\"\n",
              "              title=\"Convert this dataframe to an interactive table.\"\n",
              "              style=\"display:none;\">\n",
              "        \n",
              "  <svg xmlns=\"http://www.w3.org/2000/svg\" height=\"24px\"viewBox=\"0 0 24 24\"\n",
              "       width=\"24px\">\n",
              "    <path d=\"M0 0h24v24H0V0z\" fill=\"none\"/>\n",
              "    <path d=\"M18.56 5.44l.94 2.06.94-2.06 2.06-.94-2.06-.94-.94-2.06-.94 2.06-2.06.94zm-11 1L8.5 8.5l.94-2.06 2.06-.94-2.06-.94L8.5 2.5l-.94 2.06-2.06.94zm10 10l.94 2.06.94-2.06 2.06-.94-2.06-.94-.94-2.06-.94 2.06-2.06.94z\"/><path d=\"M17.41 7.96l-1.37-1.37c-.4-.4-.92-.59-1.43-.59-.52 0-1.04.2-1.43.59L10.3 9.45l-7.72 7.72c-.78.78-.78 2.05 0 2.83L4 21.41c.39.39.9.59 1.41.59.51 0 1.02-.2 1.41-.59l7.78-7.78 2.81-2.81c.8-.78.8-2.07 0-2.86zM5.41 20L4 18.59l7.72-7.72 1.47 1.35L5.41 20z\"/>\n",
              "  </svg>\n",
              "      </button>\n",
              "      \n",
              "  <style>\n",
              "    .colab-df-container {\n",
              "      display:flex;\n",
              "      flex-wrap:wrap;\n",
              "      gap: 12px;\n",
              "    }\n",
              "\n",
              "    .colab-df-convert {\n",
              "      background-color: #E8F0FE;\n",
              "      border: none;\n",
              "      border-radius: 50%;\n",
              "      cursor: pointer;\n",
              "      display: none;\n",
              "      fill: #1967D2;\n",
              "      height: 32px;\n",
              "      padding: 0 0 0 0;\n",
              "      width: 32px;\n",
              "    }\n",
              "\n",
              "    .colab-df-convert:hover {\n",
              "      background-color: #E2EBFA;\n",
              "      box-shadow: 0px 1px 2px rgba(60, 64, 67, 0.3), 0px 1px 3px 1px rgba(60, 64, 67, 0.15);\n",
              "      fill: #174EA6;\n",
              "    }\n",
              "\n",
              "    [theme=dark] .colab-df-convert {\n",
              "      background-color: #3B4455;\n",
              "      fill: #D2E3FC;\n",
              "    }\n",
              "\n",
              "    [theme=dark] .colab-df-convert:hover {\n",
              "      background-color: #434B5C;\n",
              "      box-shadow: 0px 1px 3px 1px rgba(0, 0, 0, 0.15);\n",
              "      filter: drop-shadow(0px 1px 2px rgba(0, 0, 0, 0.3));\n",
              "      fill: #FFFFFF;\n",
              "    }\n",
              "  </style>\n",
              "\n",
              "      <script>\n",
              "        const buttonEl =\n",
              "          document.querySelector('#df-40349919-1436-4a68-8ef8-f81679195001 button.colab-df-convert');\n",
              "        buttonEl.style.display =\n",
              "          google.colab.kernel.accessAllowed ? 'block' : 'none';\n",
              "\n",
              "        async function convertToInteractive(key) {\n",
              "          const element = document.querySelector('#df-40349919-1436-4a68-8ef8-f81679195001');\n",
              "          const dataTable =\n",
              "            await google.colab.kernel.invokeFunction('convertToInteractive',\n",
              "                                                     [key], {});\n",
              "          if (!dataTable) return;\n",
              "\n",
              "          const docLinkHtml = 'Like what you see? Visit the ' +\n",
              "            '<a target=\"_blank\" href=https://colab.research.google.com/notebooks/data_table.ipynb>data table notebook</a>'\n",
              "            + ' to learn more about interactive tables.';\n",
              "          element.innerHTML = '';\n",
              "          dataTable['output_type'] = 'display_data';\n",
              "          await google.colab.output.renderOutput(dataTable, element);\n",
              "          const docLink = document.createElement('div');\n",
              "          docLink.innerHTML = docLinkHtml;\n",
              "          element.appendChild(docLink);\n",
              "        }\n",
              "      </script>\n",
              "    </div>\n",
              "  </div>\n",
              "  "
            ]
          },
          "metadata": {},
          "execution_count": 227
        }
      ]
    },
    {
      "cell_type": "code",
      "source": [
        "test=pd.read_csv('gdrive/My Drive/Hackathon/TVS/Test_Set_TVS.csv')\n",
        "test.head()"
      ],
      "metadata": {
        "id": "CP8sPQtAJvPf",
        "colab": {
          "base_uri": "https://localhost:8080/",
          "height": 299
        },
        "outputId": "46c2bd18-c5c7-4500-a19d-e728058e64f3"
      },
      "id": "CP8sPQtAJvPf",
      "execution_count": 228,
      "outputs": [
        {
          "output_type": "execute_result",
          "data": {
            "text/plain": [
              "       ID  Compensation Vehicle_Status   Loan_amt  Annuity_amt  density_Ind  \\\n",
              "0  487410      653106.0              Y  809400.00      9145.51       0.0015   \n",
              "1  533258      434150.0              N   72618.75      7683.23       0.0332   \n",
              "2  581926      489060.0              N  267255.80      9032.85       0.0316   \n",
              "3  486301      957294.0              N  623600.00     12838.25       0.0320   \n",
              "4  580822     1333739.0              N  529520.00     11799.09       0.0073   \n",
              "\n",
              "  Job_Type Default_hist     Prop_List  Home_Appliances  ... Company_Rating  \\\n",
              "0    Govt.          ndf  Morethan_One              1.0  ...            2.0   \n",
              "1    Govt.          ndf           One              4.0  ...            3.0   \n",
              "2       IT          ndf  Morethan_One              NaN  ...            2.0   \n",
              "3       IT          ndf           One              4.0  ...            2.0   \n",
              "4   Non-IT          ndf           One              4.0  ...            3.0   \n",
              "\n",
              "    Region   Age hour_Process Addr_permanent Permanent_Addr_tag  c1_rated  \\\n",
              "0    North  39.0         11.0            Yes                Yes     0.349   \n",
              "1  Central  46.0         13.0            Yes                Yes     0.237   \n",
              "2    South  33.0         15.0            Yes                Yes     0.111   \n",
              "3     East  48.0         12.0            Yes                Yes     0.323   \n",
              "4    North  53.0          7.0            Yes                Yes     0.940   \n",
              "\n",
              "  c2_rated Contact_age Product_bought  \n",
              "0    0.349      3133.0            2.0  \n",
              "1    0.237      1730.0            5.0  \n",
              "2    0.111       759.0            4.0  \n",
              "3    0.323       609.0            4.0  \n",
              "4    0.940      1222.0            1.0  \n",
              "\n",
              "[5 rows x 32 columns]"
            ],
            "text/html": [
              "\n",
              "  <div id=\"df-000018c1-be61-413c-a0ee-c925beee00ab\">\n",
              "    <div class=\"colab-df-container\">\n",
              "      <div>\n",
              "<style scoped>\n",
              "    .dataframe tbody tr th:only-of-type {\n",
              "        vertical-align: middle;\n",
              "    }\n",
              "\n",
              "    .dataframe tbody tr th {\n",
              "        vertical-align: top;\n",
              "    }\n",
              "\n",
              "    .dataframe thead th {\n",
              "        text-align: right;\n",
              "    }\n",
              "</style>\n",
              "<table border=\"1\" class=\"dataframe\">\n",
              "  <thead>\n",
              "    <tr style=\"text-align: right;\">\n",
              "      <th></th>\n",
              "      <th>ID</th>\n",
              "      <th>Compensation</th>\n",
              "      <th>Vehicle_Status</th>\n",
              "      <th>Loan_amt</th>\n",
              "      <th>Annuity_amt</th>\n",
              "      <th>density_Ind</th>\n",
              "      <th>Job_Type</th>\n",
              "      <th>Default_hist</th>\n",
              "      <th>Prop_List</th>\n",
              "      <th>Home_Appliances</th>\n",
              "      <th>...</th>\n",
              "      <th>Company_Rating</th>\n",
              "      <th>Region</th>\n",
              "      <th>Age</th>\n",
              "      <th>hour_Process</th>\n",
              "      <th>Addr_permanent</th>\n",
              "      <th>Permanent_Addr_tag</th>\n",
              "      <th>c1_rated</th>\n",
              "      <th>c2_rated</th>\n",
              "      <th>Contact_age</th>\n",
              "      <th>Product_bought</th>\n",
              "    </tr>\n",
              "  </thead>\n",
              "  <tbody>\n",
              "    <tr>\n",
              "      <th>0</th>\n",
              "      <td>487410</td>\n",
              "      <td>653106.0</td>\n",
              "      <td>Y</td>\n",
              "      <td>809400.00</td>\n",
              "      <td>9145.51</td>\n",
              "      <td>0.0015</td>\n",
              "      <td>Govt.</td>\n",
              "      <td>ndf</td>\n",
              "      <td>Morethan_One</td>\n",
              "      <td>1.0</td>\n",
              "      <td>...</td>\n",
              "      <td>2.0</td>\n",
              "      <td>North</td>\n",
              "      <td>39.0</td>\n",
              "      <td>11.0</td>\n",
              "      <td>Yes</td>\n",
              "      <td>Yes</td>\n",
              "      <td>0.349</td>\n",
              "      <td>0.349</td>\n",
              "      <td>3133.0</td>\n",
              "      <td>2.0</td>\n",
              "    </tr>\n",
              "    <tr>\n",
              "      <th>1</th>\n",
              "      <td>533258</td>\n",
              "      <td>434150.0</td>\n",
              "      <td>N</td>\n",
              "      <td>72618.75</td>\n",
              "      <td>7683.23</td>\n",
              "      <td>0.0332</td>\n",
              "      <td>Govt.</td>\n",
              "      <td>ndf</td>\n",
              "      <td>One</td>\n",
              "      <td>4.0</td>\n",
              "      <td>...</td>\n",
              "      <td>3.0</td>\n",
              "      <td>Central</td>\n",
              "      <td>46.0</td>\n",
              "      <td>13.0</td>\n",
              "      <td>Yes</td>\n",
              "      <td>Yes</td>\n",
              "      <td>0.237</td>\n",
              "      <td>0.237</td>\n",
              "      <td>1730.0</td>\n",
              "      <td>5.0</td>\n",
              "    </tr>\n",
              "    <tr>\n",
              "      <th>2</th>\n",
              "      <td>581926</td>\n",
              "      <td>489060.0</td>\n",
              "      <td>N</td>\n",
              "      <td>267255.80</td>\n",
              "      <td>9032.85</td>\n",
              "      <td>0.0316</td>\n",
              "      <td>IT</td>\n",
              "      <td>ndf</td>\n",
              "      <td>Morethan_One</td>\n",
              "      <td>NaN</td>\n",
              "      <td>...</td>\n",
              "      <td>2.0</td>\n",
              "      <td>South</td>\n",
              "      <td>33.0</td>\n",
              "      <td>15.0</td>\n",
              "      <td>Yes</td>\n",
              "      <td>Yes</td>\n",
              "      <td>0.111</td>\n",
              "      <td>0.111</td>\n",
              "      <td>759.0</td>\n",
              "      <td>4.0</td>\n",
              "    </tr>\n",
              "    <tr>\n",
              "      <th>3</th>\n",
              "      <td>486301</td>\n",
              "      <td>957294.0</td>\n",
              "      <td>N</td>\n",
              "      <td>623600.00</td>\n",
              "      <td>12838.25</td>\n",
              "      <td>0.0320</td>\n",
              "      <td>IT</td>\n",
              "      <td>ndf</td>\n",
              "      <td>One</td>\n",
              "      <td>4.0</td>\n",
              "      <td>...</td>\n",
              "      <td>2.0</td>\n",
              "      <td>East</td>\n",
              "      <td>48.0</td>\n",
              "      <td>12.0</td>\n",
              "      <td>Yes</td>\n",
              "      <td>Yes</td>\n",
              "      <td>0.323</td>\n",
              "      <td>0.323</td>\n",
              "      <td>609.0</td>\n",
              "      <td>4.0</td>\n",
              "    </tr>\n",
              "    <tr>\n",
              "      <th>4</th>\n",
              "      <td>580822</td>\n",
              "      <td>1333739.0</td>\n",
              "      <td>N</td>\n",
              "      <td>529520.00</td>\n",
              "      <td>11799.09</td>\n",
              "      <td>0.0073</td>\n",
              "      <td>Non-IT</td>\n",
              "      <td>ndf</td>\n",
              "      <td>One</td>\n",
              "      <td>4.0</td>\n",
              "      <td>...</td>\n",
              "      <td>3.0</td>\n",
              "      <td>North</td>\n",
              "      <td>53.0</td>\n",
              "      <td>7.0</td>\n",
              "      <td>Yes</td>\n",
              "      <td>Yes</td>\n",
              "      <td>0.940</td>\n",
              "      <td>0.940</td>\n",
              "      <td>1222.0</td>\n",
              "      <td>1.0</td>\n",
              "    </tr>\n",
              "  </tbody>\n",
              "</table>\n",
              "<p>5 rows × 32 columns</p>\n",
              "</div>\n",
              "      <button class=\"colab-df-convert\" onclick=\"convertToInteractive('df-000018c1-be61-413c-a0ee-c925beee00ab')\"\n",
              "              title=\"Convert this dataframe to an interactive table.\"\n",
              "              style=\"display:none;\">\n",
              "        \n",
              "  <svg xmlns=\"http://www.w3.org/2000/svg\" height=\"24px\"viewBox=\"0 0 24 24\"\n",
              "       width=\"24px\">\n",
              "    <path d=\"M0 0h24v24H0V0z\" fill=\"none\"/>\n",
              "    <path d=\"M18.56 5.44l.94 2.06.94-2.06 2.06-.94-2.06-.94-.94-2.06-.94 2.06-2.06.94zm-11 1L8.5 8.5l.94-2.06 2.06-.94-2.06-.94L8.5 2.5l-.94 2.06-2.06.94zm10 10l.94 2.06.94-2.06 2.06-.94-2.06-.94-.94-2.06-.94 2.06-2.06.94z\"/><path d=\"M17.41 7.96l-1.37-1.37c-.4-.4-.92-.59-1.43-.59-.52 0-1.04.2-1.43.59L10.3 9.45l-7.72 7.72c-.78.78-.78 2.05 0 2.83L4 21.41c.39.39.9.59 1.41.59.51 0 1.02-.2 1.41-.59l7.78-7.78 2.81-2.81c.8-.78.8-2.07 0-2.86zM5.41 20L4 18.59l7.72-7.72 1.47 1.35L5.41 20z\"/>\n",
              "  </svg>\n",
              "      </button>\n",
              "      \n",
              "  <style>\n",
              "    .colab-df-container {\n",
              "      display:flex;\n",
              "      flex-wrap:wrap;\n",
              "      gap: 12px;\n",
              "    }\n",
              "\n",
              "    .colab-df-convert {\n",
              "      background-color: #E8F0FE;\n",
              "      border: none;\n",
              "      border-radius: 50%;\n",
              "      cursor: pointer;\n",
              "      display: none;\n",
              "      fill: #1967D2;\n",
              "      height: 32px;\n",
              "      padding: 0 0 0 0;\n",
              "      width: 32px;\n",
              "    }\n",
              "\n",
              "    .colab-df-convert:hover {\n",
              "      background-color: #E2EBFA;\n",
              "      box-shadow: 0px 1px 2px rgba(60, 64, 67, 0.3), 0px 1px 3px 1px rgba(60, 64, 67, 0.15);\n",
              "      fill: #174EA6;\n",
              "    }\n",
              "\n",
              "    [theme=dark] .colab-df-convert {\n",
              "      background-color: #3B4455;\n",
              "      fill: #D2E3FC;\n",
              "    }\n",
              "\n",
              "    [theme=dark] .colab-df-convert:hover {\n",
              "      background-color: #434B5C;\n",
              "      box-shadow: 0px 1px 3px 1px rgba(0, 0, 0, 0.15);\n",
              "      filter: drop-shadow(0px 1px 2px rgba(0, 0, 0, 0.3));\n",
              "      fill: #FFFFFF;\n",
              "    }\n",
              "  </style>\n",
              "\n",
              "      <script>\n",
              "        const buttonEl =\n",
              "          document.querySelector('#df-000018c1-be61-413c-a0ee-c925beee00ab button.colab-df-convert');\n",
              "        buttonEl.style.display =\n",
              "          google.colab.kernel.accessAllowed ? 'block' : 'none';\n",
              "\n",
              "        async function convertToInteractive(key) {\n",
              "          const element = document.querySelector('#df-000018c1-be61-413c-a0ee-c925beee00ab');\n",
              "          const dataTable =\n",
              "            await google.colab.kernel.invokeFunction('convertToInteractive',\n",
              "                                                     [key], {});\n",
              "          if (!dataTable) return;\n",
              "\n",
              "          const docLinkHtml = 'Like what you see? Visit the ' +\n",
              "            '<a target=\"_blank\" href=https://colab.research.google.com/notebooks/data_table.ipynb>data table notebook</a>'\n",
              "            + ' to learn more about interactive tables.';\n",
              "          element.innerHTML = '';\n",
              "          dataTable['output_type'] = 'display_data';\n",
              "          await google.colab.output.renderOutput(dataTable, element);\n",
              "          const docLink = document.createElement('div');\n",
              "          docLink.innerHTML = docLinkHtml;\n",
              "          element.appendChild(docLink);\n",
              "        }\n",
              "      </script>\n",
              "    </div>\n",
              "  </div>\n",
              "  "
            ]
          },
          "metadata": {},
          "execution_count": 228
        }
      ]
    },
    {
      "cell_type": "code",
      "source": [
        "train.info()"
      ],
      "metadata": {
        "id": "Dp7YovEwJvM_",
        "colab": {
          "base_uri": "https://localhost:8080/"
        },
        "outputId": "e3321271-6833-4f25-b422-d6e9b87c1fcd"
      },
      "id": "Dp7YovEwJvM_",
      "execution_count": 229,
      "outputs": [
        {
          "output_type": "stream",
          "name": "stdout",
          "text": [
            "<class 'pandas.core.frame.DataFrame'>\n",
            "RangeIndex: 132440 entries, 0 to 132439\n",
            "Data columns (total 33 columns):\n",
            " #   Column              Non-Null Count   Dtype  \n",
            "---  ------              --------------   -----  \n",
            " 0   ID                  132440 non-null  int64  \n",
            " 1   Compensation        126198 non-null  float64\n",
            " 2   Vehicle_Status      123336 non-null  object \n",
            " 3   Loan_amt            132440 non-null  float64\n",
            " 4   Annuity_amt         127829 non-null  float64\n",
            " 5   density_Ind         127024 non-null  float64\n",
            " 6   Job_Type            122192 non-null  object \n",
            " 7   Default_hist        132440 non-null  object \n",
            " 8   Prop_List           130475 non-null  object \n",
            " 9   Home_Appliances     121476 non-null  float64\n",
            " 10  Region_Type         132440 non-null  object \n",
            " 11  Credit_Inq          129750 non-null  object \n",
            " 12  Education_det       132440 non-null  object \n",
            " 13  Marital_Stat        132440 non-null  object \n",
            " 14  Gen                 132440 non-null  object \n",
            " 15  Credit_Lnks         132440 non-null  object \n",
            " 16  Experience          110595 non-null  float64\n",
            " 17  Income_Alt          124758 non-null  object \n",
            " 18  Day_Process         132440 non-null  object \n",
            " 19  Ph.No               132440 non-null  object \n",
            " 20  Type_Loan           132440 non-null  object \n",
            " 21  Dependents          132440 non-null  float64\n",
            " 22  Company_Rating      120709 non-null  float64\n",
            " 23  Region              132440 non-null  object \n",
            " 24  Age                 132440 non-null  float64\n",
            " 25  hour_Process        132440 non-null  float64\n",
            " 26  Addr_permanent      132440 non-null  object \n",
            " 27  Permanent_Addr_tag  132440 non-null  object \n",
            " 28  c1_rated            114927 non-null  float64\n",
            " 29  c2_rated            119119 non-null  float64\n",
            " 30  Contact_age         124287 non-null  float64\n",
            " 31  Product_bought      132440 non-null  float64\n",
            " 32  Default             132440 non-null  float64\n",
            "dtypes: float64(15), int64(1), object(17)\n",
            "memory usage: 33.3+ MB\n"
          ]
        }
      ]
    },
    {
      "cell_type": "code",
      "source": [
        "test.info()"
      ],
      "metadata": {
        "id": "74qyGkasJvHI",
        "colab": {
          "base_uri": "https://localhost:8080/"
        },
        "outputId": "02f95c47-bf50-4dc6-b0a0-b43bffac54a1"
      },
      "id": "74qyGkasJvHI",
      "execution_count": 230,
      "outputs": [
        {
          "output_type": "stream",
          "name": "stdout",
          "text": [
            "<class 'pandas.core.frame.DataFrame'>\n",
            "RangeIndex: 56760 entries, 0 to 56759\n",
            "Data columns (total 32 columns):\n",
            " #   Column              Non-Null Count  Dtype  \n",
            "---  ------              --------------  -----  \n",
            " 0   ID                  56760 non-null  int64  \n",
            " 1   Compensation        54010 non-null  float64\n",
            " 2   Vehicle_Status      52877 non-null  object \n",
            " 3   Loan_amt            56760 non-null  float64\n",
            " 4   Annuity_amt         54797 non-null  float64\n",
            " 5   density_Ind         54485 non-null  float64\n",
            " 6   Job_Type            52440 non-null  object \n",
            " 7   Default_hist        56760 non-null  object \n",
            " 8   Prop_List           55849 non-null  object \n",
            " 9   Home_Appliances     52001 non-null  float64\n",
            " 10  Region_Type         56760 non-null  object \n",
            " 11  Credit_Inq          55594 non-null  object \n",
            " 12  Education_det       56760 non-null  object \n",
            " 13  Marital_Stat        56760 non-null  object \n",
            " 14  Gen                 56760 non-null  object \n",
            " 15  Credit_Lnks         56760 non-null  object \n",
            " 16  Experience          47409 non-null  float64\n",
            " 17  Income_Alt          53461 non-null  object \n",
            " 18  Day_Process         56760 non-null  object \n",
            " 19  Ph.No               56760 non-null  object \n",
            " 20  Type_Loan           56760 non-null  object \n",
            " 21  Dependents          56760 non-null  float64\n",
            " 22  Company_Rating      51707 non-null  float64\n",
            " 23  Region              56760 non-null  object \n",
            " 24  Age                 56760 non-null  float64\n",
            " 25  hour_Process        56760 non-null  float64\n",
            " 26  Addr_permanent      56760 non-null  object \n",
            " 27  Permanent_Addr_tag  56760 non-null  object \n",
            " 28  c1_rated            49397 non-null  float64\n",
            " 29  c2_rated            51105 non-null  float64\n",
            " 30  Contact_age         53238 non-null  float64\n",
            " 31  Product_bought      56760 non-null  float64\n",
            "dtypes: float64(14), int64(1), object(17)\n",
            "memory usage: 13.9+ MB\n"
          ]
        }
      ]
    },
    {
      "cell_type": "code",
      "source": [
        "train_num = train.select_dtypes(include = np.number)\n",
        "train_cat = train.select_dtypes(exclude = np.number)"
      ],
      "metadata": {
        "id": "0aaLbEcaJvEn"
      },
      "id": "0aaLbEcaJvEn",
      "execution_count": 231,
      "outputs": []
    },
    {
      "cell_type": "code",
      "source": [
        "test_num = test.select_dtypes(include = np.number)\n",
        "test_cat = test.select_dtypes(exclude = np.number)"
      ],
      "metadata": {
        "id": "DiVP6iGWJvAo"
      },
      "id": "DiVP6iGWJvAo",
      "execution_count": 232,
      "outputs": []
    },
    {
      "cell_type": "code",
      "source": [
        "train_num.columns"
      ],
      "metadata": {
        "colab": {
          "base_uri": "https://localhost:8080/"
        },
        "id": "G4nJeAeLcxP8",
        "outputId": "a15063e4-3386-4325-9657-31b88781339d"
      },
      "id": "G4nJeAeLcxP8",
      "execution_count": 233,
      "outputs": [
        {
          "output_type": "execute_result",
          "data": {
            "text/plain": [
              "Index(['ID', 'Compensation', 'Loan_amt', 'Annuity_amt', 'density_Ind',\n",
              "       'Home_Appliances', 'Experience', 'Dependents', 'Company_Rating', 'Age',\n",
              "       'hour_Process', 'c1_rated', 'c2_rated', 'Contact_age', 'Product_bought',\n",
              "       'Default'],\n",
              "      dtype='object')"
            ]
          },
          "metadata": {},
          "execution_count": 233
        }
      ]
    },
    {
      "cell_type": "code",
      "source": [
        "train_cat.columns"
      ],
      "metadata": {
        "id": "kbDuwZLQJu-6",
        "colab": {
          "base_uri": "https://localhost:8080/"
        },
        "outputId": "15c5312c-c814-4fa3-a216-a703add15b29"
      },
      "id": "kbDuwZLQJu-6",
      "execution_count": 234,
      "outputs": [
        {
          "output_type": "execute_result",
          "data": {
            "text/plain": [
              "Index(['Vehicle_Status', 'Job_Type', 'Default_hist', 'Prop_List',\n",
              "       'Region_Type', 'Credit_Inq', 'Education_det', 'Marital_Stat', 'Gen',\n",
              "       'Credit_Lnks', 'Income_Alt', 'Day_Process', 'Ph.No', 'Type_Loan',\n",
              "       'Region', 'Addr_permanent', 'Permanent_Addr_tag'],\n",
              "      dtype='object')"
            ]
          },
          "metadata": {},
          "execution_count": 234
        }
      ]
    },
    {
      "cell_type": "code",
      "source": [
        "def uniques(df):\n",
        "  for i in df.columns:\n",
        "    print(i , '-->' ,df[i].nunique())    #gives the column name and how many unique values in it\n",
        "    print(df[i].unique() , '\\n')         #gives the all the unique values"
      ],
      "metadata": {
        "id": "7OR9oKWQJu7b"
      },
      "id": "7OR9oKWQJu7b",
      "execution_count": 235,
      "outputs": []
    },
    {
      "cell_type": "code",
      "source": [
        "uniques(train_cat)"
      ],
      "metadata": {
        "id": "Nl458wPdJu4n",
        "colab": {
          "base_uri": "https://localhost:8080/"
        },
        "outputId": "1a6905da-f564-4f1c-c56b-5ae6bef87558"
      },
      "id": "Nl458wPdJu4n",
      "execution_count": 236,
      "outputs": [
        {
          "output_type": "stream",
          "name": "stdout",
          "text": [
            "Vehicle_Status --> 2\n",
            "['Y' 'N' nan] \n",
            "\n",
            "Job_Type --> 3\n",
            "['IT' 'Govt.' 'Non-IT' nan] \n",
            "\n",
            "Default_hist --> 2\n",
            "['ndf' 'df'] \n",
            "\n",
            "Prop_List --> 3\n",
            "['Morethan_One' 'One' 'None' nan] \n",
            "\n",
            "Region_Type --> 3\n",
            "['Metro' 'Rural' 'other'] \n",
            "\n",
            "Credit_Inq --> 4\n",
            "['1' '2' '3' '>4' nan] \n",
            "\n",
            "Education_det --> 3\n",
            "['Grad' 'Other' 'P_Grad'] \n",
            "\n",
            "Marital_Stat --> 4\n",
            "['Married' 'Single' 'Widow' 'Divorce'] \n",
            "\n",
            "Gen --> 2\n",
            "['F' 'M'] \n",
            "\n",
            "Credit_Lnks --> 3\n",
            "['1_to_3' '4_to_6' '>6'] \n",
            "\n",
            "Income_Alt --> 2\n",
            "['Not_Specified' 'Y' nan] \n",
            "\n",
            "Day_Process --> 7\n",
            "['SAT' 'wed' 'mon' 'Sun' 'Tue' 'thur' 'Fri'] \n",
            "\n",
            "Ph.No --> 2\n",
            "['Yes' 'No'] \n",
            "\n",
            "Type_Loan --> 2\n",
            "['CLoan' 'RLoan'] \n",
            "\n",
            "Region --> 4\n",
            "['East' 'North' 'South' 'Central'] \n",
            "\n",
            "Addr_permanent --> 2\n",
            "['Yes' 'No'] \n",
            "\n",
            "Permanent_Addr_tag --> 2\n",
            "['No' 'Yes'] \n",
            "\n"
          ]
        }
      ]
    },
    {
      "cell_type": "code",
      "source": [
        "uniques(test_cat)"
      ],
      "metadata": {
        "id": "He5FHinbJu1U",
        "colab": {
          "base_uri": "https://localhost:8080/"
        },
        "outputId": "784745c0-c2bd-4080-f48d-2bb0e70d5dc9"
      },
      "id": "He5FHinbJu1U",
      "execution_count": 237,
      "outputs": [
        {
          "output_type": "stream",
          "name": "stdout",
          "text": [
            "Vehicle_Status --> 2\n",
            "['Y' 'N' nan] \n",
            "\n",
            "Job_Type --> 3\n",
            "['Govt.' 'IT' 'Non-IT' nan] \n",
            "\n",
            "Default_hist --> 2\n",
            "['ndf' 'df'] \n",
            "\n",
            "Prop_List --> 3\n",
            "['Morethan_One' 'One' 'None' nan] \n",
            "\n",
            "Region_Type --> 3\n",
            "['Metro' 'Rural' 'other'] \n",
            "\n",
            "Credit_Inq --> 4\n",
            "['1' '3' '2' '>4' nan] \n",
            "\n",
            "Education_det --> 3\n",
            "['Grad' 'P_Grad' 'Other'] \n",
            "\n",
            "Marital_Stat --> 4\n",
            "['Married' 'Divorce' 'Widow' 'Single'] \n",
            "\n",
            "Gen --> 2\n",
            "['M' 'F'] \n",
            "\n",
            "Credit_Lnks --> 3\n",
            "['1_to_3' '4_to_6' '>6'] \n",
            "\n",
            "Income_Alt --> 2\n",
            "['Not_Specified' 'Y' nan] \n",
            "\n",
            "Day_Process --> 7\n",
            "['thur' 'wed' 'Tue' 'mon' 'Fri' 'SAT' 'Sun'] \n",
            "\n",
            "Ph.No --> 2\n",
            "['Yes' 'No'] \n",
            "\n",
            "Type_Loan --> 2\n",
            "['CLoan' 'RLoan'] \n",
            "\n",
            "Region --> 4\n",
            "['North' 'Central' 'South' 'East'] \n",
            "\n",
            "Addr_permanent --> 2\n",
            "['Yes' 'No'] \n",
            "\n",
            "Permanent_Addr_tag --> 2\n",
            "['Yes' 'No'] \n",
            "\n"
          ]
        }
      ]
    },
    {
      "cell_type": "code",
      "source": [
        "round(train.isnull().sum()/len(train)*100 , 2)"
      ],
      "metadata": {
        "id": "TJ2xAfJeJuyH",
        "colab": {
          "base_uri": "https://localhost:8080/"
        },
        "outputId": "d5e8b4fb-ac56-4899-dfb9-2b50dee83153"
      },
      "id": "TJ2xAfJeJuyH",
      "execution_count": 238,
      "outputs": [
        {
          "output_type": "execute_result",
          "data": {
            "text/plain": [
              "ID                     0.00\n",
              "Compensation           4.71\n",
              "Vehicle_Status         6.87\n",
              "Loan_amt               0.00\n",
              "Annuity_amt            3.48\n",
              "density_Ind            4.09\n",
              "Job_Type               7.74\n",
              "Default_hist           0.00\n",
              "Prop_List              1.48\n",
              "Home_Appliances        8.28\n",
              "Region_Type            0.00\n",
              "Credit_Inq             2.03\n",
              "Education_det          0.00\n",
              "Marital_Stat           0.00\n",
              "Gen                    0.00\n",
              "Credit_Lnks            0.00\n",
              "Experience            16.49\n",
              "Income_Alt             5.80\n",
              "Day_Process            0.00\n",
              "Ph.No                  0.00\n",
              "Type_Loan              0.00\n",
              "Dependents             0.00\n",
              "Company_Rating         8.86\n",
              "Region                 0.00\n",
              "Age                    0.00\n",
              "hour_Process           0.00\n",
              "Addr_permanent         0.00\n",
              "Permanent_Addr_tag     0.00\n",
              "c1_rated              13.22\n",
              "c2_rated              10.06\n",
              "Contact_age            6.16\n",
              "Product_bought         0.00\n",
              "Default                0.00\n",
              "dtype: float64"
            ]
          },
          "metadata": {},
          "execution_count": 238
        }
      ]
    },
    {
      "cell_type": "code",
      "source": [
        "round(test.isnull().sum()/len(test)*100 , 2)"
      ],
      "metadata": {
        "id": "DQ15aw7SJuZI",
        "colab": {
          "base_uri": "https://localhost:8080/"
        },
        "outputId": "868dc58c-2df0-40b1-af7a-7d135bfec265"
      },
      "id": "DQ15aw7SJuZI",
      "execution_count": 239,
      "outputs": [
        {
          "output_type": "execute_result",
          "data": {
            "text/plain": [
              "ID                     0.00\n",
              "Compensation           4.84\n",
              "Vehicle_Status         6.84\n",
              "Loan_amt               0.00\n",
              "Annuity_amt            3.46\n",
              "density_Ind            4.01\n",
              "Job_Type               7.61\n",
              "Default_hist           0.00\n",
              "Prop_List              1.61\n",
              "Home_Appliances        8.38\n",
              "Region_Type            0.00\n",
              "Credit_Inq             2.05\n",
              "Education_det          0.00\n",
              "Marital_Stat           0.00\n",
              "Gen                    0.00\n",
              "Credit_Lnks            0.00\n",
              "Experience            16.47\n",
              "Income_Alt             5.81\n",
              "Day_Process            0.00\n",
              "Ph.No                  0.00\n",
              "Type_Loan              0.00\n",
              "Dependents             0.00\n",
              "Company_Rating         8.90\n",
              "Region                 0.00\n",
              "Age                    0.00\n",
              "hour_Process           0.00\n",
              "Addr_permanent         0.00\n",
              "Permanent_Addr_tag     0.00\n",
              "c1_rated              12.97\n",
              "c2_rated               9.96\n",
              "Contact_age            6.21\n",
              "Product_bought         0.00\n",
              "dtype: float64"
            ]
          },
          "metadata": {},
          "execution_count": 239
        }
      ]
    },
    {
      "cell_type": "code",
      "source": [
        "train_num.isnull().sum()/len(train_num)*100"
      ],
      "metadata": {
        "colab": {
          "base_uri": "https://localhost:8080/"
        },
        "id": "YeT-vfq3fI30",
        "outputId": "a454bc32-dad1-4e8e-8d05-16c45677ec67"
      },
      "id": "YeT-vfq3fI30",
      "execution_count": 240,
      "outputs": [
        {
          "output_type": "execute_result",
          "data": {
            "text/plain": [
              "ID                  0.000000\n",
              "Compensation        4.713078\n",
              "Loan_amt            0.000000\n",
              "Annuity_amt         3.481577\n",
              "density_Ind         4.089399\n",
              "Home_Appliances     8.278466\n",
              "Experience         16.494262\n",
              "Dependents          0.000000\n",
              "Company_Rating      8.857596\n",
              "Age                 0.000000\n",
              "hour_Process        0.000000\n",
              "c1_rated           13.223346\n",
              "c2_rated           10.058140\n",
              "Contact_age         6.155995\n",
              "Product_bought      0.000000\n",
              "Default             0.000000\n",
              "dtype: float64"
            ]
          },
          "metadata": {},
          "execution_count": 240
        }
      ]
    },
    {
      "cell_type": "code",
      "source": [
        "def checkoutliers(df_out):\n",
        "  q1=df_out.quantile(0.25)\n",
        "  q3=df_out.quantile(0.75)\n",
        "  IQR=q3-q1\n",
        "  outliers = df_out[((df_out<(q1-1.5*IQR)) | (df_out>(q3+1.5*IQR)))]\n",
        "  return len(outliers)/len(df_out)*100                                  #returns the % of the outliers"
      ],
      "metadata": {
        "id": "G82ZcOO7mhka"
      },
      "id": "G82ZcOO7mhka",
      "execution_count": 241,
      "outputs": []
    },
    {
      "cell_type": "code",
      "source": [
        "meanmedianlist = train_num.isnull().sum()/len(train_num)*100<6            #mean mode imputation which is less than 6%"
      ],
      "metadata": {
        "id": "fxP9TOOJFYGo"
      },
      "id": "fxP9TOOJFYGo",
      "execution_count": 242,
      "outputs": []
    },
    {
      "cell_type": "code",
      "source": [
        "for i in list(meanmedianlist[meanmedianlist].index):\n",
        "  if checkoutliers(train[i]) < 1:\n",
        "    train[i].fillna(train[i].mean() , inplace = True)\n",
        "  else:\n",
        "    train[i].fillna(train[i].median() , inplace = True)"
      ],
      "metadata": {
        "id": "w7xKaUjzFYDn"
      },
      "id": "w7xKaUjzFYDn",
      "execution_count": 243,
      "outputs": []
    },
    {
      "cell_type": "code",
      "source": [
        "meanmedianlist = test_num.isnull().sum()/len(test_num)*100<6"
      ],
      "metadata": {
        "id": "0oJ6abC8Huwh"
      },
      "id": "0oJ6abC8Huwh",
      "execution_count": 244,
      "outputs": []
    },
    {
      "cell_type": "code",
      "source": [
        "for i in list(meanmedianlist[meanmedianlist].index):\n",
        "  if checkoutliers(test[i]) < 1:\n",
        "    test[i].fillna(test[i].mean() , inplace = True)\n",
        "  else:\n",
        "    test[i].fillna(test[i].median() , inplace = True)"
      ],
      "metadata": {
        "id": "sB_Y7SiRHuy2"
      },
      "id": "sB_Y7SiRHuy2",
      "execution_count": 245,
      "outputs": []
    },
    {
      "cell_type": "code",
      "source": [
        "# Treated missing values for numerical values which are less than 6 missing values"
      ],
      "metadata": {
        "id": "CGiGrmHZOwtz"
      },
      "id": "CGiGrmHZOwtz",
      "execution_count": 246,
      "outputs": []
    },
    {
      "cell_type": "code",
      "source": [
        "train_num = train.select_dtypes(include = np.number)\n",
        "test_num = test.select_dtypes(include = np.number)"
      ],
      "metadata": {
        "id": "e1BhuLTZFYA_"
      },
      "id": "e1BhuLTZFYA_",
      "execution_count": 247,
      "outputs": []
    },
    {
      "cell_type": "code",
      "source": [
        "round(train_num.isnull().sum()/len(train_num)*100 , 2)"
      ],
      "metadata": {
        "colab": {
          "base_uri": "https://localhost:8080/"
        },
        "id": "fjKKjSGiFX86",
        "outputId": "588709a6-2251-4e35-f70e-57ea84cfb047"
      },
      "id": "fjKKjSGiFX86",
      "execution_count": 248,
      "outputs": [
        {
          "output_type": "execute_result",
          "data": {
            "text/plain": [
              "ID                  0.00\n",
              "Compensation        0.00\n",
              "Loan_amt            0.00\n",
              "Annuity_amt         0.00\n",
              "density_Ind         0.00\n",
              "Home_Appliances     8.28\n",
              "Experience         16.49\n",
              "Dependents          0.00\n",
              "Company_Rating      8.86\n",
              "Age                 0.00\n",
              "hour_Process        0.00\n",
              "c1_rated           13.22\n",
              "c2_rated           10.06\n",
              "Contact_age         6.16\n",
              "Product_bought      0.00\n",
              "Default             0.00\n",
              "dtype: float64"
            ]
          },
          "metadata": {},
          "execution_count": 248
        }
      ]
    },
    {
      "cell_type": "code",
      "source": [
        "train['Home_Appliances'].fillna(train.groupby('Prop_List')['Home_Appliances'].transform('mean') , inplace = True)"
      ],
      "metadata": {
        "id": "0pbxFPX5YAtL"
      },
      "id": "0pbxFPX5YAtL",
      "execution_count": 249,
      "outputs": []
    },
    {
      "cell_type": "code",
      "source": [
        "train['Experience'].fillna(train.groupby('Age')['Experience'].transform('mean') , inplace = True)"
      ],
      "metadata": {
        "id": "s8HzChqbR0Nz"
      },
      "id": "s8HzChqbR0Nz",
      "execution_count": 250,
      "outputs": []
    },
    {
      "cell_type": "code",
      "source": [
        "train['Company_Rating'].fillna(train.groupby('Region')['Company_Rating'].transform('mean') , inplace = True)"
      ],
      "metadata": {
        "id": "8Dpafe_1R0Kd"
      },
      "id": "8Dpafe_1R0Kd",
      "execution_count": 251,
      "outputs": []
    },
    {
      "cell_type": "code",
      "source": [
        "train['c1_rated'].fillna(train.groupby('Age')['c1_rated'].transform('mean') , inplace = True)\n",
        "train['c2_rated'].fillna(train.groupby('Age')['c2_rated'].transform('mean') , inplace = True)"
      ],
      "metadata": {
        "id": "-uie0oGlR0I0"
      },
      "id": "-uie0oGlR0I0",
      "execution_count": 252,
      "outputs": []
    },
    {
      "cell_type": "code",
      "source": [
        "train['Contact_age'].fillna(train.groupby('Age')['Contact_age'].transform('mean') , inplace = True)"
      ],
      "metadata": {
        "id": "qxeAceFfXSmR"
      },
      "id": "qxeAceFfXSmR",
      "execution_count": 253,
      "outputs": []
    },
    {
      "cell_type": "code",
      "source": [
        "train_num = train.select_dtypes(include = np.number)\n",
        "round(train_num.isnull().sum()/len(train_num)*100 , 2)"
      ],
      "metadata": {
        "colab": {
          "base_uri": "https://localhost:8080/"
        },
        "id": "7Xk0l4lzYEG0",
        "outputId": "88a9eb50-4e88-43b0-d89d-82824d3b0adb"
      },
      "id": "7Xk0l4lzYEG0",
      "execution_count": 254,
      "outputs": [
        {
          "output_type": "execute_result",
          "data": {
            "text/plain": [
              "ID                 0.00\n",
              "Compensation       0.00\n",
              "Loan_amt           0.00\n",
              "Annuity_amt        0.00\n",
              "density_Ind        0.00\n",
              "Home_Appliances    0.11\n",
              "Experience         0.00\n",
              "Dependents         0.00\n",
              "Company_Rating     0.00\n",
              "Age                0.00\n",
              "hour_Process       0.00\n",
              "c1_rated           0.00\n",
              "c2_rated           0.00\n",
              "Contact_age        0.00\n",
              "Product_bought     0.00\n",
              "Default            0.00\n",
              "dtype: float64"
            ]
          },
          "metadata": {},
          "execution_count": 254
        }
      ]
    },
    {
      "cell_type": "code",
      "source": [
        "train['Home_Appliances'].fillna(train['Home_Appliances'].mean() , inplace = True)"
      ],
      "metadata": {
        "id": "xM6yXvF6YPOM"
      },
      "id": "xM6yXvF6YPOM",
      "execution_count": 255,
      "outputs": []
    },
    {
      "cell_type": "code",
      "source": [
        "round(test_num.isnull().sum()/len(test_num)*100 , 2)"
      ],
      "metadata": {
        "colab": {
          "base_uri": "https://localhost:8080/"
        },
        "id": "HQzsFtVVR0HB",
        "outputId": "012b549d-1c19-4386-ccfd-a70d8dfee8af"
      },
      "id": "HQzsFtVVR0HB",
      "execution_count": 256,
      "outputs": [
        {
          "output_type": "execute_result",
          "data": {
            "text/plain": [
              "ID                  0.00\n",
              "Compensation        0.00\n",
              "Loan_amt            0.00\n",
              "Annuity_amt         0.00\n",
              "density_Ind         0.00\n",
              "Home_Appliances     8.38\n",
              "Experience         16.47\n",
              "Dependents          0.00\n",
              "Company_Rating      8.90\n",
              "Age                 0.00\n",
              "hour_Process        0.00\n",
              "c1_rated           12.97\n",
              "c2_rated            9.96\n",
              "Contact_age         6.21\n",
              "Product_bought      0.00\n",
              "dtype: float64"
            ]
          },
          "metadata": {},
          "execution_count": 256
        }
      ]
    },
    {
      "cell_type": "code",
      "source": [
        "test['Home_Appliances'].fillna(test.groupby('Prop_List')['Home_Appliances'].transform('mean') , inplace = True)"
      ],
      "metadata": {
        "id": "z5gyBRfyW5ES"
      },
      "id": "z5gyBRfyW5ES",
      "execution_count": 257,
      "outputs": []
    },
    {
      "cell_type": "code",
      "source": [
        "test['Experience'].fillna(test.groupby('Age')['Experience'].transform('mean') , inplace = True)"
      ],
      "metadata": {
        "id": "Nf6GTtSuW4il"
      },
      "id": "Nf6GTtSuW4il",
      "execution_count": 258,
      "outputs": []
    },
    {
      "cell_type": "code",
      "source": [
        "test['Company_Rating'].fillna(test.groupby('Region')['Company_Rating'].transform('mean') , inplace = True)"
      ],
      "metadata": {
        "id": "sYK4CzOzW4gB"
      },
      "id": "sYK4CzOzW4gB",
      "execution_count": 259,
      "outputs": []
    },
    {
      "cell_type": "code",
      "source": [
        "test['c1_rated'].fillna(test.groupby('Age')['c1_rated'].transform('mean') , inplace = True)\n",
        "test['c2_rated'].fillna(test.groupby('Age')['c2_rated'].transform('mean') , inplace = True)"
      ],
      "metadata": {
        "id": "tVaIZWJiR0E7"
      },
      "id": "tVaIZWJiR0E7",
      "execution_count": 260,
      "outputs": []
    },
    {
      "cell_type": "code",
      "source": [
        "test['Contact_age'].fillna(test.groupby('Age')['Contact_age'].transform('mean') , inplace = True)"
      ],
      "metadata": {
        "id": "4HjwZJSxR0Cz"
      },
      "id": "4HjwZJSxR0Cz",
      "execution_count": 261,
      "outputs": []
    },
    {
      "cell_type": "code",
      "source": [
        "test_num = test.select_dtypes(include = np.number)\n",
        "round(test_num.isnull().sum()/len(test_num)*100 , 2)"
      ],
      "metadata": {
        "colab": {
          "base_uri": "https://localhost:8080/"
        },
        "id": "VzsLEyYyYiCG",
        "outputId": "8f94069f-f265-45a9-9847-1394bc9abfc1"
      },
      "id": "VzsLEyYyYiCG",
      "execution_count": 262,
      "outputs": [
        {
          "output_type": "execute_result",
          "data": {
            "text/plain": [
              "ID                 0.00\n",
              "Compensation       0.00\n",
              "Loan_amt           0.00\n",
              "Annuity_amt        0.00\n",
              "density_Ind        0.00\n",
              "Home_Appliances    0.13\n",
              "Experience         0.00\n",
              "Dependents         0.00\n",
              "Company_Rating     0.00\n",
              "Age                0.00\n",
              "hour_Process       0.00\n",
              "c1_rated           0.00\n",
              "c2_rated           0.00\n",
              "Contact_age        0.00\n",
              "Product_bought     0.00\n",
              "dtype: float64"
            ]
          },
          "metadata": {},
          "execution_count": 262
        }
      ]
    },
    {
      "cell_type": "code",
      "source": [
        "test['Home_Appliances'].fillna(test['Home_Appliances'].mean() , inplace = True)"
      ],
      "metadata": {
        "id": "kin1wAxOYh-u"
      },
      "id": "kin1wAxOYh-u",
      "execution_count": 263,
      "outputs": []
    },
    {
      "cell_type": "code",
      "source": [
        "#Imputed the numerical missing values in training and testing data"
      ],
      "metadata": {
        "id": "neJj_HFFYh3p"
      },
      "id": "neJj_HFFYh3p",
      "execution_count": 264,
      "outputs": []
    },
    {
      "cell_type": "code",
      "source": [
        "round(train_cat.isnull().sum()/len(train_cat)*100 , 2)"
      ],
      "metadata": {
        "colab": {
          "base_uri": "https://localhost:8080/"
        },
        "id": "5Tz8sHa7Yhzq",
        "outputId": "7ae12e6d-73ac-4e36-f124-9ab1bdb053e0"
      },
      "id": "5Tz8sHa7Yhzq",
      "execution_count": 265,
      "outputs": [
        {
          "output_type": "execute_result",
          "data": {
            "text/plain": [
              "Vehicle_Status        6.87\n",
              "Job_Type              7.74\n",
              "Default_hist          0.00\n",
              "Prop_List             1.48\n",
              "Region_Type           0.00\n",
              "Credit_Inq            2.03\n",
              "Education_det         0.00\n",
              "Marital_Stat          0.00\n",
              "Gen                   0.00\n",
              "Credit_Lnks           0.00\n",
              "Income_Alt            5.80\n",
              "Day_Process           0.00\n",
              "Ph.No                 0.00\n",
              "Type_Loan             0.00\n",
              "Region                0.00\n",
              "Addr_permanent        0.00\n",
              "Permanent_Addr_tag    0.00\n",
              "dtype: float64"
            ]
          },
          "metadata": {},
          "execution_count": 265
        }
      ]
    },
    {
      "cell_type": "code",
      "source": [
        "missmodelist = train_cat.isnull().sum()/len(train_cat)*100<6"
      ],
      "metadata": {
        "id": "u7A2L8OHY9T7"
      },
      "id": "u7A2L8OHY9T7",
      "execution_count": 266,
      "outputs": []
    },
    {
      "cell_type": "code",
      "source": [
        "for i in list(missmodelist[missmodelist].index):\n",
        "  train[i].fillna(train[i].mode()[0] , inplace = True)"
      ],
      "metadata": {
        "id": "SOzlM7CWY9Pf"
      },
      "id": "SOzlM7CWY9Pf",
      "execution_count": 267,
      "outputs": []
    },
    {
      "cell_type": "code",
      "source": [
        "missmodelist = test_cat.isnull().sum()/len(test_cat)*100<6"
      ],
      "metadata": {
        "id": "SP_EcsYOY9Gt"
      },
      "id": "SP_EcsYOY9Gt",
      "execution_count": 268,
      "outputs": []
    },
    {
      "cell_type": "code",
      "source": [
        "for i in list(missmodelist[missmodelist].index):\n",
        "  test[i].fillna(test[i].mode()[0] , inplace = True)"
      ],
      "metadata": {
        "id": "7q19H0u1Y9EI"
      },
      "id": "7q19H0u1Y9EI",
      "execution_count": 269,
      "outputs": []
    },
    {
      "cell_type": "code",
      "source": [
        "for i in train[train['Job_Type'].isnull()].index:\n",
        "  if train.loc[i , 'Gen'] == 'F':\n",
        "    train.loc[i , 'Job_Type'] = 'Non-IT'\n",
        "  else:\n",
        "    train.loc[i , 'Job_Type'] = 'IT'"
      ],
      "metadata": {
        "id": "27J15RLVYhxG"
      },
      "id": "27J15RLVYhxG",
      "execution_count": 270,
      "outputs": []
    },
    {
      "cell_type": "code",
      "source": [
        "for i in test[test['Job_Type'].isnull()].index:\n",
        "  if test.loc[i , 'Gen'] == 'F':\n",
        "    test.loc[i , 'Job_Type'] = 'Non-IT'\n",
        "  else:\n",
        "    test.loc[i , 'Job_Type'] = 'IT'"
      ],
      "metadata": {
        "id": "W6hq1bH7f7n4"
      },
      "id": "W6hq1bH7f7n4",
      "execution_count": 271,
      "outputs": []
    },
    {
      "cell_type": "code",
      "source": [
        "pd.crosstab(train['Vehicle_Status'] , train['Gen'])"
      ],
      "metadata": {
        "colab": {
          "base_uri": "https://localhost:8080/",
          "height": 143
        },
        "id": "sV0e5t-EgK_Y",
        "outputId": "91939150-9c42-4066-b9c1-094433e62da8"
      },
      "id": "sV0e5t-EgK_Y",
      "execution_count": 272,
      "outputs": [
        {
          "output_type": "execute_result",
          "data": {
            "text/plain": [
              "Gen                 F      M\n",
              "Vehicle_Status              \n",
              "N               18639  62731\n",
              "Y               23605  18361"
            ],
            "text/html": [
              "\n",
              "  <div id=\"df-18fadf63-63b9-43e5-a033-5eecc78b00aa\">\n",
              "    <div class=\"colab-df-container\">\n",
              "      <div>\n",
              "<style scoped>\n",
              "    .dataframe tbody tr th:only-of-type {\n",
              "        vertical-align: middle;\n",
              "    }\n",
              "\n",
              "    .dataframe tbody tr th {\n",
              "        vertical-align: top;\n",
              "    }\n",
              "\n",
              "    .dataframe thead th {\n",
              "        text-align: right;\n",
              "    }\n",
              "</style>\n",
              "<table border=\"1\" class=\"dataframe\">\n",
              "  <thead>\n",
              "    <tr style=\"text-align: right;\">\n",
              "      <th>Gen</th>\n",
              "      <th>F</th>\n",
              "      <th>M</th>\n",
              "    </tr>\n",
              "    <tr>\n",
              "      <th>Vehicle_Status</th>\n",
              "      <th></th>\n",
              "      <th></th>\n",
              "    </tr>\n",
              "  </thead>\n",
              "  <tbody>\n",
              "    <tr>\n",
              "      <th>N</th>\n",
              "      <td>18639</td>\n",
              "      <td>62731</td>\n",
              "    </tr>\n",
              "    <tr>\n",
              "      <th>Y</th>\n",
              "      <td>23605</td>\n",
              "      <td>18361</td>\n",
              "    </tr>\n",
              "  </tbody>\n",
              "</table>\n",
              "</div>\n",
              "      <button class=\"colab-df-convert\" onclick=\"convertToInteractive('df-18fadf63-63b9-43e5-a033-5eecc78b00aa')\"\n",
              "              title=\"Convert this dataframe to an interactive table.\"\n",
              "              style=\"display:none;\">\n",
              "        \n",
              "  <svg xmlns=\"http://www.w3.org/2000/svg\" height=\"24px\"viewBox=\"0 0 24 24\"\n",
              "       width=\"24px\">\n",
              "    <path d=\"M0 0h24v24H0V0z\" fill=\"none\"/>\n",
              "    <path d=\"M18.56 5.44l.94 2.06.94-2.06 2.06-.94-2.06-.94-.94-2.06-.94 2.06-2.06.94zm-11 1L8.5 8.5l.94-2.06 2.06-.94-2.06-.94L8.5 2.5l-.94 2.06-2.06.94zm10 10l.94 2.06.94-2.06 2.06-.94-2.06-.94-.94-2.06-.94 2.06-2.06.94z\"/><path d=\"M17.41 7.96l-1.37-1.37c-.4-.4-.92-.59-1.43-.59-.52 0-1.04.2-1.43.59L10.3 9.45l-7.72 7.72c-.78.78-.78 2.05 0 2.83L4 21.41c.39.39.9.59 1.41.59.51 0 1.02-.2 1.41-.59l7.78-7.78 2.81-2.81c.8-.78.8-2.07 0-2.86zM5.41 20L4 18.59l7.72-7.72 1.47 1.35L5.41 20z\"/>\n",
              "  </svg>\n",
              "      </button>\n",
              "      \n",
              "  <style>\n",
              "    .colab-df-container {\n",
              "      display:flex;\n",
              "      flex-wrap:wrap;\n",
              "      gap: 12px;\n",
              "    }\n",
              "\n",
              "    .colab-df-convert {\n",
              "      background-color: #E8F0FE;\n",
              "      border: none;\n",
              "      border-radius: 50%;\n",
              "      cursor: pointer;\n",
              "      display: none;\n",
              "      fill: #1967D2;\n",
              "      height: 32px;\n",
              "      padding: 0 0 0 0;\n",
              "      width: 32px;\n",
              "    }\n",
              "\n",
              "    .colab-df-convert:hover {\n",
              "      background-color: #E2EBFA;\n",
              "      box-shadow: 0px 1px 2px rgba(60, 64, 67, 0.3), 0px 1px 3px 1px rgba(60, 64, 67, 0.15);\n",
              "      fill: #174EA6;\n",
              "    }\n",
              "\n",
              "    [theme=dark] .colab-df-convert {\n",
              "      background-color: #3B4455;\n",
              "      fill: #D2E3FC;\n",
              "    }\n",
              "\n",
              "    [theme=dark] .colab-df-convert:hover {\n",
              "      background-color: #434B5C;\n",
              "      box-shadow: 0px 1px 3px 1px rgba(0, 0, 0, 0.15);\n",
              "      filter: drop-shadow(0px 1px 2px rgba(0, 0, 0, 0.3));\n",
              "      fill: #FFFFFF;\n",
              "    }\n",
              "  </style>\n",
              "\n",
              "      <script>\n",
              "        const buttonEl =\n",
              "          document.querySelector('#df-18fadf63-63b9-43e5-a033-5eecc78b00aa button.colab-df-convert');\n",
              "        buttonEl.style.display =\n",
              "          google.colab.kernel.accessAllowed ? 'block' : 'none';\n",
              "\n",
              "        async function convertToInteractive(key) {\n",
              "          const element = document.querySelector('#df-18fadf63-63b9-43e5-a033-5eecc78b00aa');\n",
              "          const dataTable =\n",
              "            await google.colab.kernel.invokeFunction('convertToInteractive',\n",
              "                                                     [key], {});\n",
              "          if (!dataTable) return;\n",
              "\n",
              "          const docLinkHtml = 'Like what you see? Visit the ' +\n",
              "            '<a target=\"_blank\" href=https://colab.research.google.com/notebooks/data_table.ipynb>data table notebook</a>'\n",
              "            + ' to learn more about interactive tables.';\n",
              "          element.innerHTML = '';\n",
              "          dataTable['output_type'] = 'display_data';\n",
              "          await google.colab.output.renderOutput(dataTable, element);\n",
              "          const docLink = document.createElement('div');\n",
              "          docLink.innerHTML = docLinkHtml;\n",
              "          element.appendChild(docLink);\n",
              "        }\n",
              "      </script>\n",
              "    </div>\n",
              "  </div>\n",
              "  "
            ]
          },
          "metadata": {},
          "execution_count": 272
        }
      ]
    },
    {
      "cell_type": "code",
      "source": [
        "for i in train[train['Vehicle_Status'].isnull()].index:\n",
        "  if train.loc[i , 'Gen'] == 'M':\n",
        "    train.loc[i , 'Vehicle_Status'] = 'N'\n",
        "  else:\n",
        "    train.loc[i , 'Vehicle_Status'] = 'Y'"
      ],
      "metadata": {
        "id": "xtKvGqjbgzaC"
      },
      "id": "xtKvGqjbgzaC",
      "execution_count": 273,
      "outputs": []
    },
    {
      "cell_type": "code",
      "source": [
        "for i in test[test['Vehicle_Status'].isnull()].index:\n",
        "  if test.loc[i , 'Gen'] == 'M':\n",
        "    test.loc[i , 'Vehicle_Status'] = 'N'\n",
        "  else:\n",
        "    test.loc[i , 'Vehicle_Status'] = 'Y'"
      ],
      "metadata": {
        "id": "5t8-y9KYgK7t"
      },
      "id": "5t8-y9KYgK7t",
      "execution_count": 274,
      "outputs": []
    },
    {
      "cell_type": "code",
      "source": [
        "train_num = train.select_dtypes(include = np.number)\n",
        "train_cat = train.select_dtypes(exclude = np.number)"
      ],
      "metadata": {
        "id": "saONDS5ngK0R"
      },
      "id": "saONDS5ngK0R",
      "execution_count": 275,
      "outputs": []
    },
    {
      "cell_type": "code",
      "source": [
        "test_num = test.select_dtypes(include = np.number)\n",
        "test_cat = test.select_dtypes(exclude = np.number)"
      ],
      "metadata": {
        "id": "TZosj9Y2hk__"
      },
      "id": "TZosj9Y2hk__",
      "execution_count": 276,
      "outputs": []
    },
    {
      "cell_type": "code",
      "source": [
        "train_copy_bef_one_hot = train.copy()\n",
        "test_copy_bef_one_hot = test.copy()"
      ],
      "metadata": {
        "id": "wkqzbcE0aO7V"
      },
      "id": "wkqzbcE0aO7V",
      "execution_count": 277,
      "outputs": []
    },
    {
      "cell_type": "code",
      "source": [
        "# Till now we treated with the missing values\n",
        "# All the missing values are cleared in training and testing data"
      ],
      "metadata": {
        "id": "lUdC1PTdhryI"
      },
      "id": "lUdC1PTdhryI",
      "execution_count": 278,
      "outputs": []
    },
    {
      "cell_type": "code",
      "source": [
        "for i in train_num.columns:\n",
        "    sns.boxplot(train_num[i])\n",
        "    plt.show()"
      ],
      "metadata": {
        "colab": {
          "base_uri": "https://localhost:8080/",
          "height": 1000
        },
        "id": "KYjsX8Cghrv3",
        "outputId": "097a9c01-f6b1-4b6f-b053-31be8f358c22"
      },
      "id": "KYjsX8Cghrv3",
      "execution_count": 279,
      "outputs": [
        {
          "output_type": "stream",
          "name": "stderr",
          "text": [
            "/usr/local/lib/python3.7/dist-packages/seaborn/_decorators.py:43: FutureWarning: Pass the following variable as a keyword arg: x. From version 0.12, the only valid positional argument will be `data`, and passing other arguments without an explicit keyword will result in an error or misinterpretation.\n",
            "  FutureWarning\n"
          ]
        },
        {
          "output_type": "display_data",
          "data": {
            "text/plain": [
              "<Figure size 432x288 with 1 Axes>"
            ],
            "image/png": "[encoded data removed]"
          },
          "metadata": {
            "needs_background": "light"
          }
        },
        {
          "output_type": "stream",
          "name": "stderr",
          "text": [
            "/usr/local/lib/python3.7/dist-packages/seaborn/_decorators.py:43: FutureWarning: Pass the following variable as a keyword arg: x. From version 0.12, the only valid positional argument will be `data`, and passing other arguments without an explicit keyword will result in an error or misinterpretation.\n",
            "  FutureWarning\n"
          ]
        },
        {
          "output_type": "display_data",
          "data": {
            "text/plain": [
              "<Figure size 432x288 with 1 Axes>"
            ],
            "image/png": "[encoded data removed]"
          },
          "metadata": {
            "needs_background": "light"
          }
        },
        {
          "output_type": "stream",
          "name": "stderr",
          "text": [
            "/usr/local/lib/python3.7/dist-packages/seaborn/_decorators.py:43: FutureWarning: Pass the following variable as a keyword arg: x. From version 0.12, the only valid positional argument will be `data`, and passing other arguments without an explicit keyword will result in an error or misinterpretation.\n",
            "  FutureWarning\n"
          ]
        },
        {
          "output_type": "display_data",
          "data": {
            "text/plain": [
              "<Figure size 432x288 with 1 Axes>"
            ],
            "image/png": "[encoded data removed]"
          },
          "metadata": {
            "needs_background": "light"
          }
        },
        {
          "output_type": "stream",
          "name": "stderr",
          "text": [
            "/usr/local/lib/python3.7/dist-packages/seaborn/_decorators.py:43: FutureWarning: Pass the following variable as a keyword arg: x. From version 0.12, the only valid positional argument will be `data`, and passing other arguments without an explicit keyword will result in an error or misinterpretation.\n",
            "  FutureWarning\n"
          ]
        },
        {
          "output_type": "display_data",
          "data": {
            "text/plain": [
              "<Figure size 432x288 with 1 Axes>"
            ],
            "image/png": "[encoded data removed]"
          },
          "metadata": {
            "needs_background": "light"
          }
        },
        {
          "output_type": "stream",
          "name": "stderr",
          "text": [
            "/usr/local/lib/python3.7/dist-packages/seaborn/_decorators.py:43: FutureWarning: Pass the following variable as a keyword arg: x. From version 0.12, the only valid positional argument will be `data`, and passing other arguments without an explicit keyword will result in an error or misinterpretation.\n",
            "  FutureWarning\n"
          ]
        },
        {
          "output_type": "display_data",
          "data": {
            "text/plain": [
              "<Figure size 432x288 with 1 Axes>"
            ],
            "image/png": "[encoded data removed]"
          },
          "metadata": {
            "needs_background": "light"
          }
        },
        {
          "output_type": "stream",
          "name": "stderr",
          "text": [
            "/usr/local/lib/python3.7/dist-packages/seaborn/_decorators.py:43: FutureWarning: Pass the following variable as a keyword arg: x. From version 0.12, the only valid positional argument will be `data`, and passing other arguments without an explicit keyword will result in an error or misinterpretation.\n",
            "  FutureWarning\n"
          ]
        },
        {
          "output_type": "display_data",
          "data": {
            "text/plain": [
              "<Figure size 432x288 with 1 Axes>"
            ],
            "image/png": "[encoded data removed]"
          },
          "metadata": {
            "needs_background": "light"
          }
        },
        {
          "output_type": "stream",
          "name": "stderr",
          "text": [
            "/usr/local/lib/python3.7/dist-packages/seaborn/_decorators.py:43: FutureWarning: Pass the following variable as a keyword arg: x. From version 0.12, the only valid positional argument will be `data`, and passing other arguments without an explicit keyword will result in an error or misinterpretation.\n",
            "  FutureWarning\n"
          ]
        },
        {
          "output_type": "display_data",
          "data": {
            "text/plain": [
              "<Figure size 432x288 with 1 Axes>"
            ],
            "image/png": "[encoded data removed]"
          },
          "metadata": {
            "needs_background": "light"
          }
        },
        {
          "output_type": "stream",
          "name": "stderr",
          "text": [
            "/usr/local/lib/python3.7/dist-packages/seaborn/_decorators.py:43: FutureWarning: Pass the following variable as a keyword arg: x. From version 0.12, the only valid positional argument will be `data`, and passing other arguments without an explicit keyword will result in an error or misinterpretation.\n",
            "  FutureWarning\n"
          ]
        },
        {
          "output_type": "display_data",
          "data": {
            "text/plain": [
              "<Figure size 432x288 with 1 Axes>"
            ],
            "image/png": "[encoded data removed]"
          },
          "metadata": {
            "needs_background": "light"
          }
        },
        {
          "output_type": "stream",
          "name": "stderr",
          "text": [
            "/usr/local/lib/python3.7/dist-packages/seaborn/_decorators.py:43: FutureWarning: Pass the following variable as a keyword arg: x. From version 0.12, the only valid positional argument will be `data`, and passing other arguments without an explicit keyword will result in an error or misinterpretation.\n",
            "  FutureWarning\n"
          ]
        },
        {
          "output_type": "display_data",
          "data": {
            "text/plain": [
              "<Figure size 432x288 with 1 Axes>"
            ],
            "image/png": "[encoded data removed]"
          },
          "metadata": {
            "needs_background": "light"
          }
        },
        {
          "output_type": "stream",
          "name": "stderr",
          "text": [
            "/usr/local/lib/python3.7/dist-packages/seaborn/_decorators.py:43: FutureWarning: Pass the following variable as a keyword arg: x. From version 0.12, the only valid positional argument will be `data`, and passing other arguments without an explicit keyword will result in an error or misinterpretation.\n",
            "  FutureWarning\n"
          ]
        },
        {
          "output_type": "display_data",
          "data": {
            "text/plain": [
              "<Figure size 432x288 with 1 Axes>"
            ],
            "image/png": "[encoded data removed]"
          },
          "metadata": {
            "needs_background": "light"
          }
        },
        {
          "output_type": "stream",
          "name": "stderr",
          "text": [
            "/usr/local/lib/python3.7/dist-packages/seaborn/_decorators.py:43: FutureWarning: Pass the following variable as a keyword arg: x. From version 0.12, the only valid positional argument will be `data`, and passing other arguments without an explicit keyword will result in an error or misinterpretation.\n",
            "  FutureWarning\n"
          ]
        },
        {
          "output_type": "display_data",
          "data": {
            "text/plain": [
              "<Figure size 432x288 with 1 Axes>"
            ],
            "image/png": "[encoded data removed]"
          },
          "metadata": {
            "needs_background": "light"
          }
        },
        {
          "output_type": "stream",
          "name": "stderr",
          "text": [
            "/usr/local/lib/python3.7/dist-packages/seaborn/_decorators.py:43: FutureWarning: Pass the following variable as a keyword arg: x. From version 0.12, the only valid positional argument will be `data`, and passing other arguments without an explicit keyword will result in an error or misinterpretation.\n",
            "  FutureWarning\n"
          ]
        },
        {
          "output_type": "display_data",
          "data": {
            "text/plain": [
              "<Figure size 432x288 with 1 Axes>"
            ],
            "image/png": "[encoded data removed]"
          },
          "metadata": {
            "needs_background": "light"
          }
        },
        {
          "output_type": "stream",
          "name": "stderr",
          "text": [
            "/usr/local/lib/python3.7/dist-packages/seaborn/_decorators.py:43: FutureWarning: Pass the following variable as a keyword arg: x. From version 0.12, the only valid positional argument will be `data`, and passing other arguments without an explicit keyword will result in an error or misinterpretation.\n",
            "  FutureWarning\n"
          ]
        },
        {
          "output_type": "display_data",
          "data": {
            "text/plain": [
              "<Figure size 432x288 with 1 Axes>"
            ],
            "image/png": "[encoded data removed]"
          },
          "metadata": {
            "needs_background": "light"
          }
        },
        {
          "output_type": "stream",
          "name": "stderr",
          "text": [
            "/usr/local/lib/python3.7/dist-packages/seaborn/_decorators.py:43: FutureWarning: Pass the following variable as a keyword arg: x. From version 0.12, the only valid positional argument will be `data`, and passing other arguments without an explicit keyword will result in an error or misinterpretation.\n",
            "  FutureWarning\n"
          ]
        },
        {
          "output_type": "display_data",
          "data": {
            "text/plain": [
              "<Figure size 432x288 with 1 Axes>"
            ],
            "image/png": "[encoded data removed]"
          },
          "metadata": {
            "needs_background": "light"
          }
        },
        {
          "output_type": "stream",
          "name": "stderr",
          "text": [
            "/usr/local/lib/python3.7/dist-packages/seaborn/_decorators.py:43: FutureWarning: Pass the following variable as a keyword arg: x. From version 0.12, the only valid positional argument will be `data`, and passing other arguments without an explicit keyword will result in an error or misinterpretation.\n",
            "  FutureWarning\n"
          ]
        },
        {
          "output_type": "display_data",
          "data": {
            "text/plain": [
              "<Figure size 432x288 with 1 Axes>"
            ],
            "image/png": "[encoded data removed]"
          },
          "metadata": {
            "needs_background": "light"
          }
        },
        {
          "output_type": "stream",
          "name": "stderr",
          "text": [
            "/usr/local/lib/python3.7/dist-packages/seaborn/_decorators.py:43: FutureWarning: Pass the following variable as a keyword arg: x. From version 0.12, the only valid positional argument will be `data`, and passing other arguments without an explicit keyword will result in an error or misinterpretation.\n",
            "  FutureWarning\n"
          ]
        },
        {
          "output_type": "display_data",
          "data": {
            "text/plain": [
              "<Figure size 432x288 with 1 Axes>"
            ],
            "image/png": "[encoded data removed]"
          },
          "metadata": {
            "needs_background": "light"
          }
        }
      ]
    },
    {
      "cell_type": "code",
      "source": [
        "# Capping Treatment\n",
        "for i in train_num.columns:\n",
        "  if i == 'Default':\n",
        "    continue\n",
        "  q1 = train[i].quantile(0.25)\n",
        "  q3 = train[i].quantile(0.75)\n",
        "  iqr = q3 - q1\n",
        "  ub = q3 + 1.5 * iqr\n",
        "  lb = q1 - 1.5 * iqr\n",
        "  uc = train[i].quantile(0.99)\n",
        "  lc = train[i].quantile(0.01)\n",
        "    \n",
        "  ind1 = train[train[i] > ub].index\n",
        "  ind2 = train[train[i] < lb].index\n",
        "    \n",
        "  train.loc[ind1,i] = uc\n",
        "  train.loc[ind2,i] = lc"
      ],
      "metadata": {
        "id": "JSJ8-vaAjzyc"
      },
      "id": "JSJ8-vaAjzyc",
      "execution_count": 280,
      "outputs": []
    },
    {
      "cell_type": "code",
      "source": [
        "for i in test_num.columns:\n",
        "  q1 = test[i].quantile(0.25)\n",
        "  q3 = test[i].quantile(0.75)\n",
        "  iqr = q3 - q1\n",
        "  ub = q3 + 1.5 * iqr\n",
        "  lb = q1 - 1.5 * iqr\n",
        "  uc = test[i].quantile(0.99)\n",
        "  lc = test[i].quantile(0.01)\n",
        "    \n",
        "  ind1 = test[test[i] > ub].index\n",
        "  ind2 = test[test[i] < lb].index\n",
        "    \n",
        "  test.loc[ind1,i] = uc\n",
        "  test.loc[ind2,i] = lc"
      ],
      "metadata": {
        "id": "i-jyJvEqjzva"
      },
      "id": "i-jyJvEqjzva",
      "execution_count": 281,
      "outputs": []
    },
    {
      "cell_type": "code",
      "source": [
        "for i in train_num.columns:\n",
        "    sns.boxplot(train[i])\n",
        "    plt.show()"
      ],
      "metadata": {
        "colab": {
          "base_uri": "https://localhost:8080/",
          "height": 1000
        },
        "id": "QVMPquzfjzo9",
        "outputId": "6e758b93-6dbe-407c-f515-37fdd112bd6c"
      },
      "id": "QVMPquzfjzo9",
      "execution_count": 282,
      "outputs": [
        {
          "output_type": "stream",
          "name": "stderr",
          "text": [
            "/usr/local/lib/python3.7/dist-packages/seaborn/_decorators.py:43: FutureWarning: Pass the following variable as a keyword arg: x. From version 0.12, the only valid positional argument will be `data`, and passing other arguments without an explicit keyword will result in an error or misinterpretation.\n",
            "  FutureWarning\n"
          ]
        },
        {
          "output_type": "display_data",
          "data": {
            "text/plain": [
              "<Figure size 432x288 with 1 Axes>"
            ],
            "image/png": "[encoded data removed]"
          },
          "metadata": {
            "needs_background": "light"
          }
        },
        {
          "output_type": "stream",
          "name": "stderr",
          "text": [
            "/usr/local/lib/python3.7/dist-packages/seaborn/_decorators.py:43: FutureWarning: Pass the following variable as a keyword arg: x. From version 0.12, the only valid positional argument will be `data`, and passing other arguments without an explicit keyword will result in an error or misinterpretation.\n",
            "  FutureWarning\n"
          ]
        },
        {
          "output_type": "display_data",
          "data": {
            "text/plain": [
              "<Figure size 432x288 with 1 Axes>"
            ],
            "image/png": "[encoded data removed]"
          },
          "metadata": {
            "needs_background": "light"
          }
        },
        {
          "output_type": "stream",
          "name": "stderr",
          "text": [
            "/usr/local/lib/python3.7/dist-packages/seaborn/_decorators.py:43: FutureWarning: Pass the following variable as a keyword arg: x. From version 0.12, the only valid positional argument will be `data`, and passing other arguments without an explicit keyword will result in an error or misinterpretation.\n",
            "  FutureWarning\n"
          ]
        },
        {
          "output_type": "display_data",
          "data": {
            "text/plain": [
              "<Figure size 432x288 with 1 Axes>"
            ],
            "image/png": "[encoded data removed]"
          },
          "metadata": {
            "needs_background": "light"
          }
        },
        {
          "output_type": "stream",
          "name": "stderr",
          "text": [
            "/usr/local/lib/python3.7/dist-packages/seaborn/_decorators.py:43: FutureWarning: Pass the following variable as a keyword arg: x. From version 0.12, the only valid positional argument will be `data`, and passing other arguments without an explicit keyword will result in an error or misinterpretation.\n",
            "  FutureWarning\n"
          ]
        },
        {
          "output_type": "display_data",
          "data": {
            "text/plain": [
              "<Figure size 432x288 with 1 Axes>"
            ],
            "image/png": "[encoded data removed]"
          },
          "metadata": {
            "needs_background": "light"
          }
        },
        {
          "output_type": "stream",
          "name": "stderr",
          "text": [
            "/usr/local/lib/python3.7/dist-packages/seaborn/_decorators.py:43: FutureWarning: Pass the following variable as a keyword arg: x. From version 0.12, the only valid positional argument will be `data`, and passing other arguments without an explicit keyword will result in an error or misinterpretation.\n",
            "  FutureWarning\n"
          ]
        },
        {
          "output_type": "display_data",
          "data": {
            "text/plain": [
              "<Figure size 432x288 with 1 Axes>"
            ],
            "image/png": "[encoded data removed]"
          },
          "metadata": {
            "needs_background": "light"
          }
        },
        {
          "output_type": "stream",
          "name": "stderr",
          "text": [
            "/usr/local/lib/python3.7/dist-packages/seaborn/_decorators.py:43: FutureWarning: Pass the following variable as a keyword arg: x. From version 0.12, the only valid positional argument will be `data`, and passing other arguments without an explicit keyword will result in an error or misinterpretation.\n",
            "  FutureWarning\n"
          ]
        },
        {
          "output_type": "display_data",
          "data": {
            "text/plain": [
              "<Figure size 432x288 with 1 Axes>"
            ],
            "image/png": "[encoded data removed]"
          },
          "metadata": {
            "needs_background": "light"
          }
        },
        {
          "output_type": "stream",
          "name": "stderr",
          "text": [
            "/usr/local/lib/python3.7/dist-packages/seaborn/_decorators.py:43: FutureWarning: Pass the following variable as a keyword arg: x. From version 0.12, the only valid positional argument will be `data`, and passing other arguments without an explicit keyword will result in an error or misinterpretation.\n",
            "  FutureWarning\n"
          ]
        },
        {
          "output_type": "display_data",
          "data": {
            "text/plain": [
              "<Figure size 432x288 with 1 Axes>"
            ],
            "image/png": "[encoded data removed]"
          },
          "metadata": {
            "needs_background": "light"
          }
        },
        {
          "output_type": "stream",
          "name": "stderr",
          "text": [
            "/usr/local/lib/python3.7/dist-packages/seaborn/_decorators.py:43: FutureWarning: Pass the following variable as a keyword arg: x. From version 0.12, the only valid positional argument will be `data`, and passing other arguments without an explicit keyword will result in an error or misinterpretation.\n",
            "  FutureWarning\n"
          ]
        },
        {
          "output_type": "display_data",
          "data": {
            "text/plain": [
              "<Figure size 432x288 with 1 Axes>"
            ],
            "image/png": "[encoded data removed]"
          },
          "metadata": {
            "needs_background": "light"
          }
        },
        {
          "output_type": "stream",
          "name": "stderr",
          "text": [
            "/usr/local/lib/python3.7/dist-packages/seaborn/_decorators.py:43: FutureWarning: Pass the following variable as a keyword arg: x. From version 0.12, the only valid positional argument will be `data`, and passing other arguments without an explicit keyword will result in an error or misinterpretation.\n",
            "  FutureWarning\n"
          ]
        },
        {
          "output_type": "display_data",
          "data": {
            "text/plain": [
              "<Figure size 432x288 with 1 Axes>"
            ],
            "image/png": "[encoded data removed]"
          },
          "metadata": {
            "needs_background": "light"
          }
        },
        {
          "output_type": "stream",
          "name": "stderr",
          "text": [
            "/usr/local/lib/python3.7/dist-packages/seaborn/_decorators.py:43: FutureWarning: Pass the following variable as a keyword arg: x. From version 0.12, the only valid positional argument will be `data`, and passing other arguments without an explicit keyword will result in an error or misinterpretation.\n",
            "  FutureWarning\n"
          ]
        },
        {
          "output_type": "display_data",
          "data": {
            "text/plain": [
              "<Figure size 432x288 with 1 Axes>"
            ],
            "image/png": "[encoded data removed]"
          },
          "metadata": {
            "needs_background": "light"
          }
        },
        {
          "output_type": "stream",
          "name": "stderr",
          "text": [
            "/usr/local/lib/python3.7/dist-packages/seaborn/_decorators.py:43: FutureWarning: Pass the following variable as a keyword arg: x. From version 0.12, the only valid positional argument will be `data`, and passing other arguments without an explicit keyword will result in an error or misinterpretation.\n",
            "  FutureWarning\n"
          ]
        },
        {
          "output_type": "display_data",
          "data": {
            "text/plain": [
              "<Figure size 432x288 with 1 Axes>"
            ],
            "image/png": "[encoded data removed]"
          },
          "metadata": {
            "needs_background": "light"
          }
        },
        {
          "output_type": "stream",
          "name": "stderr",
          "text": [
            "/usr/local/lib/python3.7/dist-packages/seaborn/_decorators.py:43: FutureWarning: Pass the following variable as a keyword arg: x. From version 0.12, the only valid positional argument will be `data`, and passing other arguments without an explicit keyword will result in an error or misinterpretation.\n",
            "  FutureWarning\n"
          ]
        },
        {
          "output_type": "display_data",
          "data": {
            "text/plain": [
              "<Figure size 432x288 with 1 Axes>"
            ],
            "image/png": "[encoded data removed]"
          },
          "metadata": {
            "needs_background": "light"
          }
        },
        {
          "output_type": "stream",
          "name": "stderr",
          "text": [
            "/usr/local/lib/python3.7/dist-packages/seaborn/_decorators.py:43: FutureWarning: Pass the following variable as a keyword arg: x. From version 0.12, the only valid positional argument will be `data`, and passing other arguments without an explicit keyword will result in an error or misinterpretation.\n",
            "  FutureWarning\n"
          ]
        },
        {
          "output_type": "display_data",
          "data": {
            "text/plain": [
              "<Figure size 432x288 with 1 Axes>"
            ],
            "image/png": "[encoded data removed]"
          },
          "metadata": {
            "needs_background": "light"
          }
        },
        {
          "output_type": "stream",
          "name": "stderr",
          "text": [
            "/usr/local/lib/python3.7/dist-packages/seaborn/_decorators.py:43: FutureWarning: Pass the following variable as a keyword arg: x. From version 0.12, the only valid positional argument will be `data`, and passing other arguments without an explicit keyword will result in an error or misinterpretation.\n",
            "  FutureWarning\n"
          ]
        },
        {
          "output_type": "display_data",
          "data": {
            "text/plain": [
              "<Figure size 432x288 with 1 Axes>"
            ],
            "image/png": "[encoded data removed]"
          },
          "metadata": {
            "needs_background": "light"
          }
        },
        {
          "output_type": "stream",
          "name": "stderr",
          "text": [
            "/usr/local/lib/python3.7/dist-packages/seaborn/_decorators.py:43: FutureWarning: Pass the following variable as a keyword arg: x. From version 0.12, the only valid positional argument will be `data`, and passing other arguments without an explicit keyword will result in an error or misinterpretation.\n",
            "  FutureWarning\n"
          ]
        },
        {
          "output_type": "display_data",
          "data": {
            "text/plain": [
              "<Figure size 432x288 with 1 Axes>"
            ],
            "image/png": "[encoded data removed]"
          },
          "metadata": {
            "needs_background": "light"
          }
        },
        {
          "output_type": "stream",
          "name": "stderr",
          "text": [
            "/usr/local/lib/python3.7/dist-packages/seaborn/_decorators.py:43: FutureWarning: Pass the following variable as a keyword arg: x. From version 0.12, the only valid positional argument will be `data`, and passing other arguments without an explicit keyword will result in an error or misinterpretation.\n",
            "  FutureWarning\n"
          ]
        },
        {
          "output_type": "display_data",
          "data": {
            "text/plain": [
              "<Figure size 432x288 with 1 Axes>"
            ],
            "image/png": "[encoded data removed]"
          },
          "metadata": {
            "needs_background": "light"
          }
        }
      ]
    },
    {
      "cell_type": "code",
      "source": [
        "uniques(train_cat)"
      ],
      "metadata": {
        "colab": {
          "base_uri": "https://localhost:8080/"
        },
        "id": "eI63WzMDmaRO",
        "outputId": "8a424e1b-cdca-47d5-ae8d-92820f0076b5"
      },
      "id": "eI63WzMDmaRO",
      "execution_count": 283,
      "outputs": [
        {
          "output_type": "stream",
          "name": "stdout",
          "text": [
            "Vehicle_Status --> 2\n",
            "['Y' 'N'] \n",
            "\n",
            "Job_Type --> 3\n",
            "['IT' 'Govt.' 'Non-IT'] \n",
            "\n",
            "Default_hist --> 2\n",
            "['ndf' 'df'] \n",
            "\n",
            "Prop_List --> 3\n",
            "['Morethan_One' 'One' 'None'] \n",
            "\n",
            "Region_Type --> 3\n",
            "['Metro' 'Rural' 'other'] \n",
            "\n",
            "Credit_Inq --> 4\n",
            "['1' '2' '3' '>4'] \n",
            "\n",
            "Education_det --> 3\n",
            "['Grad' 'Other' 'P_Grad'] \n",
            "\n",
            "Marital_Stat --> 4\n",
            "['Married' 'Single' 'Widow' 'Divorce'] \n",
            "\n",
            "Gen --> 2\n",
            "['F' 'M'] \n",
            "\n",
            "Credit_Lnks --> 3\n",
            "['1_to_3' '4_to_6' '>6'] \n",
            "\n",
            "Income_Alt --> 2\n",
            "['Not_Specified' 'Y'] \n",
            "\n",
            "Day_Process --> 7\n",
            "['SAT' 'wed' 'mon' 'Sun' 'Tue' 'thur' 'Fri'] \n",
            "\n",
            "Ph.No --> 2\n",
            "['Yes' 'No'] \n",
            "\n",
            "Type_Loan --> 2\n",
            "['CLoan' 'RLoan'] \n",
            "\n",
            "Region --> 4\n",
            "['East' 'North' 'South' 'Central'] \n",
            "\n",
            "Addr_permanent --> 2\n",
            "['Yes' 'No'] \n",
            "\n",
            "Permanent_Addr_tag --> 2\n",
            "['No' 'Yes'] \n",
            "\n"
          ]
        }
      ]
    },
    {
      "cell_type": "markdown",
      "source": [
        "ONE HOT ENCODING"
      ],
      "metadata": {
        "id": "axlZz8h0qJi7"
      },
      "id": "axlZz8h0qJi7"
    },
    {
      "cell_type": "code",
      "source": [
        "one_hot_encoding_cols = ['Vehicle_Status' , 'Job_Type' , 'Default_hist' , 'Prop_List' , 'Region_Type' , 'Marital_Stat' , 'Gen' , 'Credit_Lnks',\n",
        "                         'Income_Alt' , 'Ph.No' , 'Type_Loan' , 'Region' , 'Addr_permanent' , 'Permanent_Addr_tag']"
      ],
      "metadata": {
        "id": "8BKyNbSBmaN6"
      },
      "id": "8BKyNbSBmaN6",
      "execution_count": 284,
      "outputs": []
    },
    {
      "cell_type": "code",
      "source": [
        "len(list(train.columns))"
      ],
      "metadata": {
        "colab": {
          "base_uri": "https://localhost:8080/"
        },
        "id": "4gOyL8cKpzms",
        "outputId": "904e487d-0ba5-4eba-9df7-eec048ea9f3c"
      },
      "id": "4gOyL8cKpzms",
      "execution_count": 285,
      "outputs": [
        {
          "output_type": "execute_result",
          "data": {
            "text/plain": [
              "33"
            ]
          },
          "metadata": {},
          "execution_count": 285
        }
      ]
    },
    {
      "cell_type": "code",
      "source": [
        "train = pd.get_dummies(train , columns = one_hot_encoding_cols , drop_first = True)"
      ],
      "metadata": {
        "id": "L9dknsS_maHZ"
      },
      "id": "L9dknsS_maHZ",
      "execution_count": 286,
      "outputs": []
    },
    {
      "cell_type": "code",
      "source": [
        "test = pd.get_dummies(test , columns = one_hot_encoding_cols , drop_first = True)"
      ],
      "metadata": {
        "id": "-Oau_BNtqCl4"
      },
      "id": "-Oau_BNtqCl4",
      "execution_count": 287,
      "outputs": []
    },
    {
      "cell_type": "code",
      "source": [
        "len(list(train.columns))"
      ],
      "metadata": {
        "colab": {
          "base_uri": "https://localhost:8080/"
        },
        "id": "_G4z4IbnqG8A",
        "outputId": "1a556ba3-3c4c-4100-c4af-683c72887e80"
      },
      "id": "_G4z4IbnqG8A",
      "execution_count": 288,
      "outputs": [
        {
          "output_type": "execute_result",
          "data": {
            "text/plain": [
              "41"
            ]
          },
          "metadata": {},
          "execution_count": 288
        }
      ]
    },
    {
      "cell_type": "code",
      "source": [
        "set(train_cat.columns) - set(one_hot_encoding_cols)  #remaining columns that has to be treat"
      ],
      "metadata": {
        "colab": {
          "base_uri": "https://localhost:8080/"
        },
        "id": "w73qsFr-rAyU",
        "outputId": "541dc26d-51b5-43d2-90b0-d251365f9747"
      },
      "id": "w73qsFr-rAyU",
      "execution_count": 289,
      "outputs": [
        {
          "output_type": "execute_result",
          "data": {
            "text/plain": [
              "{'Credit_Inq', 'Day_Process', 'Education_det'}"
            ]
          },
          "metadata": {},
          "execution_count": 289
        }
      ]
    },
    {
      "cell_type": "code",
      "source": [
        "train.Credit_Inq.replace({'1':1 , '2':2 , '3' : 3 , '>4' : 4} , inplace = True)"
      ],
      "metadata": {
        "id": "1EAhH-icrwrd"
      },
      "id": "1EAhH-icrwrd",
      "execution_count": 290,
      "outputs": []
    },
    {
      "cell_type": "code",
      "source": [
        "test.Credit_Inq.replace({'1':1 , '2':2 , '3' : 3 , '>4' : 4} , inplace = True)"
      ],
      "metadata": {
        "id": "zqlGtQhYrwn-"
      },
      "id": "zqlGtQhYrwn-",
      "execution_count": 291,
      "outputs": []
    },
    {
      "cell_type": "code",
      "source": [
        "train.Day_Process.replace({'mon' : 1 , 'Tue':2 , 'wed': 3 , 'thur':4 , 'Fri':5 , 'SAT':6 , 'Sun':7} , inplace = True)"
      ],
      "metadata": {
        "id": "W-0KDLb6rwlo"
      },
      "id": "W-0KDLb6rwlo",
      "execution_count": 292,
      "outputs": []
    },
    {
      "cell_type": "code",
      "source": [
        "test.Day_Process.replace({'mon' : 1 , 'Tue':2 , 'wed': 3 , 'thur':4 , 'Fri':5 , 'SAT':6, 'Sun':7} , inplace = True)"
      ],
      "metadata": {
        "id": "dCNvc4hPtIzQ"
      },
      "id": "dCNvc4hPtIzQ",
      "execution_count": 293,
      "outputs": []
    },
    {
      "cell_type": "code",
      "source": [
        "train.Education_det.replace({'Other':1 , 'Grad':2 , 'P_Grad':3} , inplace = True)"
      ],
      "metadata": {
        "id": "dDJyptl1tUBv"
      },
      "id": "dDJyptl1tUBv",
      "execution_count": 294,
      "outputs": []
    },
    {
      "cell_type": "code",
      "source": [
        "test.Education_det.replace({'Other':1 , 'Grad':2 , 'P_Grad':3} , inplace = True)"
      ],
      "metadata": {
        "id": "h2AZ_M-gto_G"
      },
      "id": "h2AZ_M-gto_G",
      "execution_count": 295,
      "outputs": []
    },
    {
      "cell_type": "code",
      "source": [
        "train.info()"
      ],
      "metadata": {
        "colab": {
          "base_uri": "https://localhost:8080/"
        },
        "id": "HS3Ap8yPtus2",
        "outputId": "dafe0b2b-d522-4dc5-8bd2-c3f35c880e60"
      },
      "id": "HS3Ap8yPtus2",
      "execution_count": 296,
      "outputs": [
        {
          "output_type": "stream",
          "name": "stdout",
          "text": [
            "<class 'pandas.core.frame.DataFrame'>\n",
            "RangeIndex: 132440 entries, 0 to 132439\n",
            "Data columns (total 41 columns):\n",
            " #   Column                  Non-Null Count   Dtype  \n",
            "---  ------                  --------------   -----  \n",
            " 0   ID                      132440 non-null  float64\n",
            " 1   Compensation            132440 non-null  float64\n",
            " 2   Loan_amt                132440 non-null  float64\n",
            " 3   Annuity_amt             132440 non-null  float64\n",
            " 4   density_Ind             132440 non-null  float64\n",
            " 5   Home_Appliances         132440 non-null  float64\n",
            " 6   Credit_Inq              132440 non-null  int64  \n",
            " 7   Education_det           132440 non-null  int64  \n",
            " 8   Experience              132440 non-null  float64\n",
            " 9   Day_Process             132440 non-null  int64  \n",
            " 10  Dependents              132440 non-null  float64\n",
            " 11  Company_Rating          132440 non-null  float64\n",
            " 12  Age                     132440 non-null  float64\n",
            " 13  hour_Process            132440 non-null  float64\n",
            " 14  c1_rated                132440 non-null  float64\n",
            " 15  c2_rated                132440 non-null  float64\n",
            " 16  Contact_age             132440 non-null  float64\n",
            " 17  Product_bought          132440 non-null  float64\n",
            " 18  Default                 132440 non-null  float64\n",
            " 19  Vehicle_Status_Y        132440 non-null  uint8  \n",
            " 20  Job_Type_IT             132440 non-null  uint8  \n",
            " 21  Job_Type_Non-IT         132440 non-null  uint8  \n",
            " 22  Default_hist_ndf        132440 non-null  uint8  \n",
            " 23  Prop_List_None          132440 non-null  uint8  \n",
            " 24  Prop_List_One           132440 non-null  uint8  \n",
            " 25  Region_Type_Rural       132440 non-null  uint8  \n",
            " 26  Region_Type_other       132440 non-null  uint8  \n",
            " 27  Marital_Stat_Married    132440 non-null  uint8  \n",
            " 28  Marital_Stat_Single     132440 non-null  uint8  \n",
            " 29  Marital_Stat_Widow      132440 non-null  uint8  \n",
            " 30  Gen_M                   132440 non-null  uint8  \n",
            " 31  Credit_Lnks_4_to_6      132440 non-null  uint8  \n",
            " 32  Credit_Lnks_>6          132440 non-null  uint8  \n",
            " 33  Income_Alt_Y            132440 non-null  uint8  \n",
            " 34  Ph.No_Yes               132440 non-null  uint8  \n",
            " 35  Type_Loan_RLoan         132440 non-null  uint8  \n",
            " 36  Region_East             132440 non-null  uint8  \n",
            " 37  Region_North            132440 non-null  uint8  \n",
            " 38  Region_South            132440 non-null  uint8  \n",
            " 39  Addr_permanent_Yes      132440 non-null  uint8  \n",
            " 40  Permanent_Addr_tag_Yes  132440 non-null  uint8  \n",
            "dtypes: float64(16), int64(3), uint8(22)\n",
            "memory usage: 22.0 MB\n"
          ]
        }
      ]
    },
    {
      "cell_type": "code",
      "source": [
        "test.info()"
      ],
      "metadata": {
        "colab": {
          "base_uri": "https://localhost:8080/"
        },
        "id": "MKS6uKVguhEd",
        "outputId": "926fd966-fd20-4f61-ef99-d804644ada60"
      },
      "id": "MKS6uKVguhEd",
      "execution_count": 297,
      "outputs": [
        {
          "output_type": "stream",
          "name": "stdout",
          "text": [
            "<class 'pandas.core.frame.DataFrame'>\n",
            "RangeIndex: 56760 entries, 0 to 56759\n",
            "Data columns (total 40 columns):\n",
            " #   Column                  Non-Null Count  Dtype  \n",
            "---  ------                  --------------  -----  \n",
            " 0   ID                      56760 non-null  float64\n",
            " 1   Compensation            56760 non-null  float64\n",
            " 2   Loan_amt                56760 non-null  float64\n",
            " 3   Annuity_amt             56760 non-null  float64\n",
            " 4   density_Ind             56760 non-null  float64\n",
            " 5   Home_Appliances         56760 non-null  float64\n",
            " 6   Credit_Inq              56760 non-null  int64  \n",
            " 7   Education_det           56760 non-null  int64  \n",
            " 8   Experience              56760 non-null  float64\n",
            " 9   Day_Process             56760 non-null  int64  \n",
            " 10  Dependents              56760 non-null  float64\n",
            " 11  Company_Rating          56760 non-null  float64\n",
            " 12  Age                     56760 non-null  float64\n",
            " 13  hour_Process            56760 non-null  float64\n",
            " 14  c1_rated                56760 non-null  float64\n",
            " 15  c2_rated                56760 non-null  float64\n",
            " 16  Contact_age             56760 non-null  float64\n",
            " 17  Product_bought          56760 non-null  float64\n",
            " 18  Vehicle_Status_Y        56760 non-null  uint8  \n",
            " 19  Job_Type_IT             56760 non-null  uint8  \n",
            " 20  Job_Type_Non-IT         56760 non-null  uint8  \n",
            " 21  Default_hist_ndf        56760 non-null  uint8  \n",
            " 22  Prop_List_None          56760 non-null  uint8  \n",
            " 23  Prop_List_One           56760 non-null  uint8  \n",
            " 24  Region_Type_Rural       56760 non-null  uint8  \n",
            " 25  Region_Type_other       56760 non-null  uint8  \n",
            " 26  Marital_Stat_Married    56760 non-null  uint8  \n",
            " 27  Marital_Stat_Single     56760 non-null  uint8  \n",
            " 28  Marital_Stat_Widow      56760 non-null  uint8  \n",
            " 29  Gen_M                   56760 non-null  uint8  \n",
            " 30  Credit_Lnks_4_to_6      56760 non-null  uint8  \n",
            " 31  Credit_Lnks_>6          56760 non-null  uint8  \n",
            " 32  Income_Alt_Y            56760 non-null  uint8  \n",
            " 33  Ph.No_Yes               56760 non-null  uint8  \n",
            " 34  Type_Loan_RLoan         56760 non-null  uint8  \n",
            " 35  Region_East             56760 non-null  uint8  \n",
            " 36  Region_North            56760 non-null  uint8  \n",
            " 37  Region_South            56760 non-null  uint8  \n",
            " 38  Addr_permanent_Yes      56760 non-null  uint8  \n",
            " 39  Permanent_Addr_tag_Yes  56760 non-null  uint8  \n",
            "dtypes: float64(15), int64(3), uint8(22)\n",
            "memory usage: 9.0 MB\n"
          ]
        }
      ]
    },
    {
      "cell_type": "code",
      "source": [
        "#from google.colab import files\n",
        "\n",
        "#train.to_csv('train_clean.csv') \n",
        "#files.download('train_clean.csv')\n",
        "\n",
        "#test.to_csv('test_clean.csv') \n",
        "#files.download('test_clean.csv')"
      ],
      "metadata": {
        "id": "srNAtYCX3YxG"
      },
      "id": "srNAtYCX3YxG",
      "execution_count": 298,
      "outputs": []
    },
    {
      "cell_type": "markdown",
      "id": "b5b309c3",
      "metadata": {
        "id": "b5b309c3"
      },
      "source": [
        "## 2 Exploratory Data Analyis"
      ]
    },
    {
      "cell_type": "markdown",
      "id": "ab955d0a",
      "metadata": {
        "id": "ab955d0a"
      },
      "source": [
        "In this section you can talk about the plots and the insights you have generated from the data\n",
        "\n",
        "\n",
        "\n",
        "\n",
        "\n",
        "\n",
        "\n",
        "\n",
        "\n",
        "\n",
        "\n",
        "\n",
        "\n",
        "\n",
        "\n",
        "\n",
        "\n",
        "\n",
        "\n",
        "\n",
        "\n",
        "\n",
        "\n"
      ]
    },
    {
      "cell_type": "code",
      "source": [
        "def univariate(df):\n",
        "    numcols = df.select_dtypes(include = np.number).columns\n",
        "    plt.xticks(rotation = 90)\n",
        "    for i in df.columns:\n",
        "        if df[i].nunique() > 50:\n",
        "            continue\n",
        "        if i in numcols:\n",
        "            sns.distplot(df[i])\n",
        "            plt.show()\n",
        "        else:\n",
        "            sns.countplot(df[i])\n",
        "            plt.show()"
      ],
      "metadata": {
        "id": "c2fUPUdvY7_K"
      },
      "id": "c2fUPUdvY7_K",
      "execution_count": 75,
      "outputs": []
    },
    {
      "cell_type": "code",
      "source": [
        "univariate(train_copy_bef_one_hot)"
      ],
      "metadata": {
        "colab": {
          "base_uri": "https://localhost:8080/",
          "height": 1000
        },
        "id": "8BfUuuMpY79D",
        "outputId": "cc7748e0-7ad4-40e5-ba21-baf813229c36"
      },
      "id": "8BfUuuMpY79D",
      "execution_count": 76,
      "outputs": [
        {
          "output_type": "stream",
          "name": "stderr",
          "text": [
            "/usr/local/lib/python3.7/dist-packages/seaborn/_decorators.py:43: FutureWarning: Pass the following variable as a keyword arg: x. From version 0.12, the only valid positional argument will be `data`, and passing other arguments without an explicit keyword will result in an error or misinterpretation.\n",
            "  FutureWarning\n"
          ]
        },
        {
          "output_type": "display_data",
          "data": {
            "text/plain": [
              "<Figure size 432x288 with 1 Axes>"
            ],
            "image/png": "[encoded data removed]"
          },
          "metadata": {
            "needs_background": "light"
          }
        },
        {
          "output_type": "stream",
          "name": "stderr",
          "text": [
            "/usr/local/lib/python3.7/dist-packages/seaborn/_decorators.py:43: FutureWarning: Pass the following variable as a keyword arg: x. From version 0.12, the only valid positional argument will be `data`, and passing other arguments without an explicit keyword will result in an error or misinterpretation.\n",
            "  FutureWarning\n"
          ]
        },
        {
          "output_type": "display_data",
          "data": {
            "text/plain": [
              "<Figure size 432x288 with 1 Axes>"
            ],
            "image/png": "[encoded data removed]"
          },
          "metadata": {
            "needs_background": "light"
          }
        },
        {
          "output_type": "stream",
          "name": "stderr",
          "text": [
            "/usr/local/lib/python3.7/dist-packages/seaborn/_decorators.py:43: FutureWarning: Pass the following variable as a keyword arg: x. From version 0.12, the only valid positional argument will be `data`, and passing other arguments without an explicit keyword will result in an error or misinterpretation.\n",
            "  FutureWarning\n"
          ]
        },
        {
          "output_type": "display_data",
          "data": {
            "text/plain": [
              "<Figure size 432x288 with 1 Axes>"
            ],
            "image/png": "[encoded data removed]"
          },
          "metadata": {
            "needs_background": "light"
          }
        },
        {
          "output_type": "stream",
          "name": "stderr",
          "text": [
            "/usr/local/lib/python3.7/dist-packages/seaborn/_decorators.py:43: FutureWarning: Pass the following variable as a keyword arg: x. From version 0.12, the only valid positional argument will be `data`, and passing other arguments without an explicit keyword will result in an error or misinterpretation.\n",
            "  FutureWarning\n"
          ]
        },
        {
          "output_type": "display_data",
          "data": {
            "text/plain": [
              "<Figure size 432x288 with 1 Axes>"
            ],
            "image/png": "[encoded data removed]"
          },
          "metadata": {
            "needs_background": "light"
          }
        },
        {
          "output_type": "stream",
          "name": "stderr",
          "text": [
            "/usr/local/lib/python3.7/dist-packages/seaborn/distributions.py:2619: FutureWarning: `distplot` is a deprecated function and will be removed in a future version. Please adapt your code to use either `displot` (a figure-level function with similar flexibility) or `histplot` (an axes-level function for histograms).\n",
            "  warnings.warn(msg, FutureWarning)\n"
          ]
        },
        {
          "output_type": "display_data",
          "data": {
            "text/plain": [
              "<Figure size 432x288 with 1 Axes>"
            ],
            "image/png": "[encoded data removed]"
          },
          "metadata": {
            "needs_background": "light"
          }
        },
        {
          "output_type": "stream",
          "name": "stderr",
          "text": [
            "/usr/local/lib/python3.7/dist-packages/seaborn/_decorators.py:43: FutureWarning: Pass the following variable as a keyword arg: x. From version 0.12, the only valid positional argument will be `data`, and passing other arguments without an explicit keyword will result in an error or misinterpretation.\n",
            "  FutureWarning\n"
          ]
        },
        {
          "output_type": "display_data",
          "data": {
            "text/plain": [
              "<Figure size 432x288 with 1 Axes>"
            ],
            "image/png": "[encoded data removed]"
          },
          "metadata": {
            "needs_background": "light"
          }
        },
        {
          "output_type": "stream",
          "name": "stderr",
          "text": [
            "/usr/local/lib/python3.7/dist-packages/seaborn/_decorators.py:43: FutureWarning: Pass the following variable as a keyword arg: x. From version 0.12, the only valid positional argument will be `data`, and passing other arguments without an explicit keyword will result in an error or misinterpretation.\n",
            "  FutureWarning\n"
          ]
        },
        {
          "output_type": "display_data",
          "data": {
            "text/plain": [
              "<Figure size 432x288 with 1 Axes>"
            ],
            "image/png": "[encoded data removed]"
          },
          "metadata": {
            "needs_background": "light"
          }
        },
        {
          "output_type": "stream",
          "name": "stderr",
          "text": [
            "/usr/local/lib/python3.7/dist-packages/seaborn/_decorators.py:43: FutureWarning: Pass the following variable as a keyword arg: x. From version 0.12, the only valid positional argument will be `data`, and passing other arguments without an explicit keyword will result in an error or misinterpretation.\n",
            "  FutureWarning\n"
          ]
        },
        {
          "output_type": "display_data",
          "data": {
            "text/plain": [
              "<Figure size 432x288 with 1 Axes>"
            ],
            "image/png": "[encoded data removed]"
          },
          "metadata": {
            "needs_background": "light"
          }
        },
        {
          "output_type": "stream",
          "name": "stderr",
          "text": [
            "/usr/local/lib/python3.7/dist-packages/seaborn/_decorators.py:43: FutureWarning: Pass the following variable as a keyword arg: x. From version 0.12, the only valid positional argument will be `data`, and passing other arguments without an explicit keyword will result in an error or misinterpretation.\n",
            "  FutureWarning\n"
          ]
        },
        {
          "output_type": "display_data",
          "data": {
            "text/plain": [
              "<Figure size 432x288 with 1 Axes>"
            ],
            "image/png": "[encoded data removed]"
          },
          "metadata": {
            "needs_background": "light"
          }
        },
        {
          "output_type": "stream",
          "name": "stderr",
          "text": [
            "/usr/local/lib/python3.7/dist-packages/seaborn/_decorators.py:43: FutureWarning: Pass the following variable as a keyword arg: x. From version 0.12, the only valid positional argument will be `data`, and passing other arguments without an explicit keyword will result in an error or misinterpretation.\n",
            "  FutureWarning\n"
          ]
        },
        {
          "output_type": "display_data",
          "data": {
            "text/plain": [
              "<Figure size 432x288 with 1 Axes>"
            ],
            "image/png": "[encoded data removed]"
          },
          "metadata": {
            "needs_background": "light"
          }
        },
        {
          "output_type": "stream",
          "name": "stderr",
          "text": [
            "/usr/local/lib/python3.7/dist-packages/seaborn/_decorators.py:43: FutureWarning: Pass the following variable as a keyword arg: x. From version 0.12, the only valid positional argument will be `data`, and passing other arguments without an explicit keyword will result in an error or misinterpretation.\n",
            "  FutureWarning\n"
          ]
        },
        {
          "output_type": "display_data",
          "data": {
            "text/plain": [
              "<Figure size 432x288 with 1 Axes>"
            ],
            "image/png": "[encoded data removed]"
          },
          "metadata": {
            "needs_background": "light"
          }
        },
        {
          "output_type": "stream",
          "name": "stderr",
          "text": [
            "/usr/local/lib/python3.7/dist-packages/seaborn/_decorators.py:43: FutureWarning: Pass the following variable as a keyword arg: x. From version 0.12, the only valid positional argument will be `data`, and passing other arguments without an explicit keyword will result in an error or misinterpretation.\n",
            "  FutureWarning\n"
          ]
        },
        {
          "output_type": "display_data",
          "data": {
            "text/plain": [
              "<Figure size 432x288 with 1 Axes>"
            ],
            "image/png": "[encoded data removed]"
          },
          "metadata": {
            "needs_background": "light"
          }
        },
        {
          "output_type": "stream",
          "name": "stderr",
          "text": [
            "/usr/local/lib/python3.7/dist-packages/seaborn/_decorators.py:43: FutureWarning: Pass the following variable as a keyword arg: x. From version 0.12, the only valid positional argument will be `data`, and passing other arguments without an explicit keyword will result in an error or misinterpretation.\n",
            "  FutureWarning\n"
          ]
        },
        {
          "output_type": "display_data",
          "data": {
            "text/plain": [
              "<Figure size 432x288 with 1 Axes>"
            ],
            "image/png": "[encoded data removed]"
          },
          "metadata": {
            "needs_background": "light"
          }
        },
        {
          "output_type": "stream",
          "name": "stderr",
          "text": [
            "/usr/local/lib/python3.7/dist-packages/seaborn/_decorators.py:43: FutureWarning: Pass the following variable as a keyword arg: x. From version 0.12, the only valid positional argument will be `data`, and passing other arguments without an explicit keyword will result in an error or misinterpretation.\n",
            "  FutureWarning\n"
          ]
        },
        {
          "output_type": "display_data",
          "data": {
            "text/plain": [
              "<Figure size 432x288 with 1 Axes>"
            ],
            "image/png": "[encoded data removed]"
          },
          "metadata": {
            "needs_background": "light"
          }
        },
        {
          "output_type": "stream",
          "name": "stderr",
          "text": [
            "/usr/local/lib/python3.7/dist-packages/seaborn/_decorators.py:43: FutureWarning: Pass the following variable as a keyword arg: x. From version 0.12, the only valid positional argument will be `data`, and passing other arguments without an explicit keyword will result in an error or misinterpretation.\n",
            "  FutureWarning\n"
          ]
        },
        {
          "output_type": "display_data",
          "data": {
            "text/plain": [
              "<Figure size 432x288 with 1 Axes>"
            ],
            "image/png": "[encoded data removed]"
          },
          "metadata": {
            "needs_background": "light"
          }
        },
        {
          "output_type": "stream",
          "name": "stderr",
          "text": [
            "/usr/local/lib/python3.7/dist-packages/seaborn/distributions.py:2619: FutureWarning: `distplot` is a deprecated function and will be removed in a future version. Please adapt your code to use either `displot` (a figure-level function with similar flexibility) or `histplot` (an axes-level function for histograms).\n",
            "  warnings.warn(msg, FutureWarning)\n"
          ]
        },
        {
          "output_type": "display_data",
          "data": {
            "text/plain": [
              "<Figure size 432x288 with 1 Axes>"
            ],
            "image/png": "[encoded data removed]"
          },
          "metadata": {
            "needs_background": "light"
          }
        },
        {
          "output_type": "stream",
          "name": "stderr",
          "text": [
            "/usr/local/lib/python3.7/dist-packages/seaborn/distributions.py:2619: FutureWarning: `distplot` is a deprecated function and will be removed in a future version. Please adapt your code to use either `displot` (a figure-level function with similar flexibility) or `histplot` (an axes-level function for histograms).\n",
            "  warnings.warn(msg, FutureWarning)\n"
          ]
        },
        {
          "output_type": "display_data",
          "data": {
            "text/plain": [
              "<Figure size 432x288 with 1 Axes>"
            ],
            "image/png": "[encoded data removed]"
          },
          "metadata": {
            "needs_background": "light"
          }
        },
        {
          "output_type": "stream",
          "name": "stderr",
          "text": [
            "/usr/local/lib/python3.7/dist-packages/seaborn/_decorators.py:43: FutureWarning: Pass the following variable as a keyword arg: x. From version 0.12, the only valid positional argument will be `data`, and passing other arguments without an explicit keyword will result in an error or misinterpretation.\n",
            "  FutureWarning\n"
          ]
        },
        {
          "output_type": "display_data",
          "data": {
            "text/plain": [
              "<Figure size 432x288 with 1 Axes>"
            ],
            "image/png": "[encoded data removed]"
          },
          "metadata": {
            "needs_background": "light"
          }
        },
        {
          "output_type": "stream",
          "name": "stderr",
          "text": [
            "/usr/local/lib/python3.7/dist-packages/seaborn/distributions.py:2619: FutureWarning: `distplot` is a deprecated function and will be removed in a future version. Please adapt your code to use either `displot` (a figure-level function with similar flexibility) or `histplot` (an axes-level function for histograms).\n",
            "  warnings.warn(msg, FutureWarning)\n"
          ]
        },
        {
          "output_type": "display_data",
          "data": {
            "text/plain": [
              "<Figure size 432x288 with 1 Axes>"
            ],
            "image/png": "[encoded data removed]"
          },
          "metadata": {
            "needs_background": "light"
          }
        },
        {
          "output_type": "stream",
          "name": "stderr",
          "text": [
            "/usr/local/lib/python3.7/dist-packages/seaborn/distributions.py:2619: FutureWarning: `distplot` is a deprecated function and will be removed in a future version. Please adapt your code to use either `displot` (a figure-level function with similar flexibility) or `histplot` (an axes-level function for histograms).\n",
            "  warnings.warn(msg, FutureWarning)\n"
          ]
        },
        {
          "output_type": "display_data",
          "data": {
            "text/plain": [
              "<Figure size 432x288 with 1 Axes>"
            ],
            "image/png": "[encoded data removed]"
          },
          "metadata": {
            "needs_background": "light"
          }
        },
        {
          "output_type": "stream",
          "name": "stderr",
          "text": [
            "/usr/local/lib/python3.7/dist-packages/seaborn/_decorators.py:43: FutureWarning: Pass the following variable as a keyword arg: x. From version 0.12, the only valid positional argument will be `data`, and passing other arguments without an explicit keyword will result in an error or misinterpretation.\n",
            "  FutureWarning\n"
          ]
        },
        {
          "output_type": "display_data",
          "data": {
            "text/plain": [
              "<Figure size 432x288 with 1 Axes>"
            ],
            "image/png": "[encoded data removed]"
          },
          "metadata": {
            "needs_background": "light"
          }
        },
        {
          "output_type": "stream",
          "name": "stderr",
          "text": [
            "/usr/local/lib/python3.7/dist-packages/seaborn/_decorators.py:43: FutureWarning: Pass the following variable as a keyword arg: x. From version 0.12, the only valid positional argument will be `data`, and passing other arguments without an explicit keyword will result in an error or misinterpretation.\n",
            "  FutureWarning\n"
          ]
        },
        {
          "output_type": "display_data",
          "data": {
            "text/plain": [
              "<Figure size 432x288 with 1 Axes>"
            ],
            "image/png": "[encoded data removed]"
          },
          "metadata": {
            "needs_background": "light"
          }
        },
        {
          "output_type": "stream",
          "name": "stderr",
          "text": [
            "/usr/local/lib/python3.7/dist-packages/seaborn/distributions.py:2619: FutureWarning: `distplot` is a deprecated function and will be removed in a future version. Please adapt your code to use either `displot` (a figure-level function with similar flexibility) or `histplot` (an axes-level function for histograms).\n",
            "  warnings.warn(msg, FutureWarning)\n"
          ]
        },
        {
          "output_type": "display_data",
          "data": {
            "text/plain": [
              "<Figure size 432x288 with 1 Axes>"
            ],
            "image/png": "[encoded data removed]"
          },
          "metadata": {
            "needs_background": "light"
          }
        },
        {
          "output_type": "stream",
          "name": "stderr",
          "text": [
            "/usr/local/lib/python3.7/dist-packages/seaborn/distributions.py:2619: FutureWarning: `distplot` is a deprecated function and will be removed in a future version. Please adapt your code to use either `displot` (a figure-level function with similar flexibility) or `histplot` (an axes-level function for histograms).\n",
            "  warnings.warn(msg, FutureWarning)\n"
          ]
        },
        {
          "output_type": "display_data",
          "data": {
            "text/plain": [
              "<Figure size 432x288 with 1 Axes>"
            ],
            "image/png": "[encoded data removed]"
          },
          "metadata": {
            "needs_background": "light"
          }
        }
      ]
    },
    {
      "cell_type": "code",
      "source": [
        "#sns.pairplot(train_copy_bef_one_hot , hue = 'Default')"
      ],
      "metadata": {
        "id": "6TDqJ2svkVII"
      },
      "id": "6TDqJ2svkVII",
      "execution_count": 299,
      "outputs": []
    },
    {
      "cell_type": "markdown",
      "id": "d7d85628",
      "metadata": {
        "id": "d7d85628"
      },
      "source": [
        "## 3 Model Building"
      ]
    },
    {
      "cell_type": "markdown",
      "id": "31a1f68c",
      "metadata": {
        "id": "31a1f68c"
      },
      "source": [
        "In this you can build various ML models and try tuning the parameters involved to achieve better score"
      ]
    },
    {
      "cell_type": "markdown",
      "id": "8b1cf2ac",
      "metadata": {
        "id": "8b1cf2ac"
      },
      "source": [
        "## Model 1"
      ]
    },
    {
      "cell_type": "code",
      "execution_count": 353,
      "id": "ef5c751a",
      "metadata": {
        "id": "ef5c751a"
      },
      "outputs": [],
      "source": [
        "from sklearn.model_selection import train_test_split\n",
        "from sklearn.tree import DecisionTreeClassifier\n",
        "from sklearn.metrics import f1_score , classification_report , confusion_matrix , accuracy_score\n",
        "from sklearn.model_selection import GridSearchCV"
      ]
    },
    {
      "cell_type": "code",
      "source": [
        "x = train.drop(['Default' , 'ID'] , axis = 1)\n",
        "y = train.Default"
      ],
      "metadata": {
        "id": "6GpjY3XY46EV"
      },
      "id": "6GpjY3XY46EV",
      "execution_count": 364,
      "outputs": []
    },
    {
      "cell_type": "code",
      "source": [
        "xtrain , xtest , ytrain , ytest = train_test_split(x ,y , test_size = 0.2 , random_state = 7)"
      ],
      "metadata": {
        "id": "3fppcrZd4qMH"
      },
      "id": "3fppcrZd4qMH",
      "execution_count": 365,
      "outputs": []
    },
    {
      "cell_type": "code",
      "source": [
        "import statsmodels.api as SM"
      ],
      "metadata": {
        "id": "p4-r-vw5vyHJ"
      },
      "id": "p4-r-vw5vyHJ",
      "execution_count": 303,
      "outputs": []
    },
    {
      "cell_type": "code",
      "source": [
        "X = SM.add_constant(x)\n",
        "X_train, X_test, y_train, y_test = train_test_split(x, y, random_state = 1, test_size = 0.3)\n",
        "logreg = SM.Logit(y_train, X_train).fit()\n",
        "logreg.summary()"
      ],
      "metadata": {
        "colab": {
          "base_uri": "https://localhost:8080/",
          "height": 1000
        },
        "id": "nCnILMd9vpwI",
        "outputId": "bb9c1946-d661-4fca-abfd-bd318da9c958"
      },
      "id": "nCnILMd9vpwI",
      "execution_count": 304,
      "outputs": [
        {
          "output_type": "stream",
          "name": "stderr",
          "text": [
            "/usr/local/lib/python3.7/dist-packages/statsmodels/tsa/tsatools.py:117: FutureWarning: In a future version of pandas all arguments of concat except for the argument 'objs' will be keyword-only\n",
            "  x = pd.concat(x[::order], 1)\n"
          ]
        },
        {
          "output_type": "stream",
          "name": "stdout",
          "text": [
            "Optimization terminated successfully.\n",
            "         Current function value: 0.576629\n",
            "         Iterations 5\n"
          ]
        },
        {
          "output_type": "execute_result",
          "data": {
            "text/plain": [
              "<class 'statsmodels.iolib.summary.Summary'>\n",
              "\"\"\"\n",
              "                           Logit Regression Results                           \n",
              "==============================================================================\n",
              "Dep. Variable:                Default   No. Observations:                92708\n",
              "Model:                          Logit   Df Residuals:                    92669\n",
              "Method:                           MLE   Df Model:                           38\n",
              "Date:                Sun, 31 Jul 2022   Pseudo R-squ.:                0.001984\n",
              "Time:                        10:46:09   Log-Likelihood:                -53458.\n",
              "converged:                       True   LL-Null:                       -53564.\n",
              "Covariance Type:            nonrobust   LLR p-value:                 4.012e-26\n",
              "==========================================================================================\n",
              "                             coef    std err          z      P>|z|      [0.025      0.975]\n",
              "------------------------------------------------------------------------------------------\n",
              "Compensation            2.362e-08   2.46e-08      0.958      0.338   -2.47e-08    7.19e-08\n",
              "Loan_amt                -1.92e-08    3.3e-08     -0.582      0.561   -8.39e-08    4.55e-08\n",
              "Annuity_amt            -1.626e-06   4.33e-06     -0.375      0.707   -1.01e-05    6.86e-06\n",
              "density_Ind               -0.6358      0.657     -0.968      0.333      -1.924       0.652\n",
              "Home_Appliances           -0.0080      0.033     -0.242      0.809      -0.073       0.057\n",
              "Credit_Inq                -0.0137      0.009     -1.610      0.107      -0.030       0.003\n",
              "Education_det             -0.0580      0.015     -3.812      0.000      -0.088      -0.028\n",
              "Experience                -0.0044      0.001     -3.251      0.001      -0.007      -0.002\n",
              "Day_Process                0.0022      0.004      0.516      0.606      -0.006       0.010\n",
              "Dependents                -0.0396      0.021     -1.871      0.061      -0.081       0.002\n",
              "Company_Rating             0.0467      0.014      3.407      0.001       0.020       0.074\n",
              "Age                       -0.0036      0.001     -4.436      0.000      -0.005      -0.002\n",
              "hour_Process              -0.0051      0.002     -2.395      0.017      -0.009      -0.001\n",
              "c1_rated                  -0.0196      0.064     -0.308      0.758      -0.144       0.105\n",
              "c2_rated                  -0.1097      0.063     -1.753      0.080      -0.232       0.013\n",
              "Contact_age            -3.548e-05   9.56e-06     -3.711      0.000   -5.42e-05   -1.67e-05\n",
              "Product_bought             0.0087      0.004      2.499      0.012       0.002       0.016\n",
              "Vehicle_Status_Y          -0.0473      0.017     -2.709      0.007      -0.082      -0.013\n",
              "Job_Type_IT               -0.0372      0.020     -1.896      0.058      -0.076       0.001\n",
              "Job_Type_Non-IT           -0.0320      0.023     -1.371      0.170      -0.078       0.014\n",
              "Default_hist_ndf          -0.3849      0.089     -4.328      0.000      -0.559      -0.211\n",
              "Prop_List_None            -0.3344      0.114     -2.937      0.003      -0.557      -0.111\n",
              "Prop_List_One              0.0069      0.103      0.066      0.947      -0.196       0.209\n",
              "Region_Type_Rural         -0.0234      0.020     -1.159      0.246      -0.063       0.016\n",
              "Region_Type_other         -0.0346      0.054     -0.639      0.523      -0.141       0.071\n",
              "Marital_Stat_Married       0.0297      0.038      0.774      0.439      -0.045       0.105\n",
              "Marital_Stat_Single       -0.0229      0.036     -0.640      0.522      -0.093       0.047\n",
              "Marital_Stat_Widow         0.0297      0.045      0.654      0.513      -0.059       0.118\n",
              "Gen_M                     -0.0716      0.018     -4.003      0.000      -0.107      -0.037\n",
              "Credit_Lnks_4_to_6         0.0190      0.025      0.754      0.451      -0.030       0.068\n",
              "Credit_Lnks_>6            -0.0423      0.068     -0.620      0.535      -0.176       0.091\n",
              "Income_Alt_Y              -0.0113      0.018     -0.631      0.528      -0.046       0.024\n",
              "Ph.No_Yes                 -0.0113      0.020     -0.564      0.573      -0.051       0.028\n",
              "Type_Loan_RLoan           -0.0752      0.027     -2.817      0.005      -0.127      -0.023\n",
              "Region_East               -0.0213      0.023     -0.916      0.360      -0.067       0.024\n",
              "Region_North              -0.0025      0.021     -0.117      0.907      -0.044       0.039\n",
              "Region_South               0.0422      0.024      1.740      0.082      -0.005       0.090\n",
              "Addr_permanent_Yes        -0.0850      0.028     -3.085      0.002      -0.139      -0.031\n",
              "Permanent_Addr_tag_Yes     0.0252      0.020      1.267      0.205      -0.014       0.064\n",
              "==========================================================================================\n",
              "\"\"\""
            ],
            "text/html": [
              "<table class=\"simpletable\">\n",
              "<caption>Logit Regression Results</caption>\n",
              "<tr>\n",
              "  <th>Dep. Variable:</th>        <td>Default</td>     <th>  No. Observations:  </th>  <td> 92708</td>  \n",
              "</tr>\n",
              "<tr>\n",
              "  <th>Model:</th>                 <td>Logit</td>      <th>  Df Residuals:      </th>  <td> 92669</td>  \n",
              "</tr>\n",
              "<tr>\n",
              "  <th>Method:</th>                 <td>MLE</td>       <th>  Df Model:          </th>  <td>    38</td>  \n",
              "</tr>\n",
              "<tr>\n",
              "  <th>Date:</th>            <td>Sun, 31 Jul 2022</td> <th>  Pseudo R-squ.:     </th> <td>0.001984</td> \n",
              "</tr>\n",
              "<tr>\n",
              "  <th>Time:</th>                <td>10:46:09</td>     <th>  Log-Likelihood:    </th> <td> -53458.</td> \n",
              "</tr>\n",
              "<tr>\n",
              "  <th>converged:</th>             <td>True</td>       <th>  LL-Null:           </th> <td> -53564.</td> \n",
              "</tr>\n",
              "<tr>\n",
              "  <th>Covariance Type:</th>     <td>nonrobust</td>    <th>  LLR p-value:       </th> <td>4.012e-26</td>\n",
              "</tr>\n",
              "</table>\n",
              "<table class=\"simpletable\">\n",
              "<tr>\n",
              "             <td></td>               <th>coef</th>     <th>std err</th>      <th>z</th>      <th>P>|z|</th>  <th>[0.025</th>    <th>0.975]</th>  \n",
              "</tr>\n",
              "<tr>\n",
              "  <th>Compensation</th>           <td> 2.362e-08</td> <td> 2.46e-08</td> <td>    0.958</td> <td> 0.338</td> <td>-2.47e-08</td> <td> 7.19e-08</td>\n",
              "</tr>\n",
              "<tr>\n",
              "  <th>Loan_amt</th>               <td> -1.92e-08</td> <td>  3.3e-08</td> <td>   -0.582</td> <td> 0.561</td> <td>-8.39e-08</td> <td> 4.55e-08</td>\n",
              "</tr>\n",
              "<tr>\n",
              "  <th>Annuity_amt</th>            <td>-1.626e-06</td> <td> 4.33e-06</td> <td>   -0.375</td> <td> 0.707</td> <td>-1.01e-05</td> <td> 6.86e-06</td>\n",
              "</tr>\n",
              "<tr>\n",
              "  <th>density_Ind</th>            <td>   -0.6358</td> <td>    0.657</td> <td>   -0.968</td> <td> 0.333</td> <td>   -1.924</td> <td>    0.652</td>\n",
              "</tr>\n",
              "<tr>\n",
              "  <th>Home_Appliances</th>        <td>   -0.0080</td> <td>    0.033</td> <td>   -0.242</td> <td> 0.809</td> <td>   -0.073</td> <td>    0.057</td>\n",
              "</tr>\n",
              "<tr>\n",
              "  <th>Credit_Inq</th>             <td>   -0.0137</td> <td>    0.009</td> <td>   -1.610</td> <td> 0.107</td> <td>   -0.030</td> <td>    0.003</td>\n",
              "</tr>\n",
              "<tr>\n",
              "  <th>Education_det</th>          <td>   -0.0580</td> <td>    0.015</td> <td>   -3.812</td> <td> 0.000</td> <td>   -0.088</td> <td>   -0.028</td>\n",
              "</tr>\n",
              "<tr>\n",
              "  <th>Experience</th>             <td>   -0.0044</td> <td>    0.001</td> <td>   -3.251</td> <td> 0.001</td> <td>   -0.007</td> <td>   -0.002</td>\n",
              "</tr>\n",
              "<tr>\n",
              "  <th>Day_Process</th>            <td>    0.0022</td> <td>    0.004</td> <td>    0.516</td> <td> 0.606</td> <td>   -0.006</td> <td>    0.010</td>\n",
              "</tr>\n",
              "<tr>\n",
              "  <th>Dependents</th>             <td>   -0.0396</td> <td>    0.021</td> <td>   -1.871</td> <td> 0.061</td> <td>   -0.081</td> <td>    0.002</td>\n",
              "</tr>\n",
              "<tr>\n",
              "  <th>Company_Rating</th>         <td>    0.0467</td> <td>    0.014</td> <td>    3.407</td> <td> 0.001</td> <td>    0.020</td> <td>    0.074</td>\n",
              "</tr>\n",
              "<tr>\n",
              "  <th>Age</th>                    <td>   -0.0036</td> <td>    0.001</td> <td>   -4.436</td> <td> 0.000</td> <td>   -0.005</td> <td>   -0.002</td>\n",
              "</tr>\n",
              "<tr>\n",
              "  <th>hour_Process</th>           <td>   -0.0051</td> <td>    0.002</td> <td>   -2.395</td> <td> 0.017</td> <td>   -0.009</td> <td>   -0.001</td>\n",
              "</tr>\n",
              "<tr>\n",
              "  <th>c1_rated</th>               <td>   -0.0196</td> <td>    0.064</td> <td>   -0.308</td> <td> 0.758</td> <td>   -0.144</td> <td>    0.105</td>\n",
              "</tr>\n",
              "<tr>\n",
              "  <th>c2_rated</th>               <td>   -0.1097</td> <td>    0.063</td> <td>   -1.753</td> <td> 0.080</td> <td>   -0.232</td> <td>    0.013</td>\n",
              "</tr>\n",
              "<tr>\n",
              "  <th>Contact_age</th>            <td>-3.548e-05</td> <td> 9.56e-06</td> <td>   -3.711</td> <td> 0.000</td> <td>-5.42e-05</td> <td>-1.67e-05</td>\n",
              "</tr>\n",
              "<tr>\n",
              "  <th>Product_bought</th>         <td>    0.0087</td> <td>    0.004</td> <td>    2.499</td> <td> 0.012</td> <td>    0.002</td> <td>    0.016</td>\n",
              "</tr>\n",
              "<tr>\n",
              "  <th>Vehicle_Status_Y</th>       <td>   -0.0473</td> <td>    0.017</td> <td>   -2.709</td> <td> 0.007</td> <td>   -0.082</td> <td>   -0.013</td>\n",
              "</tr>\n",
              "<tr>\n",
              "  <th>Job_Type_IT</th>            <td>   -0.0372</td> <td>    0.020</td> <td>   -1.896</td> <td> 0.058</td> <td>   -0.076</td> <td>    0.001</td>\n",
              "</tr>\n",
              "<tr>\n",
              "  <th>Job_Type_Non-IT</th>        <td>   -0.0320</td> <td>    0.023</td> <td>   -1.371</td> <td> 0.170</td> <td>   -0.078</td> <td>    0.014</td>\n",
              "</tr>\n",
              "<tr>\n",
              "  <th>Default_hist_ndf</th>       <td>   -0.3849</td> <td>    0.089</td> <td>   -4.328</td> <td> 0.000</td> <td>   -0.559</td> <td>   -0.211</td>\n",
              "</tr>\n",
              "<tr>\n",
              "  <th>Prop_List_None</th>         <td>   -0.3344</td> <td>    0.114</td> <td>   -2.937</td> <td> 0.003</td> <td>   -0.557</td> <td>   -0.111</td>\n",
              "</tr>\n",
              "<tr>\n",
              "  <th>Prop_List_One</th>          <td>    0.0069</td> <td>    0.103</td> <td>    0.066</td> <td> 0.947</td> <td>   -0.196</td> <td>    0.209</td>\n",
              "</tr>\n",
              "<tr>\n",
              "  <th>Region_Type_Rural</th>      <td>   -0.0234</td> <td>    0.020</td> <td>   -1.159</td> <td> 0.246</td> <td>   -0.063</td> <td>    0.016</td>\n",
              "</tr>\n",
              "<tr>\n",
              "  <th>Region_Type_other</th>      <td>   -0.0346</td> <td>    0.054</td> <td>   -0.639</td> <td> 0.523</td> <td>   -0.141</td> <td>    0.071</td>\n",
              "</tr>\n",
              "<tr>\n",
              "  <th>Marital_Stat_Married</th>   <td>    0.0297</td> <td>    0.038</td> <td>    0.774</td> <td> 0.439</td> <td>   -0.045</td> <td>    0.105</td>\n",
              "</tr>\n",
              "<tr>\n",
              "  <th>Marital_Stat_Single</th>    <td>   -0.0229</td> <td>    0.036</td> <td>   -0.640</td> <td> 0.522</td> <td>   -0.093</td> <td>    0.047</td>\n",
              "</tr>\n",
              "<tr>\n",
              "  <th>Marital_Stat_Widow</th>     <td>    0.0297</td> <td>    0.045</td> <td>    0.654</td> <td> 0.513</td> <td>   -0.059</td> <td>    0.118</td>\n",
              "</tr>\n",
              "<tr>\n",
              "  <th>Gen_M</th>                  <td>   -0.0716</td> <td>    0.018</td> <td>   -4.003</td> <td> 0.000</td> <td>   -0.107</td> <td>   -0.037</td>\n",
              "</tr>\n",
              "<tr>\n",
              "  <th>Credit_Lnks_4_to_6</th>     <td>    0.0190</td> <td>    0.025</td> <td>    0.754</td> <td> 0.451</td> <td>   -0.030</td> <td>    0.068</td>\n",
              "</tr>\n",
              "<tr>\n",
              "  <th>Credit_Lnks_>6</th>         <td>   -0.0423</td> <td>    0.068</td> <td>   -0.620</td> <td> 0.535</td> <td>   -0.176</td> <td>    0.091</td>\n",
              "</tr>\n",
              "<tr>\n",
              "  <th>Income_Alt_Y</th>           <td>   -0.0113</td> <td>    0.018</td> <td>   -0.631</td> <td> 0.528</td> <td>   -0.046</td> <td>    0.024</td>\n",
              "</tr>\n",
              "<tr>\n",
              "  <th>Ph.No_Yes</th>              <td>   -0.0113</td> <td>    0.020</td> <td>   -0.564</td> <td> 0.573</td> <td>   -0.051</td> <td>    0.028</td>\n",
              "</tr>\n",
              "<tr>\n",
              "  <th>Type_Loan_RLoan</th>        <td>   -0.0752</td> <td>    0.027</td> <td>   -2.817</td> <td> 0.005</td> <td>   -0.127</td> <td>   -0.023</td>\n",
              "</tr>\n",
              "<tr>\n",
              "  <th>Region_East</th>            <td>   -0.0213</td> <td>    0.023</td> <td>   -0.916</td> <td> 0.360</td> <td>   -0.067</td> <td>    0.024</td>\n",
              "</tr>\n",
              "<tr>\n",
              "  <th>Region_North</th>           <td>   -0.0025</td> <td>    0.021</td> <td>   -0.117</td> <td> 0.907</td> <td>   -0.044</td> <td>    0.039</td>\n",
              "</tr>\n",
              "<tr>\n",
              "  <th>Region_South</th>           <td>    0.0422</td> <td>    0.024</td> <td>    1.740</td> <td> 0.082</td> <td>   -0.005</td> <td>    0.090</td>\n",
              "</tr>\n",
              "<tr>\n",
              "  <th>Addr_permanent_Yes</th>     <td>   -0.0850</td> <td>    0.028</td> <td>   -3.085</td> <td> 0.002</td> <td>   -0.139</td> <td>   -0.031</td>\n",
              "</tr>\n",
              "<tr>\n",
              "  <th>Permanent_Addr_tag_Yes</th> <td>    0.0252</td> <td>    0.020</td> <td>    1.267</td> <td> 0.205</td> <td>   -0.014</td> <td>    0.064</td>\n",
              "</tr>\n",
              "</table>"
            ]
          },
          "metadata": {},
          "execution_count": 304
        }
      ]
    },
    {
      "cell_type": "code",
      "source": [
        ""
      ],
      "metadata": {
        "id": "nnk1AyFmvpuT"
      },
      "id": "nnk1AyFmvpuT",
      "execution_count": null,
      "outputs": []
    },
    {
      "cell_type": "code",
      "source": [
        ""
      ],
      "metadata": {
        "id": "tpBDUxNZvpqu"
      },
      "id": "tpBDUxNZvpqu",
      "execution_count": null,
      "outputs": []
    },
    {
      "cell_type": "code",
      "source": [
        ""
      ],
      "metadata": {
        "id": "OcQdEW88vpo4"
      },
      "id": "OcQdEW88vpo4",
      "execution_count": null,
      "outputs": []
    },
    {
      "cell_type": "code",
      "source": [
        ""
      ],
      "metadata": {
        "id": "SrdIyCwVvph7"
      },
      "id": "SrdIyCwVvph7",
      "execution_count": null,
      "outputs": []
    },
    {
      "cell_type": "code",
      "source": [
        ""
      ],
      "metadata": {
        "id": "Jm_MC5tNvpfM"
      },
      "id": "Jm_MC5tNvpfM",
      "execution_count": null,
      "outputs": []
    },
    {
      "cell_type": "markdown",
      "source": [
        "Checking class Imbalance and we got class imbalance here so we are using the smote for resampling the data points"
      ],
      "metadata": {
        "id": "4-FHBm0UcuIg"
      },
      "id": "4-FHBm0UcuIg"
    },
    {
      "cell_type": "code",
      "source": [
        ""
      ],
      "metadata": {
        "id": "19PRS6adc_zS"
      },
      "id": "19PRS6adc_zS",
      "execution_count": 137,
      "outputs": []
    },
    {
      "cell_type": "code",
      "source": [
        "train['Default'].value_counts()/len(train)*100"
      ],
      "metadata": {
        "colab": {
          "base_uri": "https://localhost:8080/"
        },
        "id": "79GebG1xs9sr",
        "outputId": "ee42da4b-ec25-4e4c-aed6-528d0fc546bc"
      },
      "id": "79GebG1xs9sr",
      "execution_count": 305,
      "outputs": [
        {
          "output_type": "execute_result",
          "data": {
            "text/plain": [
              "0.0    73.569918\n",
              "1.0    26.430082\n",
              "Name: Default, dtype: float64"
            ]
          },
          "metadata": {},
          "execution_count": 305
        }
      ]
    },
    {
      "cell_type": "code",
      "source": [
        "from imblearn.over_sampling import SMOTE\n",
        "sm = SMOTE(random_state=7)"
      ],
      "metadata": {
        "id": "X7TUbj1js9ct"
      },
      "id": "X7TUbj1js9ct",
      "execution_count": 366,
      "outputs": []
    },
    {
      "cell_type": "code",
      "source": [
        "x_res, y_res = sm.fit_resample(xtrain, ytrain)"
      ],
      "metadata": {
        "id": "4bqduznPwW9T"
      },
      "id": "4bqduznPwW9T",
      "execution_count": 367,
      "outputs": []
    },
    {
      "cell_type": "code",
      "source": [
        "dt = DecisionTreeClassifier()"
      ],
      "metadata": {
        "id": "YpQDqsPU4qKZ"
      },
      "id": "YpQDqsPU4qKZ",
      "execution_count": 308,
      "outputs": []
    },
    {
      "cell_type": "code",
      "source": [
        "dt = dt.fit(x_res , y_res)"
      ],
      "metadata": {
        "id": "lThOdfV64qIR"
      },
      "id": "lThOdfV64qIR",
      "execution_count": 309,
      "outputs": []
    },
    {
      "cell_type": "code",
      "source": [
        "pred = dt.predict(xtest)"
      ],
      "metadata": {
        "id": "-K_U69SFRIG8"
      },
      "id": "-K_U69SFRIG8",
      "execution_count": 310,
      "outputs": []
    },
    {
      "cell_type": "code",
      "source": [
        "f1_score(ytest , pred) # for log reg without stdardization"
      ],
      "metadata": {
        "colab": {
          "base_uri": "https://localhost:8080/"
        },
        "id": "cW0sBv5Z8vPM",
        "outputId": "66f8f3c4-69fc-4b79-9e02-ea0bc9322006"
      },
      "id": "cW0sBv5Z8vPM",
      "execution_count": 311,
      "outputs": [
        {
          "output_type": "execute_result",
          "data": {
            "text/plain": [
              "0.29378234947258075"
            ]
          },
          "metadata": {},
          "execution_count": 311
        }
      ]
    },
    {
      "cell_type": "code",
      "source": [
        "print(classification_report(ytest,dt.predict(xtest)))\n",
        "print(confusion_matrix(ytest,dt.predict(xtest)))"
      ],
      "metadata": {
        "colab": {
          "base_uri": "https://localhost:8080/"
        },
        "id": "if3PE2XJs90a",
        "outputId": "be097e3c-2b91-4b69-deb0-1563c60cce59"
      },
      "id": "if3PE2XJs90a",
      "execution_count": 312,
      "outputs": [
        {
          "output_type": "stream",
          "name": "stdout",
          "text": [
            "              precision    recall  f1-score   support\n",
            "\n",
            "         0.0       0.74      0.69      0.71     19499\n",
            "         1.0       0.27      0.32      0.29      6989\n",
            "\n",
            "    accuracy                           0.59     26488\n",
            "   macro avg       0.51      0.51      0.50     26488\n",
            "weighted avg       0.62      0.59      0.60     26488\n",
            "\n",
            "[[13467  6032]\n",
            " [ 4747  2242]]\n"
          ]
        }
      ]
    },
    {
      "cell_type": "code",
      "source": [
        ""
      ],
      "metadata": {
        "id": "idVf1NqN4qDH"
      },
      "id": "idVf1NqN4qDH",
      "execution_count": 115,
      "outputs": []
    },
    {
      "cell_type": "code",
      "source": [
        "pred = lr.predict(test.drop(['ID','Default'] , axis = 1)).astype(int)\n",
        "test['Default'] = pred\n",
        "submission_TVS = pd.DataFrame(test[['ID' , 'Default']])\n",
        "submission_TVS.ID = submission_TVS.ID.astype(int)\n",
        "submission_TVS.head()"
      ],
      "metadata": {
        "id": "bcQcqEJ6-5Mp"
      },
      "id": "bcQcqEJ6-5Mp",
      "execution_count": null,
      "outputs": []
    },
    {
      "cell_type": "code",
      "source": [
        "from google.colab import files\n",
        "\n",
        "submission_TVS.to_csv('Submission_TVS.csv') \n",
        "files.download('Submission_TVS.csv')"
      ],
      "metadata": {
        "id": "DISFDHoo-5KS"
      },
      "id": "DISFDHoo-5KS",
      "execution_count": null,
      "outputs": []
    },
    {
      "cell_type": "markdown",
      "id": "ea85664f",
      "metadata": {
        "id": "ea85664f"
      },
      "source": [
        "## Model 2 "
      ]
    },
    {
      "cell_type": "code",
      "source": [
        "from sklearn.linear_model import LogisticRegression\n",
        "from sklearn.preprocessing import StandardScaler"
      ],
      "metadata": {
        "id": "lQ46TL6NpV4F"
      },
      "id": "lQ46TL6NpV4F",
      "execution_count": 313,
      "outputs": []
    },
    {
      "cell_type": "code",
      "source": [
        "lr = LogisticRegression()\n",
        "sc=StandardScaler()"
      ],
      "metadata": {
        "id": "UOTcrOerqJz2"
      },
      "id": "UOTcrOerqJz2",
      "execution_count": 314,
      "outputs": []
    },
    {
      "cell_type": "code",
      "source": [
        "not_contributing_cols = ['Addr_permanent_Yes' , 'Region_South' , 'Type_Loan_RLoan' , 'Gen_M' , 'Prop_List_None' , 'Default_hist_ndf' , 'Job_Type_IT',\n",
        "        'Vehicle_Status_Y' , 'Product_bought' , 'Contact_age' , 'c2_rated' , 'hour_Process' , 'Age' , 'Company_Rating' ,'Dependents' , 'Experience' ,\n",
        "        'Education_det' , 'Default']"
      ],
      "metadata": {
        "id": "ttP82748zOwH"
      },
      "id": "ttP82748zOwH",
      "execution_count": 334,
      "outputs": []
    },
    {
      "cell_type": "code",
      "source": [
        "x = train.drop(not_contributing_cols , axis = 1)\n",
        "y = train.Default"
      ],
      "metadata": {
        "id": "WG-qYmaRzOyg"
      },
      "id": "WG-qYmaRzOyg",
      "execution_count": 335,
      "outputs": []
    },
    {
      "cell_type": "code",
      "source": [
        "xtrain , xtest , ytrain , ytest = train_test_split(x ,y , test_size = 0.2 , random_state = 7)"
      ],
      "metadata": {
        "id": "1hlD4RUH0TZ6"
      },
      "id": "1hlD4RUH0TZ6",
      "execution_count": 336,
      "outputs": []
    },
    {
      "cell_type": "code",
      "source": [
        "x_res, y_res = sm.fit_resample(xtrain, ytrain)"
      ],
      "metadata": {
        "id": "we5xybPezOsG"
      },
      "id": "we5xybPezOsG",
      "execution_count": 337,
      "outputs": []
    },
    {
      "cell_type": "code",
      "source": [
        "XScale = pd.DataFrame(sc.fit_transform(x_res) , columns = x_res.columns)"
      ],
      "metadata": {
        "id": "Y2YpPwoLKpPj"
      },
      "id": "Y2YpPwoLKpPj",
      "execution_count": 338,
      "outputs": []
    },
    {
      "cell_type": "code",
      "source": [
        "lr.fit(XScale.drop('ID' , axis = 1),y_res)"
      ],
      "metadata": {
        "colab": {
          "base_uri": "https://localhost:8080/"
        },
        "id": "nhmOuAZFlJOY",
        "outputId": "8eab91ee-3911-40d4-90c9-ea3012e25249"
      },
      "id": "nhmOuAZFlJOY",
      "execution_count": 339,
      "outputs": [
        {
          "output_type": "execute_result",
          "data": {
            "text/plain": [
              "LogisticRegression()"
            ]
          },
          "metadata": {},
          "execution_count": 339
        }
      ]
    },
    {
      "cell_type": "code",
      "source": [
        "f1_score(ytest , lr.predict(xtest.drop('ID' , axis = 1)))  # 0.4175404008722406"
      ],
      "metadata": {
        "colab": {
          "base_uri": "https://localhost:8080/"
        },
        "id": "6BQxk7aMejDO",
        "outputId": "1ada19ca-9d05-4aca-eeb9-96f579680530"
      },
      "id": "6BQxk7aMejDO",
      "execution_count": 341,
      "outputs": [
        {
          "output_type": "execute_result",
          "data": {
            "text/plain": [
              "0.4175404008722406"
            ]
          },
          "metadata": {},
          "execution_count": 341
        }
      ]
    },
    {
      "cell_type": "code",
      "source": [
        "not_contributing_cols.append('ID')"
      ],
      "metadata": {
        "id": "eTbrqSrp2Af1"
      },
      "id": "eTbrqSrp2Af1",
      "execution_count": 342,
      "outputs": []
    },
    {
      "cell_type": "code",
      "source": [
        "set(XScale.columns) - set(test.columns)"
      ],
      "metadata": {
        "colab": {
          "base_uri": "https://localhost:8080/"
        },
        "id": "0KkDCAhg4tL2",
        "outputId": "1bba2751-d1e4-41b0-ac8b-ad2288ef2790"
      },
      "id": "0KkDCAhg4tL2",
      "execution_count": 329,
      "outputs": [
        {
          "output_type": "execute_result",
          "data": {
            "text/plain": [
              "{'Default'}"
            ]
          },
          "metadata": {},
          "execution_count": 329
        }
      ]
    },
    {
      "cell_type": "code",
      "source": [
        "test.drop(not_contributing_cols , axis = 1).head()"
      ],
      "metadata": {
        "colab": {
          "base_uri": "https://localhost:8080/",
          "height": 317
        },
        "id": "7dcyJdnO6z-X",
        "outputId": "9600c575-faa9-4933-d764-9540ddec4b38"
      },
      "id": "7dcyJdnO6z-X",
      "execution_count": 332,
      "outputs": [
        {
          "output_type": "execute_result",
          "data": {
            "text/plain": [
              "   Compensation   Loan_amt  Annuity_amt  density_Ind  Home_Appliances  \\\n",
              "0      653106.0  809400.00      9145.51       0.0015         1.000000   \n",
              "1      434150.0   72618.75      7683.23       0.0332         4.000000   \n",
              "2      489060.0  267255.80      9032.85       0.0316         1.010081   \n",
              "3      957294.0  623600.00     12838.25       0.0320         4.000000   \n",
              "4     1333739.0  529520.00     11799.09       0.0073         4.000000   \n",
              "\n",
              "   Credit_Inq  Day_Process  c1_rated  Job_Type_Non-IT  Prop_List_One  ...  \\\n",
              "0           1            4     0.349                0              0  ...   \n",
              "1           1            3     0.237                0              1  ...   \n",
              "2           1            4     0.111                0              0  ...   \n",
              "3           1            2     0.323                0              1  ...   \n",
              "4           3            3     0.940                1              1  ...   \n",
              "\n",
              "   Marital_Stat_Married  Marital_Stat_Single  Marital_Stat_Widow  \\\n",
              "0                     1                    0                   0   \n",
              "1                     1                    0                   0   \n",
              "2                     1                    0                   0   \n",
              "3                     1                    0                   0   \n",
              "4                     1                    0                   0   \n",
              "\n",
              "   Credit_Lnks_4_to_6  Credit_Lnks_>6  Income_Alt_Y  Ph.No_Yes  Region_East  \\\n",
              "0                   0               0             0          1            0   \n",
              "1                   0               0             1          0            0   \n",
              "2                   0               0             1          0            0   \n",
              "3                   0               0             1          1            1   \n",
              "4                   0               0             1          1            0   \n",
              "\n",
              "   Region_North  Permanent_Addr_tag_Yes  \n",
              "0             1                       1  \n",
              "1             0                       1  \n",
              "2             0                       1  \n",
              "3             0                       1  \n",
              "4             1                       1  \n",
              "\n",
              "[5 rows x 22 columns]"
            ],
            "text/html": [
              "\n",
              "  <div id=\"df-8ae1f415-c6fe-4bb9-9441-df6efe0acd8b\">\n",
              "    <div class=\"colab-df-container\">\n",
              "      <div>\n",
              "<style scoped>\n",
              "    .dataframe tbody tr th:only-of-type {\n",
              "        vertical-align: middle;\n",
              "    }\n",
              "\n",
              "    .dataframe tbody tr th {\n",
              "        vertical-align: top;\n",
              "    }\n",
              "\n",
              "    .dataframe thead th {\n",
              "        text-align: right;\n",
              "    }\n",
              "</style>\n",
              "<table border=\"1\" class=\"dataframe\">\n",
              "  <thead>\n",
              "    <tr style=\"text-align: right;\">\n",
              "      <th></th>\n",
              "      <th>Compensation</th>\n",
              "      <th>Loan_amt</th>\n",
              "      <th>Annuity_amt</th>\n",
              "      <th>density_Ind</th>\n",
              "      <th>Home_Appliances</th>\n",
              "      <th>Credit_Inq</th>\n",
              "      <th>Day_Process</th>\n",
              "      <th>c1_rated</th>\n",
              "      <th>Job_Type_Non-IT</th>\n",
              "      <th>Prop_List_One</th>\n",
              "      <th>...</th>\n",
              "      <th>Marital_Stat_Married</th>\n",
              "      <th>Marital_Stat_Single</th>\n",
              "      <th>Marital_Stat_Widow</th>\n",
              "      <th>Credit_Lnks_4_to_6</th>\n",
              "      <th>Credit_Lnks_&gt;6</th>\n",
              "      <th>Income_Alt_Y</th>\n",
              "      <th>Ph.No_Yes</th>\n",
              "      <th>Region_East</th>\n",
              "      <th>Region_North</th>\n",
              "      <th>Permanent_Addr_tag_Yes</th>\n",
              "    </tr>\n",
              "  </thead>\n",
              "  <tbody>\n",
              "    <tr>\n",
              "      <th>0</th>\n",
              "      <td>653106.0</td>\n",
              "      <td>809400.00</td>\n",
              "      <td>9145.51</td>\n",
              "      <td>0.0015</td>\n",
              "      <td>1.000000</td>\n",
              "      <td>1</td>\n",
              "      <td>4</td>\n",
              "      <td>0.349</td>\n",
              "      <td>0</td>\n",
              "      <td>0</td>\n",
              "      <td>...</td>\n",
              "      <td>1</td>\n",
              "      <td>0</td>\n",
              "      <td>0</td>\n",
              "      <td>0</td>\n",
              "      <td>0</td>\n",
              "      <td>0</td>\n",
              "      <td>1</td>\n",
              "      <td>0</td>\n",
              "      <td>1</td>\n",
              "      <td>1</td>\n",
              "    </tr>\n",
              "    <tr>\n",
              "      <th>1</th>\n",
              "      <td>434150.0</td>\n",
              "      <td>72618.75</td>\n",
              "      <td>7683.23</td>\n",
              "      <td>0.0332</td>\n",
              "      <td>4.000000</td>\n",
              "      <td>1</td>\n",
              "      <td>3</td>\n",
              "      <td>0.237</td>\n",
              "      <td>0</td>\n",
              "      <td>1</td>\n",
              "      <td>...</td>\n",
              "      <td>1</td>\n",
              "      <td>0</td>\n",
              "      <td>0</td>\n",
              "      <td>0</td>\n",
              "      <td>0</td>\n",
              "      <td>1</td>\n",
              "      <td>0</td>\n",
              "      <td>0</td>\n",
              "      <td>0</td>\n",
              "      <td>1</td>\n",
              "    </tr>\n",
              "    <tr>\n",
              "      <th>2</th>\n",
              "      <td>489060.0</td>\n",
              "      <td>267255.80</td>\n",
              "      <td>9032.85</td>\n",
              "      <td>0.0316</td>\n",
              "      <td>1.010081</td>\n",
              "      <td>1</td>\n",
              "      <td>4</td>\n",
              "      <td>0.111</td>\n",
              "      <td>0</td>\n",
              "      <td>0</td>\n",
              "      <td>...</td>\n",
              "      <td>1</td>\n",
              "      <td>0</td>\n",
              "      <td>0</td>\n",
              "      <td>0</td>\n",
              "      <td>0</td>\n",
              "      <td>1</td>\n",
              "      <td>0</td>\n",
              "      <td>0</td>\n",
              "      <td>0</td>\n",
              "      <td>1</td>\n",
              "    </tr>\n",
              "    <tr>\n",
              "      <th>3</th>\n",
              "      <td>957294.0</td>\n",
              "      <td>623600.00</td>\n",
              "      <td>12838.25</td>\n",
              "      <td>0.0320</td>\n",
              "      <td>4.000000</td>\n",
              "      <td>1</td>\n",
              "      <td>2</td>\n",
              "      <td>0.323</td>\n",
              "      <td>0</td>\n",
              "      <td>1</td>\n",
              "      <td>...</td>\n",
              "      <td>1</td>\n",
              "      <td>0</td>\n",
              "      <td>0</td>\n",
              "      <td>0</td>\n",
              "      <td>0</td>\n",
              "      <td>1</td>\n",
              "      <td>1</td>\n",
              "      <td>1</td>\n",
              "      <td>0</td>\n",
              "      <td>1</td>\n",
              "    </tr>\n",
              "    <tr>\n",
              "      <th>4</th>\n",
              "      <td>1333739.0</td>\n",
              "      <td>529520.00</td>\n",
              "      <td>11799.09</td>\n",
              "      <td>0.0073</td>\n",
              "      <td>4.000000</td>\n",
              "      <td>3</td>\n",
              "      <td>3</td>\n",
              "      <td>0.940</td>\n",
              "      <td>1</td>\n",
              "      <td>1</td>\n",
              "      <td>...</td>\n",
              "      <td>1</td>\n",
              "      <td>0</td>\n",
              "      <td>0</td>\n",
              "      <td>0</td>\n",
              "      <td>0</td>\n",
              "      <td>1</td>\n",
              "      <td>1</td>\n",
              "      <td>0</td>\n",
              "      <td>1</td>\n",
              "      <td>1</td>\n",
              "    </tr>\n",
              "  </tbody>\n",
              "</table>\n",
              "<p>5 rows × 22 columns</p>\n",
              "</div>\n",
              "      <button class=\"colab-df-convert\" onclick=\"convertToInteractive('df-8ae1f415-c6fe-4bb9-9441-df6efe0acd8b')\"\n",
              "              title=\"Convert this dataframe to an interactive table.\"\n",
              "              style=\"display:none;\">\n",
              "        \n",
              "  <svg xmlns=\"http://www.w3.org/2000/svg\" height=\"24px\"viewBox=\"0 0 24 24\"\n",
              "       width=\"24px\">\n",
              "    <path d=\"M0 0h24v24H0V0z\" fill=\"none\"/>\n",
              "    <path d=\"M18.56 5.44l.94 2.06.94-2.06 2.06-.94-2.06-.94-.94-2.06-.94 2.06-2.06.94zm-11 1L8.5 8.5l.94-2.06 2.06-.94-2.06-.94L8.5 2.5l-.94 2.06-2.06.94zm10 10l.94 2.06.94-2.06 2.06-.94-2.06-.94-.94-2.06-.94 2.06-2.06.94z\"/><path d=\"M17.41 7.96l-1.37-1.37c-.4-.4-.92-.59-1.43-.59-.52 0-1.04.2-1.43.59L10.3 9.45l-7.72 7.72c-.78.78-.78 2.05 0 2.83L4 21.41c.39.39.9.59 1.41.59.51 0 1.02-.2 1.41-.59l7.78-7.78 2.81-2.81c.8-.78.8-2.07 0-2.86zM5.41 20L4 18.59l7.72-7.72 1.47 1.35L5.41 20z\"/>\n",
              "  </svg>\n",
              "      </button>\n",
              "      \n",
              "  <style>\n",
              "    .colab-df-container {\n",
              "      display:flex;\n",
              "      flex-wrap:wrap;\n",
              "      gap: 12px;\n",
              "    }\n",
              "\n",
              "    .colab-df-convert {\n",
              "      background-color: #E8F0FE;\n",
              "      border: none;\n",
              "      border-radius: 50%;\n",
              "      cursor: pointer;\n",
              "      display: none;\n",
              "      fill: #1967D2;\n",
              "      height: 32px;\n",
              "      padding: 0 0 0 0;\n",
              "      width: 32px;\n",
              "    }\n",
              "\n",
              "    .colab-df-convert:hover {\n",
              "      background-color: #E2EBFA;\n",
              "      box-shadow: 0px 1px 2px rgba(60, 64, 67, 0.3), 0px 1px 3px 1px rgba(60, 64, 67, 0.15);\n",
              "      fill: #174EA6;\n",
              "    }\n",
              "\n",
              "    [theme=dark] .colab-df-convert {\n",
              "      background-color: #3B4455;\n",
              "      fill: #D2E3FC;\n",
              "    }\n",
              "\n",
              "    [theme=dark] .colab-df-convert:hover {\n",
              "      background-color: #434B5C;\n",
              "      box-shadow: 0px 1px 3px 1px rgba(0, 0, 0, 0.15);\n",
              "      filter: drop-shadow(0px 1px 2px rgba(0, 0, 0, 0.3));\n",
              "      fill: #FFFFFF;\n",
              "    }\n",
              "  </style>\n",
              "\n",
              "      <script>\n",
              "        const buttonEl =\n",
              "          document.querySelector('#df-8ae1f415-c6fe-4bb9-9441-df6efe0acd8b button.colab-df-convert');\n",
              "        buttonEl.style.display =\n",
              "          google.colab.kernel.accessAllowed ? 'block' : 'none';\n",
              "\n",
              "        async function convertToInteractive(key) {\n",
              "          const element = document.querySelector('#df-8ae1f415-c6fe-4bb9-9441-df6efe0acd8b');\n",
              "          const dataTable =\n",
              "            await google.colab.kernel.invokeFunction('convertToInteractive',\n",
              "                                                     [key], {});\n",
              "          if (!dataTable) return;\n",
              "\n",
              "          const docLinkHtml = 'Like what you see? Visit the ' +\n",
              "            '<a target=\"_blank\" href=https://colab.research.google.com/notebooks/data_table.ipynb>data table notebook</a>'\n",
              "            + ' to learn more about interactive tables.';\n",
              "          element.innerHTML = '';\n",
              "          dataTable['output_type'] = 'display_data';\n",
              "          await google.colab.output.renderOutput(dataTable, element);\n",
              "          const docLink = document.createElement('div');\n",
              "          docLink.innerHTML = docLinkHtml;\n",
              "          element.appendChild(docLink);\n",
              "        }\n",
              "      </script>\n",
              "    </div>\n",
              "  </div>\n",
              "  "
            ]
          },
          "metadata": {},
          "execution_count": 332
        }
      ]
    },
    {
      "cell_type": "code",
      "source": [
        "XScale.head()"
      ],
      "metadata": {
        "colab": {
          "base_uri": "https://localhost:8080/",
          "height": 299
        },
        "id": "lArXCITH7BT-",
        "outputId": "52e5501c-b76c-49ae-989b-9633d89489ed"
      },
      "id": "lArXCITH7BT-",
      "execution_count": 333,
      "outputs": [
        {
          "output_type": "execute_result",
          "data": {
            "text/plain": [
              "         ID  Compensation  Loan_amt  Annuity_amt  density_Ind  \\\n",
              "0 -1.691855      0.986425  0.373479    -0.080019    -0.404382   \n",
              "1 -0.935961     -0.866140  1.557851     0.664406     1.454788   \n",
              "2 -0.842086      1.653260 -0.137083    -1.306061    -1.347981   \n",
              "3 -0.146033      1.204172 -0.542178     0.723733    -0.198846   \n",
              "4 -0.978990      0.410389 -0.852838    -1.458321     1.529528   \n",
              "\n",
              "   Home_Appliances  Credit_Inq  Day_Process  c1_rated  Default  ...  \\\n",
              "0        -1.887677   -0.757815    -1.412907  0.740310     -1.0  ...   \n",
              "1         0.670228   -0.757815     0.358324  1.398898     -1.0  ...   \n",
              "2        -1.035042   -0.757815    -0.232086  0.006176      1.0  ...   \n",
              "3         0.670228   -0.757815     0.948734 -0.030797     -1.0  ...   \n",
              "4         0.670228   -0.757815     0.948734  1.390454     -1.0  ...   \n",
              "\n",
              "   Marital_Stat_Married  Marital_Stat_Single  Marital_Stat_Widow  \\\n",
              "0              0.695786            -0.350834           -0.191337   \n",
              "1              0.695786            -0.350834           -0.191337   \n",
              "2              0.695786            -0.350834           -0.191337   \n",
              "3              0.695786            -0.350834           -0.191337   \n",
              "4              0.695786            -0.350834           -0.191337   \n",
              "\n",
              "   Credit_Lnks_4_to_6  Credit_Lnks_>6  Income_Alt_Y  Ph.No_Yes  Region_East  \\\n",
              "0           -0.276815       -0.093748     -0.501385   0.584408     2.276141   \n",
              "1           -0.276815       -0.093748     -0.501385  -1.711134    -0.439340   \n",
              "2            3.612520       -0.093748     -0.501385   0.584408    -0.439340   \n",
              "3           -0.276815       -0.093748      1.994475  -1.711134    -0.439340   \n",
              "4           -0.276815       -0.093748     -0.501385   0.584408     2.276141   \n",
              "\n",
              "   Region_North  Permanent_Addr_tag_Yes  \n",
              "0     -0.691495               -1.838333  \n",
              "1     -0.691495               -1.838333  \n",
              "2      1.446142                0.543971  \n",
              "3      1.446142                0.543971  \n",
              "4     -0.691495               -1.838333  \n",
              "\n",
              "[5 rows x 24 columns]"
            ],
            "text/html": [
              "\n",
              "  <div id=\"df-0a072064-ed7f-453c-a776-45b1a9cef8c0\">\n",
              "    <div class=\"colab-df-container\">\n",
              "      <div>\n",
              "<style scoped>\n",
              "    .dataframe tbody tr th:only-of-type {\n",
              "        vertical-align: middle;\n",
              "    }\n",
              "\n",
              "    .dataframe tbody tr th {\n",
              "        vertical-align: top;\n",
              "    }\n",
              "\n",
              "    .dataframe thead th {\n",
              "        text-align: right;\n",
              "    }\n",
              "</style>\n",
              "<table border=\"1\" class=\"dataframe\">\n",
              "  <thead>\n",
              "    <tr style=\"text-align: right;\">\n",
              "      <th></th>\n",
              "      <th>ID</th>\n",
              "      <th>Compensation</th>\n",
              "      <th>Loan_amt</th>\n",
              "      <th>Annuity_amt</th>\n",
              "      <th>density_Ind</th>\n",
              "      <th>Home_Appliances</th>\n",
              "      <th>Credit_Inq</th>\n",
              "      <th>Day_Process</th>\n",
              "      <th>c1_rated</th>\n",
              "      <th>Default</th>\n",
              "      <th>...</th>\n",
              "      <th>Marital_Stat_Married</th>\n",
              "      <th>Marital_Stat_Single</th>\n",
              "      <th>Marital_Stat_Widow</th>\n",
              "      <th>Credit_Lnks_4_to_6</th>\n",
              "      <th>Credit_Lnks_&gt;6</th>\n",
              "      <th>Income_Alt_Y</th>\n",
              "      <th>Ph.No_Yes</th>\n",
              "      <th>Region_East</th>\n",
              "      <th>Region_North</th>\n",
              "      <th>Permanent_Addr_tag_Yes</th>\n",
              "    </tr>\n",
              "  </thead>\n",
              "  <tbody>\n",
              "    <tr>\n",
              "      <th>0</th>\n",
              "      <td>-1.691855</td>\n",
              "      <td>0.986425</td>\n",
              "      <td>0.373479</td>\n",
              "      <td>-0.080019</td>\n",
              "      <td>-0.404382</td>\n",
              "      <td>-1.887677</td>\n",
              "      <td>-0.757815</td>\n",
              "      <td>-1.412907</td>\n",
              "      <td>0.740310</td>\n",
              "      <td>-1.0</td>\n",
              "      <td>...</td>\n",
              "      <td>0.695786</td>\n",
              "      <td>-0.350834</td>\n",
              "      <td>-0.191337</td>\n",
              "      <td>-0.276815</td>\n",
              "      <td>-0.093748</td>\n",
              "      <td>-0.501385</td>\n",
              "      <td>0.584408</td>\n",
              "      <td>2.276141</td>\n",
              "      <td>-0.691495</td>\n",
              "      <td>-1.838333</td>\n",
              "    </tr>\n",
              "    <tr>\n",
              "      <th>1</th>\n",
              "      <td>-0.935961</td>\n",
              "      <td>-0.866140</td>\n",
              "      <td>1.557851</td>\n",
              "      <td>0.664406</td>\n",
              "      <td>1.454788</td>\n",
              "      <td>0.670228</td>\n",
              "      <td>-0.757815</td>\n",
              "      <td>0.358324</td>\n",
              "      <td>1.398898</td>\n",
              "      <td>-1.0</td>\n",
              "      <td>...</td>\n",
              "      <td>0.695786</td>\n",
              "      <td>-0.350834</td>\n",
              "      <td>-0.191337</td>\n",
              "      <td>-0.276815</td>\n",
              "      <td>-0.093748</td>\n",
              "      <td>-0.501385</td>\n",
              "      <td>-1.711134</td>\n",
              "      <td>-0.439340</td>\n",
              "      <td>-0.691495</td>\n",
              "      <td>-1.838333</td>\n",
              "    </tr>\n",
              "    <tr>\n",
              "      <th>2</th>\n",
              "      <td>-0.842086</td>\n",
              "      <td>1.653260</td>\n",
              "      <td>-0.137083</td>\n",
              "      <td>-1.306061</td>\n",
              "      <td>-1.347981</td>\n",
              "      <td>-1.035042</td>\n",
              "      <td>-0.757815</td>\n",
              "      <td>-0.232086</td>\n",
              "      <td>0.006176</td>\n",
              "      <td>1.0</td>\n",
              "      <td>...</td>\n",
              "      <td>0.695786</td>\n",
              "      <td>-0.350834</td>\n",
              "      <td>-0.191337</td>\n",
              "      <td>3.612520</td>\n",
              "      <td>-0.093748</td>\n",
              "      <td>-0.501385</td>\n",
              "      <td>0.584408</td>\n",
              "      <td>-0.439340</td>\n",
              "      <td>1.446142</td>\n",
              "      <td>0.543971</td>\n",
              "    </tr>\n",
              "    <tr>\n",
              "      <th>3</th>\n",
              "      <td>-0.146033</td>\n",
              "      <td>1.204172</td>\n",
              "      <td>-0.542178</td>\n",
              "      <td>0.723733</td>\n",
              "      <td>-0.198846</td>\n",
              "      <td>0.670228</td>\n",
              "      <td>-0.757815</td>\n",
              "      <td>0.948734</td>\n",
              "      <td>-0.030797</td>\n",
              "      <td>-1.0</td>\n",
              "      <td>...</td>\n",
              "      <td>0.695786</td>\n",
              "      <td>-0.350834</td>\n",
              "      <td>-0.191337</td>\n",
              "      <td>-0.276815</td>\n",
              "      <td>-0.093748</td>\n",
              "      <td>1.994475</td>\n",
              "      <td>-1.711134</td>\n",
              "      <td>-0.439340</td>\n",
              "      <td>1.446142</td>\n",
              "      <td>0.543971</td>\n",
              "    </tr>\n",
              "    <tr>\n",
              "      <th>4</th>\n",
              "      <td>-0.978990</td>\n",
              "      <td>0.410389</td>\n",
              "      <td>-0.852838</td>\n",
              "      <td>-1.458321</td>\n",
              "      <td>1.529528</td>\n",
              "      <td>0.670228</td>\n",
              "      <td>-0.757815</td>\n",
              "      <td>0.948734</td>\n",
              "      <td>1.390454</td>\n",
              "      <td>-1.0</td>\n",
              "      <td>...</td>\n",
              "      <td>0.695786</td>\n",
              "      <td>-0.350834</td>\n",
              "      <td>-0.191337</td>\n",
              "      <td>-0.276815</td>\n",
              "      <td>-0.093748</td>\n",
              "      <td>-0.501385</td>\n",
              "      <td>0.584408</td>\n",
              "      <td>2.276141</td>\n",
              "      <td>-0.691495</td>\n",
              "      <td>-1.838333</td>\n",
              "    </tr>\n",
              "  </tbody>\n",
              "</table>\n",
              "<p>5 rows × 24 columns</p>\n",
              "</div>\n",
              "      <button class=\"colab-df-convert\" onclick=\"convertToInteractive('df-0a072064-ed7f-453c-a776-45b1a9cef8c0')\"\n",
              "              title=\"Convert this dataframe to an interactive table.\"\n",
              "              style=\"display:none;\">\n",
              "        \n",
              "  <svg xmlns=\"http://www.w3.org/2000/svg\" height=\"24px\"viewBox=\"0 0 24 24\"\n",
              "       width=\"24px\">\n",
              "    <path d=\"M0 0h24v24H0V0z\" fill=\"none\"/>\n",
              "    <path d=\"M18.56 5.44l.94 2.06.94-2.06 2.06-.94-2.06-.94-.94-2.06-.94 2.06-2.06.94zm-11 1L8.5 8.5l.94-2.06 2.06-.94-2.06-.94L8.5 2.5l-.94 2.06-2.06.94zm10 10l.94 2.06.94-2.06 2.06-.94-2.06-.94-.94-2.06-.94 2.06-2.06.94z\"/><path d=\"M17.41 7.96l-1.37-1.37c-.4-.4-.92-.59-1.43-.59-.52 0-1.04.2-1.43.59L10.3 9.45l-7.72 7.72c-.78.78-.78 2.05 0 2.83L4 21.41c.39.39.9.59 1.41.59.51 0 1.02-.2 1.41-.59l7.78-7.78 2.81-2.81c.8-.78.8-2.07 0-2.86zM5.41 20L4 18.59l7.72-7.72 1.47 1.35L5.41 20z\"/>\n",
              "  </svg>\n",
              "      </button>\n",
              "      \n",
              "  <style>\n",
              "    .colab-df-container {\n",
              "      display:flex;\n",
              "      flex-wrap:wrap;\n",
              "      gap: 12px;\n",
              "    }\n",
              "\n",
              "    .colab-df-convert {\n",
              "      background-color: #E8F0FE;\n",
              "      border: none;\n",
              "      border-radius: 50%;\n",
              "      cursor: pointer;\n",
              "      display: none;\n",
              "      fill: #1967D2;\n",
              "      height: 32px;\n",
              "      padding: 0 0 0 0;\n",
              "      width: 32px;\n",
              "    }\n",
              "\n",
              "    .colab-df-convert:hover {\n",
              "      background-color: #E2EBFA;\n",
              "      box-shadow: 0px 1px 2px rgba(60, 64, 67, 0.3), 0px 1px 3px 1px rgba(60, 64, 67, 0.15);\n",
              "      fill: #174EA6;\n",
              "    }\n",
              "\n",
              "    [theme=dark] .colab-df-convert {\n",
              "      background-color: #3B4455;\n",
              "      fill: #D2E3FC;\n",
              "    }\n",
              "\n",
              "    [theme=dark] .colab-df-convert:hover {\n",
              "      background-color: #434B5C;\n",
              "      box-shadow: 0px 1px 3px 1px rgba(0, 0, 0, 0.15);\n",
              "      filter: drop-shadow(0px 1px 2px rgba(0, 0, 0, 0.3));\n",
              "      fill: #FFFFFF;\n",
              "    }\n",
              "  </style>\n",
              "\n",
              "      <script>\n",
              "        const buttonEl =\n",
              "          document.querySelector('#df-0a072064-ed7f-453c-a776-45b1a9cef8c0 button.colab-df-convert');\n",
              "        buttonEl.style.display =\n",
              "          google.colab.kernel.accessAllowed ? 'block' : 'none';\n",
              "\n",
              "        async function convertToInteractive(key) {\n",
              "          const element = document.querySelector('#df-0a072064-ed7f-453c-a776-45b1a9cef8c0');\n",
              "          const dataTable =\n",
              "            await google.colab.kernel.invokeFunction('convertToInteractive',\n",
              "                                                     [key], {});\n",
              "          if (!dataTable) return;\n",
              "\n",
              "          const docLinkHtml = 'Like what you see? Visit the ' +\n",
              "            '<a target=\"_blank\" href=https://colab.research.google.com/notebooks/data_table.ipynb>data table notebook</a>'\n",
              "            + ' to learn more about interactive tables.';\n",
              "          element.innerHTML = '';\n",
              "          dataTable['output_type'] = 'display_data';\n",
              "          await google.colab.output.renderOutput(dataTable, element);\n",
              "          const docLink = document.createElement('div');\n",
              "          docLink.innerHTML = docLinkHtml;\n",
              "          element.appendChild(docLink);\n",
              "        }\n",
              "      </script>\n",
              "    </div>\n",
              "  </div>\n",
              "  "
            ]
          },
          "metadata": {},
          "execution_count": 333
        }
      ]
    },
    {
      "cell_type": "code",
      "source": [
        "not_contributing_cols.remove('Default')"
      ],
      "metadata": {
        "id": "J_of7dfE7wtP"
      },
      "id": "J_of7dfE7wtP",
      "execution_count": 344,
      "outputs": []
    },
    {
      "cell_type": "code",
      "source": [
        "pred = lr.predict(test.drop(not_contributing_cols , axis = 1))"
      ],
      "metadata": {
        "id": "mxKOxoO9ifRp"
      },
      "id": "mxKOxoO9ifRp",
      "execution_count": 345,
      "outputs": []
    },
    {
      "cell_type": "code",
      "source": [
        "test['Default'] = pred"
      ],
      "metadata": {
        "id": "K62ggAS8ESJd"
      },
      "id": "K62ggAS8ESJd",
      "execution_count": 346,
      "outputs": []
    },
    {
      "cell_type": "code",
      "source": [
        "submission_TVS = pd.DataFrame(test[['ID' , 'Default']])"
      ],
      "metadata": {
        "id": "QnG5uycCESBT"
      },
      "id": "QnG5uycCESBT",
      "execution_count": 347,
      "outputs": []
    },
    {
      "cell_type": "code",
      "source": [
        "submission_TVS.ID = submission_TVS.ID.astype(int)\n",
        "submission_TVS.Default = submission_TVS.Default.astype(int)\n",
        "submission_TVS.head()"
      ],
      "metadata": {
        "colab": {
          "base_uri": "https://localhost:8080/",
          "height": 206
        },
        "id": "s1wwLATv8CCZ",
        "outputId": "fd1071d8-b875-4cb6-8721-85afe86202f1"
      },
      "id": "s1wwLATv8CCZ",
      "execution_count": 349,
      "outputs": [
        {
          "output_type": "execute_result",
          "data": {
            "text/plain": [
              "       ID  Default\n",
              "0  487410        1\n",
              "1  533258        1\n",
              "2  581926        1\n",
              "3  486301        1\n",
              "4  580822        1"
            ],
            "text/html": [
              "\n",
              "  <div id=\"df-93d713f7-b1e8-4103-9a3a-dc0a9e626f28\">\n",
              "    <div class=\"colab-df-container\">\n",
              "      <div>\n",
              "<style scoped>\n",
              "    .dataframe tbody tr th:only-of-type {\n",
              "        vertical-align: middle;\n",
              "    }\n",
              "\n",
              "    .dataframe tbody tr th {\n",
              "        vertical-align: top;\n",
              "    }\n",
              "\n",
              "    .dataframe thead th {\n",
              "        text-align: right;\n",
              "    }\n",
              "</style>\n",
              "<table border=\"1\" class=\"dataframe\">\n",
              "  <thead>\n",
              "    <tr style=\"text-align: right;\">\n",
              "      <th></th>\n",
              "      <th>ID</th>\n",
              "      <th>Default</th>\n",
              "    </tr>\n",
              "  </thead>\n",
              "  <tbody>\n",
              "    <tr>\n",
              "      <th>0</th>\n",
              "      <td>487410</td>\n",
              "      <td>1</td>\n",
              "    </tr>\n",
              "    <tr>\n",
              "      <th>1</th>\n",
              "      <td>533258</td>\n",
              "      <td>1</td>\n",
              "    </tr>\n",
              "    <tr>\n",
              "      <th>2</th>\n",
              "      <td>581926</td>\n",
              "      <td>1</td>\n",
              "    </tr>\n",
              "    <tr>\n",
              "      <th>3</th>\n",
              "      <td>486301</td>\n",
              "      <td>1</td>\n",
              "    </tr>\n",
              "    <tr>\n",
              "      <th>4</th>\n",
              "      <td>580822</td>\n",
              "      <td>1</td>\n",
              "    </tr>\n",
              "  </tbody>\n",
              "</table>\n",
              "</div>\n",
              "      <button class=\"colab-df-convert\" onclick=\"convertToInteractive('df-93d713f7-b1e8-4103-9a3a-dc0a9e626f28')\"\n",
              "              title=\"Convert this dataframe to an interactive table.\"\n",
              "              style=\"display:none;\">\n",
              "        \n",
              "  <svg xmlns=\"http://www.w3.org/2000/svg\" height=\"24px\"viewBox=\"0 0 24 24\"\n",
              "       width=\"24px\">\n",
              "    <path d=\"M0 0h24v24H0V0z\" fill=\"none\"/>\n",
              "    <path d=\"M18.56 5.44l.94 2.06.94-2.06 2.06-.94-2.06-.94-.94-2.06-.94 2.06-2.06.94zm-11 1L8.5 8.5l.94-2.06 2.06-.94-2.06-.94L8.5 2.5l-.94 2.06-2.06.94zm10 10l.94 2.06.94-2.06 2.06-.94-2.06-.94-.94-2.06-.94 2.06-2.06.94z\"/><path d=\"M17.41 7.96l-1.37-1.37c-.4-.4-.92-.59-1.43-.59-.52 0-1.04.2-1.43.59L10.3 9.45l-7.72 7.72c-.78.78-.78 2.05 0 2.83L4 21.41c.39.39.9.59 1.41.59.51 0 1.02-.2 1.41-.59l7.78-7.78 2.81-2.81c.8-.78.8-2.07 0-2.86zM5.41 20L4 18.59l7.72-7.72 1.47 1.35L5.41 20z\"/>\n",
              "  </svg>\n",
              "      </button>\n",
              "      \n",
              "  <style>\n",
              "    .colab-df-container {\n",
              "      display:flex;\n",
              "      flex-wrap:wrap;\n",
              "      gap: 12px;\n",
              "    }\n",
              "\n",
              "    .colab-df-convert {\n",
              "      background-color: #E8F0FE;\n",
              "      border: none;\n",
              "      border-radius: 50%;\n",
              "      cursor: pointer;\n",
              "      display: none;\n",
              "      fill: #1967D2;\n",
              "      height: 32px;\n",
              "      padding: 0 0 0 0;\n",
              "      width: 32px;\n",
              "    }\n",
              "\n",
              "    .colab-df-convert:hover {\n",
              "      background-color: #E2EBFA;\n",
              "      box-shadow: 0px 1px 2px rgba(60, 64, 67, 0.3), 0px 1px 3px 1px rgba(60, 64, 67, 0.15);\n",
              "      fill: #174EA6;\n",
              "    }\n",
              "\n",
              "    [theme=dark] .colab-df-convert {\n",
              "      background-color: #3B4455;\n",
              "      fill: #D2E3FC;\n",
              "    }\n",
              "\n",
              "    [theme=dark] .colab-df-convert:hover {\n",
              "      background-color: #434B5C;\n",
              "      box-shadow: 0px 1px 3px 1px rgba(0, 0, 0, 0.15);\n",
              "      filter: drop-shadow(0px 1px 2px rgba(0, 0, 0, 0.3));\n",
              "      fill: #FFFFFF;\n",
              "    }\n",
              "  </style>\n",
              "\n",
              "      <script>\n",
              "        const buttonEl =\n",
              "          document.querySelector('#df-93d713f7-b1e8-4103-9a3a-dc0a9e626f28 button.colab-df-convert');\n",
              "        buttonEl.style.display =\n",
              "          google.colab.kernel.accessAllowed ? 'block' : 'none';\n",
              "\n",
              "        async function convertToInteractive(key) {\n",
              "          const element = document.querySelector('#df-93d713f7-b1e8-4103-9a3a-dc0a9e626f28');\n",
              "          const dataTable =\n",
              "            await google.colab.kernel.invokeFunction('convertToInteractive',\n",
              "                                                     [key], {});\n",
              "          if (!dataTable) return;\n",
              "\n",
              "          const docLinkHtml = 'Like what you see? Visit the ' +\n",
              "            '<a target=\"_blank\" href=https://colab.research.google.com/notebooks/data_table.ipynb>data table notebook</a>'\n",
              "            + ' to learn more about interactive tables.';\n",
              "          element.innerHTML = '';\n",
              "          dataTable['output_type'] = 'display_data';\n",
              "          await google.colab.output.renderOutput(dataTable, element);\n",
              "          const docLink = document.createElement('div');\n",
              "          docLink.innerHTML = docLinkHtml;\n",
              "          element.appendChild(docLink);\n",
              "        }\n",
              "      </script>\n",
              "    </div>\n",
              "  </div>\n",
              "  "
            ]
          },
          "metadata": {},
          "execution_count": 349
        }
      ]
    },
    {
      "cell_type": "code",
      "source": [
        "from google.colab import files\n",
        "\n",
        "submission_TVS.to_csv('Submission_TVS.csv') \n",
        "files.download('Submission_TVS.csv')"
      ],
      "metadata": {
        "colab": {
          "base_uri": "https://localhost:8080/",
          "height": 17
        },
        "id": "EVzbdcLDER9F",
        "outputId": "eb78d6b1-f81f-42c1-8323-55505bd8a41e"
      },
      "id": "EVzbdcLDER9F",
      "execution_count": 350,
      "outputs": [
        {
          "output_type": "display_data",
          "data": {
            "text/plain": [
              "<IPython.core.display.Javascript object>"
            ],
            "application/javascript": [
              "\n",
              "    async function download(id, filename, size) {\n",
              "      if (!google.colab.kernel.accessAllowed) {\n",
              "        return;\n",
              "      }\n",
              "      const div = document.createElement('div');\n",
              "      const label = document.createElement('label');\n",
              "      label.textContent = `Downloading \"${filename}\": `;\n",
              "      div.appendChild(label);\n",
              "      const progress = document.createElement('progress');\n",
              "      progress.max = size;\n",
              "      div.appendChild(progress);\n",
              "      document.body.appendChild(div);\n",
              "\n",
              "      const buffers = [];\n",
              "      let downloaded = 0;\n",
              "\n",
              "      const channel = await google.colab.kernel.comms.open(id);\n",
              "      // Send a message to notify the kernel that we're ready.\n",
              "      channel.send({})\n",
              "\n",
              "      for await (const message of channel.messages) {\n",
              "        // Send a message to notify the kernel that we're ready.\n",
              "        channel.send({})\n",
              "        if (message.buffers) {\n",
              "          for (const buffer of message.buffers) {\n",
              "            buffers.push(buffer);\n",
              "            downloaded += buffer.byteLength;\n",
              "            progress.value = downloaded;\n",
              "          }\n",
              "        }\n",
              "      }\n",
              "      const blob = new Blob(buffers, {type: 'application/binary'});\n",
              "      const a = document.createElement('a');\n",
              "      a.href = window.URL.createObjectURL(blob);\n",
              "      a.download = filename;\n",
              "      div.appendChild(a);\n",
              "      a.click();\n",
              "      div.remove();\n",
              "    }\n",
              "  "
            ]
          },
          "metadata": {}
        },
        {
          "output_type": "display_data",
          "data": {
            "text/plain": [
              "<IPython.core.display.Javascript object>"
            ],
            "application/javascript": [
              "download(\"download_ab3bda3c-1f54-4ce8-9466-ee3a1fab45f4\", \"Submission_TVS.csv\", 840302)"
            ]
          },
          "metadata": {}
        }
      ]
    },
    {
      "cell_type": "code",
      "source": [
        "from sklearn.model_selection import GridSearchCV"
      ],
      "metadata": {
        "id": "3QYEXqsZjTQ-"
      },
      "id": "3QYEXqsZjTQ-",
      "execution_count": null,
      "outputs": []
    },
    {
      "cell_type": "code",
      "source": [
        "tuned_paramaters = [{'criterion': ['entropy', 'gini'],\n",
        "                     'n_estimators': [90, 100, 150],\n",
        "                     'max_depth': [10, 15, 20]}]\n",
        " \n",
        "\n",
        "random_forest_classification = RandomForestClassifier(random_state = 10)\n",
        "\n",
        "rf_grid = GridSearchCV(estimator = random_forest_classification, \n",
        "                       param_grid = tuned_paramaters, \n",
        "                       cv = 5)\n",
        "\n",
        "# use fit() to fit the model on the train set\n",
        "rf_model = rf_grid.fit(x_res, y_res)\n",
        "\n",
        "# get the best parameters\n",
        "print('Best parameters for random forest Classifier: ', rf_model.best_params_, '\\n')\n",
        "\n",
        "#Best parameters for random forest Classifier:  {'criterion': 'entropy', 'max_depth': 20, 'n_estimators': 150} "
      ],
      "metadata": {
        "id": "bwtHNt8KpVve",
        "colab": {
          "base_uri": "https://localhost:8080/"
        },
        "outputId": "400956ba-7081-4df4-dea5-ef09e7ea304d"
      },
      "id": "bwtHNt8KpVve",
      "execution_count": null,
      "outputs": [
        {
          "output_type": "stream",
          "name": "stdout",
          "text": [
            "Best parameters for random forest Classifier:  {'criterion': 'entropy', 'max_depth': 20, 'n_estimators': 150} \n",
            "\n"
          ]
        }
      ]
    },
    {
      "cell_type": "code",
      "source": [
        "random_forest_tuned_model = RandomForestClassifier(criterion = rf_model.best_params_['criterion'], \n",
        "                                                   max_depth = rf_model.best_params_['max_depth'], \n",
        "                                                   n_estimators = rf_model.best_params_['n_estimators'],\n",
        "                                                   random_state = 10)"
      ],
      "metadata": {
        "id": "tHEn5Pc0pVq9"
      },
      "id": "tHEn5Pc0pVq9",
      "execution_count": null,
      "outputs": []
    },
    {
      "cell_type": "code",
      "source": [
        "random_forest_tuned_model = random_forest_tuned_model.fit(x_res , y_res)"
      ],
      "metadata": {
        "id": "Nh4g39CppVmT"
      },
      "id": "Nh4g39CppVmT",
      "execution_count": null,
      "outputs": []
    },
    {
      "cell_type": "code",
      "source": [
        "f1_score(ytest , random_forest_tuned_model.predict(xtest))"
      ],
      "metadata": {
        "id": "_UjVCiDgpViP",
        "colab": {
          "base_uri": "https://localhost:8080/"
        },
        "outputId": "44852297-aa2c-44a2-b3c5-7c6653742816"
      },
      "id": "_UjVCiDgpViP",
      "execution_count": null,
      "outputs": [
        {
          "output_type": "execute_result",
          "data": {
            "text/plain": [
              "0.07149150409062303"
            ]
          },
          "metadata": {},
          "execution_count": 99
        }
      ]
    },
    {
      "cell_type": "code",
      "source": [
        "pred = lr.predict(test.drop(['ID','Default'] , axis = 1)).astype(int)\n",
        "test['Default'] = pred\n",
        "submission_TVS = pd.DataFrame(test[['ID' , 'Default']])\n",
        "submission_TVS.ID = submission_TVS.ID.astype(int)\n",
        "submission_TVS.head()"
      ],
      "metadata": {
        "id": "QkJebuQ_cqJ6"
      },
      "id": "QkJebuQ_cqJ6",
      "execution_count": null,
      "outputs": []
    },
    {
      "cell_type": "code",
      "source": [
        "from google.colab import files\n",
        "\n",
        "submission_TVS.to_csv('Submission_TVS.csv') \n",
        "files.download('Submission_TVS.csv')"
      ],
      "metadata": {
        "id": "bc5d72FLpVf4"
      },
      "id": "bc5d72FLpVf4",
      "execution_count": null,
      "outputs": []
    },
    {
      "cell_type": "code",
      "source": [
        ""
      ],
      "metadata": {
        "id": "V8xXc3s8pVdP"
      },
      "id": "V8xXc3s8pVdP",
      "execution_count": null,
      "outputs": []
    },
    {
      "cell_type": "markdown",
      "id": "e70c81e9",
      "metadata": {
        "id": "e70c81e9"
      },
      "source": [
        "## Model 3"
      ]
    },
    {
      "cell_type": "code",
      "source": [
        "from sklearn.neighbors import KNeighborsClassifier"
      ],
      "metadata": {
        "id": "QmpcagtkI9pP"
      },
      "id": "QmpcagtkI9pP",
      "execution_count": 352,
      "outputs": []
    },
    {
      "cell_type": "code",
      "source": [
        "knn_classification = KNeighborsClassifier(n_neighbors = 3 , metric = 'euclidean').fit(x_res , y_res)\n",
        "f1_score(ytest , knn_classification.predict(xtest))"
      ],
      "metadata": {
        "colab": {
          "base_uri": "https://localhost:8080/"
        },
        "id": "uQ876FFoI9m-",
        "outputId": "51191bc9-fae7-42af-e6b4-e676b4f440c9"
      },
      "id": "uQ876FFoI9m-",
      "execution_count": 368,
      "outputs": [
        {
          "output_type": "execute_result",
          "data": {
            "text/plain": [
              "0.3262363788767812"
            ]
          },
          "metadata": {},
          "execution_count": 368
        }
      ]
    },
    {
      "cell_type": "code",
      "source": [
        "not_contributing_cols.append('Default')"
      ],
      "metadata": {
        "id": "Omkd0xNxLIbZ"
      },
      "id": "Omkd0xNxLIbZ",
      "execution_count": 360,
      "outputs": []
    },
    {
      "cell_type": "code",
      "source": [
        "not_contributing_cols"
      ],
      "metadata": {
        "colab": {
          "base_uri": "https://localhost:8080/"
        },
        "id": "5wHduUA_LTrG",
        "outputId": "8446884d-0676-46ec-fff5-7b394cc4b1c6"
      },
      "id": "5wHduUA_LTrG",
      "execution_count": 362,
      "outputs": [
        {
          "output_type": "execute_result",
          "data": {
            "text/plain": [
              "['Addr_permanent_Yes',\n",
              " 'Region_South',\n",
              " 'Type_Loan_RLoan',\n",
              " 'Gen_M',\n",
              " 'Prop_List_None',\n",
              " 'Default_hist_ndf',\n",
              " 'Job_Type_IT',\n",
              " 'Vehicle_Status_Y',\n",
              " 'Product_bought',\n",
              " 'Contact_age',\n",
              " 'c2_rated',\n",
              " 'hour_Process',\n",
              " 'Age',\n",
              " 'Company_Rating',\n",
              " 'Dependents',\n",
              " 'Experience',\n",
              " 'Education_det',\n",
              " 'ID',\n",
              " 'Default']"
            ]
          },
          "metadata": {},
          "execution_count": 362
        }
      ]
    },
    {
      "cell_type": "code",
      "source": [
        "pred = knn_classification.predict(test.drop(['ID' , 'Default'] , axis = 1)).astype(int)\n",
        "test['Default'] = pred\n",
        "submission_TVS = pd.DataFrame(test[['ID' , 'Default']])\n",
        "submission_TVS.ID = submission_TVS.ID.astype(int)\n",
        "submission_TVS.head()"
      ],
      "metadata": {
        "colab": {
          "base_uri": "https://localhost:8080/",
          "height": 206
        },
        "id": "b06aNT2NI9iG",
        "outputId": "43a293f2-262d-45c8-cae1-6b8cf89c315e"
      },
      "id": "b06aNT2NI9iG",
      "execution_count": 370,
      "outputs": [
        {
          "output_type": "execute_result",
          "data": {
            "text/plain": [
              "       ID  Default\n",
              "0  487410        0\n",
              "1  533258        0\n",
              "2  581926        0\n",
              "3  486301        1\n",
              "4  580822        0"
            ],
            "text/html": [
              "\n",
              "  <div id=\"df-dcf79620-2075-41ce-b353-f498f0e69687\">\n",
              "    <div class=\"colab-df-container\">\n",
              "      <div>\n",
              "<style scoped>\n",
              "    .dataframe tbody tr th:only-of-type {\n",
              "        vertical-align: middle;\n",
              "    }\n",
              "\n",
              "    .dataframe tbody tr th {\n",
              "        vertical-align: top;\n",
              "    }\n",
              "\n",
              "    .dataframe thead th {\n",
              "        text-align: right;\n",
              "    }\n",
              "</style>\n",
              "<table border=\"1\" class=\"dataframe\">\n",
              "  <thead>\n",
              "    <tr style=\"text-align: right;\">\n",
              "      <th></th>\n",
              "      <th>ID</th>\n",
              "      <th>Default</th>\n",
              "    </tr>\n",
              "  </thead>\n",
              "  <tbody>\n",
              "    <tr>\n",
              "      <th>0</th>\n",
              "      <td>487410</td>\n",
              "      <td>0</td>\n",
              "    </tr>\n",
              "    <tr>\n",
              "      <th>1</th>\n",
              "      <td>533258</td>\n",
              "      <td>0</td>\n",
              "    </tr>\n",
              "    <tr>\n",
              "      <th>2</th>\n",
              "      <td>581926</td>\n",
              "      <td>0</td>\n",
              "    </tr>\n",
              "    <tr>\n",
              "      <th>3</th>\n",
              "      <td>486301</td>\n",
              "      <td>1</td>\n",
              "    </tr>\n",
              "    <tr>\n",
              "      <th>4</th>\n",
              "      <td>580822</td>\n",
              "      <td>0</td>\n",
              "    </tr>\n",
              "  </tbody>\n",
              "</table>\n",
              "</div>\n",
              "      <button class=\"colab-df-convert\" onclick=\"convertToInteractive('df-dcf79620-2075-41ce-b353-f498f0e69687')\"\n",
              "              title=\"Convert this dataframe to an interactive table.\"\n",
              "              style=\"display:none;\">\n",
              "        \n",
              "  <svg xmlns=\"http://www.w3.org/2000/svg\" height=\"24px\"viewBox=\"0 0 24 24\"\n",
              "       width=\"24px\">\n",
              "    <path d=\"M0 0h24v24H0V0z\" fill=\"none\"/>\n",
              "    <path d=\"M18.56 5.44l.94 2.06.94-2.06 2.06-.94-2.06-.94-.94-2.06-.94 2.06-2.06.94zm-11 1L8.5 8.5l.94-2.06 2.06-.94-2.06-.94L8.5 2.5l-.94 2.06-2.06.94zm10 10l.94 2.06.94-2.06 2.06-.94-2.06-.94-.94-2.06-.94 2.06-2.06.94z\"/><path d=\"M17.41 7.96l-1.37-1.37c-.4-.4-.92-.59-1.43-.59-.52 0-1.04.2-1.43.59L10.3 9.45l-7.72 7.72c-.78.78-.78 2.05 0 2.83L4 21.41c.39.39.9.59 1.41.59.51 0 1.02-.2 1.41-.59l7.78-7.78 2.81-2.81c.8-.78.8-2.07 0-2.86zM5.41 20L4 18.59l7.72-7.72 1.47 1.35L5.41 20z\"/>\n",
              "  </svg>\n",
              "      </button>\n",
              "      \n",
              "  <style>\n",
              "    .colab-df-container {\n",
              "      display:flex;\n",
              "      flex-wrap:wrap;\n",
              "      gap: 12px;\n",
              "    }\n",
              "\n",
              "    .colab-df-convert {\n",
              "      background-color: #E8F0FE;\n",
              "      border: none;\n",
              "      border-radius: 50%;\n",
              "      cursor: pointer;\n",
              "      display: none;\n",
              "      fill: #1967D2;\n",
              "      height: 32px;\n",
              "      padding: 0 0 0 0;\n",
              "      width: 32px;\n",
              "    }\n",
              "\n",
              "    .colab-df-convert:hover {\n",
              "      background-color: #E2EBFA;\n",
              "      box-shadow: 0px 1px 2px rgba(60, 64, 67, 0.3), 0px 1px 3px 1px rgba(60, 64, 67, 0.15);\n",
              "      fill: #174EA6;\n",
              "    }\n",
              "\n",
              "    [theme=dark] .colab-df-convert {\n",
              "      background-color: #3B4455;\n",
              "      fill: #D2E3FC;\n",
              "    }\n",
              "\n",
              "    [theme=dark] .colab-df-convert:hover {\n",
              "      background-color: #434B5C;\n",
              "      box-shadow: 0px 1px 3px 1px rgba(0, 0, 0, 0.15);\n",
              "      filter: drop-shadow(0px 1px 2px rgba(0, 0, 0, 0.3));\n",
              "      fill: #FFFFFF;\n",
              "    }\n",
              "  </style>\n",
              "\n",
              "      <script>\n",
              "        const buttonEl =\n",
              "          document.querySelector('#df-dcf79620-2075-41ce-b353-f498f0e69687 button.colab-df-convert');\n",
              "        buttonEl.style.display =\n",
              "          google.colab.kernel.accessAllowed ? 'block' : 'none';\n",
              "\n",
              "        async function convertToInteractive(key) {\n",
              "          const element = document.querySelector('#df-dcf79620-2075-41ce-b353-f498f0e69687');\n",
              "          const dataTable =\n",
              "            await google.colab.kernel.invokeFunction('convertToInteractive',\n",
              "                                                     [key], {});\n",
              "          if (!dataTable) return;\n",
              "\n",
              "          const docLinkHtml = 'Like what you see? Visit the ' +\n",
              "            '<a target=\"_blank\" href=https://colab.research.google.com/notebooks/data_table.ipynb>data table notebook</a>'\n",
              "            + ' to learn more about interactive tables.';\n",
              "          element.innerHTML = '';\n",
              "          dataTable['output_type'] = 'display_data';\n",
              "          await google.colab.output.renderOutput(dataTable, element);\n",
              "          const docLink = document.createElement('div');\n",
              "          docLink.innerHTML = docLinkHtml;\n",
              "          element.appendChild(docLink);\n",
              "        }\n",
              "      </script>\n",
              "    </div>\n",
              "  </div>\n",
              "  "
            ]
          },
          "metadata": {},
          "execution_count": 370
        }
      ]
    },
    {
      "cell_type": "code",
      "source": [
        "from google.colab import files\n",
        "\n",
        "submission_TVS.to_csv('Submission_TVS.csv') \n",
        "files.download('Submission_TVS.csv')"
      ],
      "metadata": {
        "colab": {
          "base_uri": "https://localhost:8080/",
          "height": 17
        },
        "id": "Bi1hGwz6I9ZJ",
        "outputId": "04ca12df-20d1-469f-dc47-ba31c9886785"
      },
      "id": "Bi1hGwz6I9ZJ",
      "execution_count": 371,
      "outputs": [
        {
          "output_type": "display_data",
          "data": {
            "text/plain": [
              "<IPython.core.display.Javascript object>"
            ],
            "application/javascript": [
              "\n",
              "    async function download(id, filename, size) {\n",
              "      if (!google.colab.kernel.accessAllowed) {\n",
              "        return;\n",
              "      }\n",
              "      const div = document.createElement('div');\n",
              "      const label = document.createElement('label');\n",
              "      label.textContent = `Downloading \"${filename}\": `;\n",
              "      div.appendChild(label);\n",
              "      const progress = document.createElement('progress');\n",
              "      progress.max = size;\n",
              "      div.appendChild(progress);\n",
              "      document.body.appendChild(div);\n",
              "\n",
              "      const buffers = [];\n",
              "      let downloaded = 0;\n",
              "\n",
              "      const channel = await google.colab.kernel.comms.open(id);\n",
              "      // Send a message to notify the kernel that we're ready.\n",
              "      channel.send({})\n",
              "\n",
              "      for await (const message of channel.messages) {\n",
              "        // Send a message to notify the kernel that we're ready.\n",
              "        channel.send({})\n",
              "        if (message.buffers) {\n",
              "          for (const buffer of message.buffers) {\n",
              "            buffers.push(buffer);\n",
              "            downloaded += buffer.byteLength;\n",
              "            progress.value = downloaded;\n",
              "          }\n",
              "        }\n",
              "      }\n",
              "      const blob = new Blob(buffers, {type: 'application/binary'});\n",
              "      const a = document.createElement('a');\n",
              "      a.href = window.URL.createObjectURL(blob);\n",
              "      a.download = filename;\n",
              "      div.appendChild(a);\n",
              "      a.click();\n",
              "      div.remove();\n",
              "    }\n",
              "  "
            ]
          },
          "metadata": {}
        },
        {
          "output_type": "display_data",
          "data": {
            "text/plain": [
              "<IPython.core.display.Javascript object>"
            ],
            "application/javascript": [
              "download(\"download_22f02f7e-9bcf-427d-9a10-e9252f9dd0f7\", \"Submission_TVS.csv\", 840302)"
            ]
          },
          "metadata": {}
        }
      ]
    },
    {
      "cell_type": "code",
      "source": [
        ""
      ],
      "metadata": {
        "id": "fyqhS_TrI9Xp"
      },
      "id": "fyqhS_TrI9Xp",
      "execution_count": null,
      "outputs": []
    },
    {
      "cell_type": "code",
      "source": [
        ""
      ],
      "metadata": {
        "id": "FpVxw9EuI9WF"
      },
      "id": "FpVxw9EuI9WF",
      "execution_count": null,
      "outputs": []
    },
    {
      "cell_type": "code",
      "source": [
        ""
      ],
      "metadata": {
        "id": "eto1cr9AI9Um"
      },
      "id": "eto1cr9AI9Um",
      "execution_count": null,
      "outputs": []
    },
    {
      "cell_type": "code",
      "source": [
        ""
      ],
      "metadata": {
        "id": "Ww246nD7I9Ov"
      },
      "id": "Ww246nD7I9Ov",
      "execution_count": null,
      "outputs": []
    },
    {
      "cell_type": "code",
      "execution_count": 158,
      "id": "6c1ff1e5",
      "metadata": {
        "id": "6c1ff1e5"
      },
      "outputs": [],
      "source": [
        "from xgboost import XGBClassifier"
      ]
    },
    {
      "cell_type": "code",
      "source": [
        ""
      ],
      "metadata": {
        "id": "NSlw6-NqPQt0"
      },
      "id": "NSlw6-NqPQt0",
      "execution_count": null,
      "outputs": []
    },
    {
      "cell_type": "code",
      "source": [
        "xgb = XGBClassifier(learning_rate = 0.01 , gamma = 2 , n_estimators = 75)"
      ],
      "metadata": {
        "id": "_vl31Yc27zRa"
      },
      "id": "_vl31Yc27zRa",
      "execution_count": 165,
      "outputs": []
    },
    {
      "cell_type": "code",
      "source": [
        "xgb.fit(x_res , y_res)"
      ],
      "metadata": {
        "colab": {
          "base_uri": "https://localhost:8080/"
        },
        "id": "sn6nOy8l7zOA",
        "outputId": "0b7960fc-cdce-43c1-93ce-c9def1b373aa"
      },
      "id": "sn6nOy8l7zOA",
      "execution_count": 166,
      "outputs": [
        {
          "output_type": "execute_result",
          "data": {
            "text/plain": [
              "XGBClassifier(gamma=2, learning_rate=0.01, n_estimators=75)"
            ]
          },
          "metadata": {},
          "execution_count": 166
        }
      ]
    },
    {
      "cell_type": "code",
      "source": [
        "f1_score(ytest , xgb.predict(xtest))"
      ],
      "metadata": {
        "colab": {
          "base_uri": "https://localhost:8080/"
        },
        "id": "jYJLMOcHgwRv",
        "outputId": "0cada902-47fb-4d90-ba71-cfd61a4d2746"
      },
      "id": "jYJLMOcHgwRv",
      "execution_count": 167,
      "outputs": [
        {
          "output_type": "execute_result",
          "data": {
            "text/plain": [
              "0.24080157687253614"
            ]
          },
          "metadata": {},
          "execution_count": 167
        }
      ]
    },
    {
      "cell_type": "code",
      "source": [
        ""
      ],
      "metadata": {
        "id": "1dVmeAAdgwI2"
      },
      "id": "1dVmeAAdgwI2",
      "execution_count": null,
      "outputs": []
    },
    {
      "cell_type": "code",
      "execution_count": null,
      "metadata": {
        "id": "sbMS28fMCITB"
      },
      "outputs": [],
      "source": [
        "# create a dictionary with hyperparameters and its values\n",
        "# gamma: Minimum loss reduction required to make a further partition on a leaf node of the tree.\n",
        "# learning_rate: Boosting learning rate\n",
        "# n_estimators: number of estimators to consider\n",
        "# pass the range of values to 'max_depth' that assigns maximum depth of the tree\n",
        "tuned_paramaters = [{'n_estimators': [100, 120, 150],\n",
        "                     'learning_rate': [0.1, 0.01, 0.001, 0.15, 0.015], \n",
        "                     'gamma': [2, 3, 4, 5, 6],\n",
        "                     'max_depth': [2, 3, 4, 5, 6]}]\n",
        " \n",
        "# instantiate the 'XGBClassifier'\n",
        "# pass the 'random_state' to obtain the same results for each time you run the code\n",
        "# n_jobs=-1 tells the model to use all the central processing units \n",
        "xgb_model = XGBClassifier(random_state = 8, n_jobs=-1)\n",
        "\n",
        "# use GridSearchCV() to find the optimal value of the hyperparameters\n",
        "# estimator: pass the decision tree classifier model\n",
        "# param_grid: pass the list 'tuned_parameters'\n",
        "# cv: number of folds in k-fold i.e. here cv = 5\n",
        "# n_jobs=-1 tells the model to use all the central processing units \n",
        "xgb_grid = GridSearchCV(estimator = xgb_model, \n",
        "                         param_grid = tuned_paramaters, \n",
        "                         cv = 5, \n",
        "                         n_jobs=-1)\n",
        "\n",
        "# fit the model on X_train and y_train using fit()\n",
        "xgb_grid.fit(x_res, y_res)\n",
        "\n",
        "# get the best parameters\n",
        "print('Best parameters for Extreme Gradient Boositng Classifier: ', xgb_grid.best_params_, '\\n')"
      ],
      "id": "sbMS28fMCITB"
    },
    {
      "cell_type": "code",
      "source": [
        "pred = lr.predict(test.drop(['ID','Default'] , axis = 1)).astype(int)\n",
        "test['Default'] = pred\n",
        "submission_TVS = pd.DataFrame(test[['ID' , 'Default']])\n",
        "submission_TVS.ID = submission_TVS.ID.astype(int)\n",
        "submission_TVS.head()\n"
      ],
      "metadata": {
        "id": "FRB_vPl4b8QP"
      },
      "id": "FRB_vPl4b8QP",
      "execution_count": null,
      "outputs": []
    },
    {
      "cell_type": "code",
      "source": [
        "from google.colab import files\n",
        "\n",
        "submission_TVS.to_csv('Submission_TVS.csv') \n",
        "files.download('Submission_TVS.csv')"
      ],
      "metadata": {
        "id": "Xxttg204b8N8"
      },
      "id": "Xxttg204b8N8",
      "execution_count": null,
      "outputs": []
    },
    {
      "cell_type": "markdown",
      "id": "135c1058",
      "metadata": {
        "id": "135c1058"
      },
      "source": [
        "## Descriptive Section"
      ]
    },
    {
      "cell_type": "markdown",
      "id": "99111297",
      "metadata": {
        "id": "99111297"
      },
      "source": [
        "### Q) Once you have a mechanism to estimate the “level of default”, please describe how the financial institution must use that mechanism to decide whether to approve or decline the prospect for the loan they are applying for. \n",
        "##### (This is an open-ended question and you are free to come up with a detailed explanation basis the analysis, model building exercise you have carried out)"
      ]
    },
    {
      "cell_type": "markdown",
      "source": [
        "There is lot of rejection for the Default as we have seen the classes of Default were around 73:27 so there will be lot of default 0 in the realtime."
      ],
      "metadata": {
        "id": "et_LvGwu2VNM"
      },
      "id": "et_LvGwu2VNM"
    },
    {
      "cell_type": "code",
      "execution_count": null,
      "id": "6c6fc2ea",
      "metadata": {
        "id": "6c6fc2ea"
      },
      "outputs": [],
      "source": [
        ""
      ]
    }
  ],
  "metadata": {
    "kernelspec": {
      "display_name": "Python 3",
      "language": "python",
      "name": "python3"
    },
    "language_info": {
      "codemirror_mode": {
        "name": "ipython",
        "version": 3
      },
      "file_extension": ".py",
      "mimetype": "text/x-python",
      "name": "python",
      "nbconvert_exporter": "python",
      "pygments_lexer": "ipython3",
      "version": "3.8.8"
    },
    "colab": {
      "name": "Reference-Jupyter_Notebook.ipynb",
      "provenance": [],
      "collapsed_sections": []
    },
    "gpuClass": "standard"
  },
  "nbformat": 4,
  "nbformat_minor": 5
}